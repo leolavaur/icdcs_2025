{
 "cells": [
  {
   "cell_type": "markdown",
   "metadata": {},
   "source": [
    "# Part II: The Power of Federated Learning for Network Security\n",
    "\n",
    "[![Open In Colab](https://colab.research.google.com/assets/colab-badge.svg)](https://colab.research.google.com/github/leolavaur/icdcs_2025/blob/main/notebooks/part2.ipynb)\n",
    "\n",
    "In this second part, we will look at FL as a solution to the problem of sharing network data to train IDSs. We will use NSL-KDD, a commonly used (and sometimes criticized) dataset for training IDSs, and a simple neural network architecture to train our model. The IDS use case involves NIID data, so we will also see how FL can be used to *share knowledge* between different institutions.\n",
    "\n",
    "## Section 0: Prerequisites\n",
    "\n",
    "### Dependencies\n",
    "\n",
    "> Be advised that Google collab currently does not support the latest versions of Python (limited to 3.11.13).\n",
    "> The present notebook has been designed to work with Python 3.11, and may not work with earlier or later versions.\n",
    "> Please ensure that you have the correct Python version.\n",
    "\n",
    "If you are running this notebook in Google Colab, you can install the required dependencies by running the following cell. Otherwise, you can install them in your local environment using `uv` or `pip`.\n"
   ]
  },
  {
   "cell_type": "code",
   "execution_count": null,
   "metadata": {},
   "outputs": [],
   "source": [
    "%load_ext autoreload\n",
    "%autoreload 2\n",
    "\n",
    "from IPython.core.getipython import get_ipython\n",
    "\n",
    "if \"google.colab\" in str(get_ipython()):\n",
    "    !git clone https://github.com/leolavaur/icdcs_2025\n",
    "    %pip install -r icdcs_2025/requirements.txt\n",
    "    !cp -r icdcs_2025/notebooks/utils/ ."
   ]
  },
  {
   "cell_type": "markdown",
   "metadata": {},
   "source": [
    "Once you have a working environment, check that everything works, notably your GPU for the TensorFlow backend.\n",
    "You can do so by running the following cell:"
   ]
  },
  {
   "cell_type": "code",
   "execution_count": 2,
   "metadata": {},
   "outputs": [
    {
     "name": "stderr",
     "output_type": "stream",
     "text": [
      "2025-07-19 19:42:38.345843: I tensorflow/core/util/port.cc:153] oneDNN custom operations are on. You may see slightly different numerical results due to floating-point round-off errors from different computation orders. To turn them off, set the environment variable `TF_ENABLE_ONEDNN_OPTS=0`.\n",
      "2025-07-19 19:42:38.360593: E external/local_xla/xla/stream_executor/cuda/cuda_fft.cc:467] Unable to register cuFFT factory: Attempting to register factory for plugin cuFFT when one has already been registered\n",
      "WARNING: All log messages before absl::InitializeLog() is called are written to STDERR\n",
      "E0000 00:00:1752946958.376541  100372 cuda_dnn.cc:8579] Unable to register cuDNN factory: Attempting to register factory for plugin cuDNN when one has already been registered\n",
      "E0000 00:00:1752946958.381265  100372 cuda_blas.cc:1407] Unable to register cuBLAS factory: Attempting to register factory for plugin cuBLAS when one has already been registered\n",
      "W0000 00:00:1752946958.393430  100372 computation_placer.cc:177] computation placer already registered. Please check linkage and avoid linking the same target more than once.\n",
      "W0000 00:00:1752946958.393457  100372 computation_placer.cc:177] computation placer already registered. Please check linkage and avoid linking the same target more than once.\n",
      "W0000 00:00:1752946958.393458  100372 computation_placer.cc:177] computation placer already registered. Please check linkage and avoid linking the same target more than once.\n",
      "W0000 00:00:1752946958.393459  100372 computation_placer.cc:177] computation placer already registered. Please check linkage and avoid linking the same target more than once.\n",
      "2025-07-19 19:42:38.398242: I tensorflow/core/platform/cpu_feature_guard.cc:210] This TensorFlow binary is optimized to use available CPU instructions in performance-critical operations.\n",
      "To enable the following instructions: AVX2 AVX_VNNI FMA, in other operations, rebuild TensorFlow with the appropriate compiler flags.\n"
     ]
    },
    {
     "name": "stdout",
     "output_type": "stream",
     "text": [
      "TensorFlow version: 2.19.0\n",
      "Num GPUs Available: 0\n"
     ]
    },
    {
     "name": "stderr",
     "output_type": "stream",
     "text": [
      "2025-07-19 19:42:41.000673: E external/local_xla/xla/stream_executor/cuda/cuda_platform.cc:51] failed call to cuInit: INTERNAL: CUDA error: Failed call to cuInit: UNKNOWN ERROR (303)\n"
     ]
    }
   ],
   "source": [
    "import tensorflow as tf\n",
    "from IPython.utils import io\n",
    "\n",
    "with io.capture_output(stdout=False) as _:\n",
    "    print(\"TensorFlow version:\", tf.__version__)\n",
    "    print(f\"Num GPUs Available: {len(tf.config.list_physical_devices('GPU'))}\")"
   ]
  },
  {
   "cell_type": "markdown",
   "metadata": {},
   "source": [
    "To allow others to reproduce your results with some degree of certitude, set a seed for all the pseudo-random number generators (PRNG) that you use.\n",
    "You should also run your threads deterministically, in case your ML backend optimize training.\n",
    "This will have a negative impact on the performance.\n",
    "On TensorFlow: "
   ]
  },
  {
   "cell_type": "code",
   "execution_count": 3,
   "metadata": {},
   "outputs": [],
   "source": [
    "import keras\n",
    "\n",
    "keras.utils.set_random_seed(1138)"
   ]
  },
  {
   "cell_type": "markdown",
   "metadata": {},
   "source": [
    "### Section 1: Data exploration "
   ]
  },
  {
   "cell_type": "markdown",
   "metadata": {},
   "source": [
    "In this section, we will explore the NSL-KDD dataset and partition it into train and test sets. We will also create a function to generate IID and NIID data partitions.\n",
    "\n",
    "NSL-KDD is a set of network flows that have been labeled as either \"normal\" or one of the 22 attack clasees. The dataset is actually a modified version of the original KDD Cup 1999 dataset, which has been criticized for containing duplicate records and for not being representative of modern network traffic. NSL-KDD is a newer version of the dataset that addresses these issues. It is commonly used for training IDSs, but is still made of outdated data. For FL experiment however, it is interesting because of the amount of resources on this dataset in the literature."
   ]
  },
  {
   "cell_type": "code",
   "execution_count": 4,
   "metadata": {},
   "outputs": [
    {
     "name": "stdout",
     "output_type": "stream",
     "text": [
      "Dataset zip already exists.\n",
      "Dataset already extracted.\n"
     ]
    },
    {
     "data": {
      "text/plain": [
       "DatasetDict({\n",
       "    train: Dataset({\n",
       "        features: ['duration', 'protocol_type', 'service', 'flag', 'src_bytes', 'dst_bytes', 'land', 'wrong_fragment', 'urgent', 'hot', 'num_failed_logins', 'logged_in', 'num_compromised', 'root_shell', 'su_attempted', 'num_root', 'num_file_creations', 'num_shells', 'num_access_files', 'num_outbound_cmds', 'is_host_login', 'is_guest_login', 'count', 'srv_count', 'serror_rate', 'srv_serror_rate', 'rerror_rate', 'srv_rerror_rate', 'same_srv_rate', 'diff_srv_rate', 'srv_diff_host_rate', 'dst_host_count', 'dst_host_srv_count', 'dst_host_same_srv_rate', 'dst_host_diff_srv_rate', 'dst_host_same_src_port_rate', 'dst_host_srv_diff_host_rate', 'dst_host_serror_rate', 'dst_host_srv_serror_rate', 'dst_host_rerror_rate', 'dst_host_srv_rerror_rate', 'label', 'binary_label'],\n",
       "        num_rows: 125973\n",
       "    })\n",
       "    test: Dataset({\n",
       "        features: ['duration', 'protocol_type', 'service', 'flag', 'src_bytes', 'dst_bytes', 'land', 'wrong_fragment', 'urgent', 'hot', 'num_failed_logins', 'logged_in', 'num_compromised', 'root_shell', 'su_attempted', 'num_root', 'num_file_creations', 'num_shells', 'num_access_files', 'num_outbound_cmds', 'is_host_login', 'is_guest_login', 'count', 'srv_count', 'serror_rate', 'srv_serror_rate', 'rerror_rate', 'srv_rerror_rate', 'same_srv_rate', 'diff_srv_rate', 'srv_diff_host_rate', 'dst_host_count', 'dst_host_srv_count', 'dst_host_same_srv_rate', 'dst_host_diff_srv_rate', 'dst_host_same_src_port_rate', 'dst_host_srv_diff_host_rate', 'dst_host_serror_rate', 'dst_host_srv_serror_rate', 'dst_host_rerror_rate', 'dst_host_srv_rerror_rate', 'label', 'binary_label'],\n",
       "        num_rows: 22544\n",
       "    })\n",
       "})"
      ]
     },
     "execution_count": 4,
     "metadata": {},
     "output_type": "execute_result"
    }
   ],
   "source": [
    "from utils.nslkdd import load_nslkdd\n",
    "\n",
    "dds = load_nslkdd()\n",
    "dds"
   ]
  },
  {
   "cell_type": "code",
   "execution_count": 5,
   "metadata": {},
   "outputs": [
    {
     "name": "stdout",
     "output_type": "stream",
     "text": [
      "Number of features: 41\n",
      "Length of training set: 125973\n",
      "Length of test set: 22544\n",
      "Label distribution in training set: 16    67343\n",
      "14    41214\n",
      "25     3633\n",
      "7      3599\n",
      "20     2931\n",
      "27     2646\n",
      "15     1493\n",
      "1       956\n",
      "32      892\n",
      "34      890\n",
      "19      201\n",
      "4        53\n",
      "2        30\n",
      "35       20\n",
      "8        18\n",
      "6        11\n",
      "23       10\n",
      "9         9\n",
      "3         8\n",
      "12        7\n",
      "18        4\n",
      "17        3\n",
      "30        2\n",
      "Name: count, dtype: int64\n"
     ]
    }
   ],
   "source": [
    "import pandas as pd\n",
    "\n",
    "print(\n",
    "    \"Number of features:\",\n",
    "    len([feat for feat in dds[\"train\"].features if \"label\" not in feat]),\n",
    ")\n",
    "print(\"Length of training set:\", len(dds[\"train\"]))\n",
    "print(\"Length of test set:\", len(dds[\"test\"]))\n",
    "print(\n",
    "    f\"Label distribution in training set: {pd.Series(dds['train']['label']).value_counts()}\"\n",
    ")"
   ]
  },
  {
   "cell_type": "markdown",
   "metadata": {},
   "source": [
    "To encode categorical features or labels, Hugging Face Datasets provides a `ClassLabel` feature type that replaces the string labels with integer indices."
   ]
  },
  {
   "cell_type": "code",
   "execution_count": 6,
   "metadata": {},
   "outputs": [
    {
     "name": "stdout",
     "output_type": "stream",
     "text": [
      "Attack labels: ['apache2', 'back', 'buffer_overflow', 'ftp_write', 'guess_passwd', 'httptunnel', 'imap', 'ipsweep', 'land', 'loadmodule', 'mailbomb', 'mscan', 'multihop', 'named', 'neptune', 'nmap', 'normal', 'perl', 'phf', 'pod', 'portsweep', 'processtable', 'ps', 'rootkit', 'saint', 'satan', 'sendmail', 'smurf', 'snmpgetattack', 'snmpguess', 'spy', 'sqlattack', 'teardrop', 'udpstorm', 'warezclient', 'warezmaster', 'worm', 'xlock', 'xsnoop', 'xterm']\n",
      "Features: ['duration', 'protocol_type', 'service', 'flag', 'src_bytes', 'dst_bytes', 'land', 'wrong_fragment', 'urgent', 'hot', 'num_failed_logins', 'logged_in', 'num_compromised', 'root_shell', 'su_attempted', 'num_root', 'num_file_creations', 'num_shells', 'num_access_files', 'num_outbound_cmds', 'is_host_login', 'is_guest_login', 'count', 'srv_count', 'serror_rate', 'srv_serror_rate', 'rerror_rate', 'srv_rerror_rate', 'same_srv_rate', 'diff_srv_rate', 'srv_diff_host_rate', 'dst_host_count', 'dst_host_srv_count', 'dst_host_same_srv_rate', 'dst_host_diff_srv_rate', 'dst_host_same_src_port_rate', 'dst_host_srv_diff_host_rate', 'dst_host_serror_rate', 'dst_host_srv_serror_rate', 'dst_host_rerror_rate', 'dst_host_srv_rerror_rate']\n"
     ]
    }
   ],
   "source": [
    "ATTACK_LABELS = dds[\"train\"].features[\"label\"].names\n",
    "print(\"Attack labels:\", ATTACK_LABELS)\n",
    "FEATURES = [feat for feat in dds[\"train\"].features if \"label\" not in feat]\n",
    "print(\"Features:\", FEATURES)"
   ]
  },
  {
   "cell_type": "code",
   "execution_count": 7,
   "metadata": {},
   "outputs": [
    {
     "name": "stdout",
     "output_type": "stream",
     "text": [
      "Benign       67343\n",
      "Malicious    58630\n",
      "Name: count, dtype: int64\n",
      "% of malicious samples in training set: 46.54171925730117\n"
     ]
    }
   ],
   "source": [
    "count = (\n",
    "    pd.Series(dds[\"train\"][\"binary_label\"])\n",
    "    .value_counts()\n",
    "    .set_axis([\"Benign\", \"Malicious\"])\n",
    ")\n",
    "print(count)\n",
    "print(\"% of malicious samples in training set:\", count[\"Malicious\"] / count.sum() * 100)"
   ]
  },
  {
   "cell_type": "code",
   "execution_count": 8,
   "metadata": {},
   "outputs": [
    {
     "data": {
      "application/vnd.jupyter.widget-view+json": {
       "model_id": "54a99d9992f8464a9c8623cb794eff32",
       "version_major": 2,
       "version_minor": 0
      },
      "text/plain": [
       "Filter:   0%|          | 0/12598 [00:00<?, ? examples/s]"
      ]
     },
     "metadata": {},
     "output_type": "display_data"
    },
    {
     "data": {
      "application/vnd.jupyter.widget-view+json": {
       "model_id": "6df2a4a08f494caf981d8d0afdb062b8",
       "version_major": 2,
       "version_minor": 0
      },
      "text/plain": [
       "Filter:   0%|          | 0/12598 [00:00<?, ? examples/s]"
      ]
     },
     "metadata": {},
     "output_type": "display_data"
    },
    {
     "data": {
      "application/vnd.jupyter.widget-view+json": {
       "model_id": "c882d125189c4594be17eda403e586ee",
       "version_major": 2,
       "version_minor": 0
      },
      "text/plain": [
       "Filter:   0%|          | 0/12598 [00:00<?, ? examples/s]"
      ]
     },
     "metadata": {},
     "output_type": "display_data"
    },
    {
     "data": {
      "application/vnd.jupyter.widget-view+json": {
       "model_id": "1dea558317c64c20a9f048eaeaaa6ff2",
       "version_major": 2,
       "version_minor": 0
      },
      "text/plain": [
       "Filter:   0%|          | 0/12598 [00:00<?, ? examples/s]"
      ]
     },
     "metadata": {},
     "output_type": "display_data"
    },
    {
     "data": {
      "application/vnd.jupyter.widget-view+json": {
       "model_id": "03b08be4cf19483c95c3d698d1b0d4bb",
       "version_major": 2,
       "version_minor": 0
      },
      "text/plain": [
       "Filter:   0%|          | 0/12597 [00:00<?, ? examples/s]"
      ]
     },
     "metadata": {},
     "output_type": "display_data"
    },
    {
     "data": {
      "application/vnd.jupyter.widget-view+json": {
       "model_id": "92b6cd29a16d4f1c80db4a7ec7cbb7ba",
       "version_major": 2,
       "version_minor": 0
      },
      "text/plain": [
       "Filter:   0%|          | 0/12597 [00:00<?, ? examples/s]"
      ]
     },
     "metadata": {},
     "output_type": "display_data"
    },
    {
     "data": {
      "application/vnd.jupyter.widget-view+json": {
       "model_id": "0836c8f91da64b8690f4bedaca1db352",
       "version_major": 2,
       "version_minor": 0
      },
      "text/plain": [
       "Filter:   0%|          | 0/12597 [00:00<?, ? examples/s]"
      ]
     },
     "metadata": {},
     "output_type": "display_data"
    },
    {
     "data": {
      "application/vnd.jupyter.widget-view+json": {
       "model_id": "678f2cf7c5274314a398237ec76fc92d",
       "version_major": 2,
       "version_minor": 0
      },
      "text/plain": [
       "Filter:   0%|          | 0/12597 [00:00<?, ? examples/s]"
      ]
     },
     "metadata": {},
     "output_type": "display_data"
    },
    {
     "data": {
      "application/vnd.jupyter.widget-view+json": {
       "model_id": "6d58272619de4d44a289a6d1c8fb815c",
       "version_major": 2,
       "version_minor": 0
      },
      "text/plain": [
       "Filter:   0%|          | 0/12597 [00:00<?, ? examples/s]"
      ]
     },
     "metadata": {},
     "output_type": "display_data"
    },
    {
     "data": {
      "application/vnd.jupyter.widget-view+json": {
       "model_id": "a911f7717f2a45eda29cccfad5ecc8c1",
       "version_major": 2,
       "version_minor": 0
      },
      "text/plain": [
       "Filter:   0%|          | 0/12597 [00:00<?, ? examples/s]"
      ]
     },
     "metadata": {},
     "output_type": "display_data"
    },
    {
     "data": {
      "application/vnd.jupyter.widget-view+json": {
       "model_id": "ddb700c39a1d43559c995d8d28b2e047",
       "version_major": 2,
       "version_minor": 0
      },
      "text/plain": [
       "Filter:   0%|          | 0/12597 [00:00<?, ? examples/s]"
      ]
     },
     "metadata": {},
     "output_type": "display_data"
    },
    {
     "data": {
      "text/plain": [
       "<matplotlib.legend.Legend at 0x779c6eb32310>"
      ]
     },
     "execution_count": 8,
     "metadata": {},
     "output_type": "execute_result"
    },
    {
     "data": {
      "image/png": "[encoded data removed]",
      "text/plain": [
       "<Figure size 800x300 with 3 Axes>"
      ]
     },
     "metadata": {},
     "output_type": "display_data"
    }
   ],
   "source": [
    "import matplotlib.pyplot as plt\n",
    "from flwr_datasets.partitioner import IidPartitioner, DirichletPartitioner\n",
    "from flwr_datasets.visualization import plot_label_distributions\n",
    "\n",
    "from utils.partition import ClassDropPartitioner\n",
    "\n",
    "NUM_CLIENTS = 10\n",
    "\n",
    "fig = plt.figure(figsize=(8, 3), constrained_layout=True)\n",
    "axs = fig.subplots(1, 3)\n",
    "\n",
    "iid_splitter = IidPartitioner(num_partitions=NUM_CLIENTS)\n",
    "iid_splitter.dataset = dds[\"train\"]\n",
    "_ = plot_label_distributions(\n",
    "    iid_splitter, label_name=\"label\", axis=axs[0], title=\"IidPartitioner\"\n",
    ")\n",
    "\n",
    "dirichlet_splitter = DirichletPartitioner(\n",
    "    num_partitions=NUM_CLIENTS, partition_by=\"label\", alpha=0.8\n",
    ")\n",
    "dirichlet_splitter.dataset = dds[\"train\"]\n",
    "_ = plot_label_distributions(\n",
    "    dirichlet_splitter, label_name=\"label\", axis=axs[2], title=\"DirichletPartitioner\"\n",
    ")\n",
    "\n",
    "drop_splitter = ClassDropPartitioner(\n",
    "    num_partitions=NUM_CLIENTS, partition_by=\"label\", n_drop=4\n",
    ")\n",
    "drop_splitter.dataset = dds[\"train\"]\n",
    "_ = plot_label_distributions(\n",
    "    drop_splitter, label_name=\"label\", axis=axs[1], title=\"ClassDropPartitioner\"\n",
    ")\n",
    "\n",
    "# Move the legend below the plot, make it more compact and readable\n",
    "handles, labels = axs[0].get_legend_handles_labels()\n",
    "fig.legend(\n",
    "    handles,\n",
    "    labels,\n",
    "    loc=\"lower center\",\n",
    "    ncol=4,  # Increase columns for compactness\n",
    "    bbox_to_anchor=(0.5, -0.65),\n",
    "    fontsize=\"small\",\n",
    "    frameon=False,\n",
    ")\n"
   ]
  },
  {
   "cell_type": "markdown",
   "metadata": {},
   "source": [
    "## Section 2: Training on centralized data"
   ]
  },
  {
   "cell_type": "code",
   "execution_count": 9,
   "metadata": {},
   "outputs": [],
   "source": [
    "BATCH_SIZE = 256\n",
    "NUM_EPOCHS = 5"
   ]
  },
  {
   "cell_type": "markdown",
   "metadata": {},
   "source": [
    "Let us prepare the data for training, namely by creating the TensorFlow dataset objects for the training and test sets, as seen in part I. "
   ]
  },
  {
   "cell_type": "code",
   "execution_count": 30,
   "metadata": {},
   "outputs": [],
   "source": [
    "from datasets import Dataset\n",
    "import tensorflow as tf\n",
    "\n",
    "\n",
    "@tf.autograph.experimental.do_not_convert\n",
    "def dict_to_tensor(features, label):\n",
    "    \"\"\"Convert a dictionary of features to a tensor.\"\"\"\n",
    "    # Stack all features as float32\n",
    "    x = tf.stack([tf.cast(features[col], tf.float32) for col in features], axis=-1)\n",
    "    return x, label\n",
    "\n",
    "\n",
    "def dataset_to_tf(dataset: Dataset, batch_size: int, shuffle: bool) -> tf.data.Dataset:\n",
    "    \"\"\"Convert a Dataset to a tf.data.Dataset.\"\"\"\n",
    "    return dataset.to_tf_dataset(\n",
    "        columns=[col for col in dataset.features if \"label\" not in col],\n",
    "        label_cols=\"binary_label\",\n",
    "        shuffle=shuffle,\n",
    "        batch_size=batch_size,\n",
    "    ).map(dict_to_tensor)\n"
   ]
  },
  {
   "cell_type": "markdown",
   "metadata": {},
   "source": [
    "Here we use a DNN architecture with 2 hidden layers of 64 neurons each. We use the Adam optimizer with an adaptive learning rate, and the binary cross-entropy loss function. The \"dropout\" layers are used to prevent overfitting by randomly dropping some neurons during training.\n",
    "\n",
    "This is a typical architecture for this use case that you can use for netflow classification tasks."
   ]
  },
  {
   "cell_type": "code",
   "execution_count": 11,
   "metadata": {},
   "outputs": [
    {
     "name": "stdout",
     "output_type": "stream",
     "text": [
      "41\n"
     ]
    },
    {
     "data": {
      "text/html": [
       "<pre style=\"white-space:pre;overflow-x:auto;line-height:normal;font-family:Menlo,'DejaVu Sans Mono',consolas,'Courier New',monospace\"><span style=\"font-weight: bold\">Model: \"sequential\"</span>\n",
       "</pre>\n"
      ],
      "text/plain": [
       "\u001b[1mModel: \"sequential\"\u001b[0m\n"
      ]
     },
     "metadata": {},
     "output_type": "display_data"
    },
    {
     "data": {
      "text/html": [
       "<pre style=\"white-space:pre;overflow-x:auto;line-height:normal;font-family:Menlo,'DejaVu Sans Mono',consolas,'Courier New',monospace\">┏━━━━━━━━━━━━━━━━━━━━━━━━━━━━━━━━━┳━━━━━━━━━━━━━━━━━━━━━━━━┳━━━━━━━━━━━━━━━┓\n",
       "┃<span style=\"font-weight: bold\"> Layer (type)                    </span>┃<span style=\"font-weight: bold\"> Output Shape           </span>┃<span style=\"font-weight: bold\">       Param # </span>┃\n",
       "┡━━━━━━━━━━━━━━━━━━━━━━━━━━━━━━━━━╇━━━━━━━━━━━━━━━━━━━━━━━━╇━━━━━━━━━━━━━━━┩\n",
       "│ normalization (<span style=\"color: #0087ff; text-decoration-color: #0087ff\">Normalization</span>)   │ (<span style=\"color: #00d7ff; text-decoration-color: #00d7ff\">None</span>, <span style=\"color: #00af00; text-decoration-color: #00af00\">41</span>)             │             <span style=\"color: #00af00; text-decoration-color: #00af00\">0</span> │\n",
       "├─────────────────────────────────┼────────────────────────┼───────────────┤\n",
       "│ dense (<span style=\"color: #0087ff; text-decoration-color: #0087ff\">Dense</span>)                   │ (<span style=\"color: #00d7ff; text-decoration-color: #00d7ff\">None</span>, <span style=\"color: #00af00; text-decoration-color: #00af00\">64</span>)             │         <span style=\"color: #00af00; text-decoration-color: #00af00\">2,688</span> │\n",
       "├─────────────────────────────────┼────────────────────────┼───────────────┤\n",
       "│ dropout (<span style=\"color: #0087ff; text-decoration-color: #0087ff\">Dropout</span>)               │ (<span style=\"color: #00d7ff; text-decoration-color: #00d7ff\">None</span>, <span style=\"color: #00af00; text-decoration-color: #00af00\">64</span>)             │             <span style=\"color: #00af00; text-decoration-color: #00af00\">0</span> │\n",
       "├─────────────────────────────────┼────────────────────────┼───────────────┤\n",
       "│ dense_1 (<span style=\"color: #0087ff; text-decoration-color: #0087ff\">Dense</span>)                 │ (<span style=\"color: #00d7ff; text-decoration-color: #00d7ff\">None</span>, <span style=\"color: #00af00; text-decoration-color: #00af00\">32</span>)             │         <span style=\"color: #00af00; text-decoration-color: #00af00\">2,080</span> │\n",
       "├─────────────────────────────────┼────────────────────────┼───────────────┤\n",
       "│ dropout_1 (<span style=\"color: #0087ff; text-decoration-color: #0087ff\">Dropout</span>)             │ (<span style=\"color: #00d7ff; text-decoration-color: #00d7ff\">None</span>, <span style=\"color: #00af00; text-decoration-color: #00af00\">32</span>)             │             <span style=\"color: #00af00; text-decoration-color: #00af00\">0</span> │\n",
       "├─────────────────────────────────┼────────────────────────┼───────────────┤\n",
       "│ dense_2 (<span style=\"color: #0087ff; text-decoration-color: #0087ff\">Dense</span>)                 │ (<span style=\"color: #00d7ff; text-decoration-color: #00d7ff\">None</span>, <span style=\"color: #00af00; text-decoration-color: #00af00\">1</span>)              │            <span style=\"color: #00af00; text-decoration-color: #00af00\">33</span> │\n",
       "└─────────────────────────────────┴────────────────────────┴───────────────┘\n",
       "</pre>\n"
      ],
      "text/plain": [
       "┏━━━━━━━━━━━━━━━━━━━━━━━━━━━━━━━━━┳━━━━━━━━━━━━━━━━━━━━━━━━┳━━━━━━━━━━━━━━━┓\n",
       "┃\u001b[1m \u001b[0m\u001b[1mLayer (type)                   \u001b[0m\u001b[1m \u001b[0m┃\u001b[1m \u001b[0m\u001b[1mOutput Shape          \u001b[0m\u001b[1m \u001b[0m┃\u001b[1m \u001b[0m\u001b[1m      Param #\u001b[0m\u001b[1m \u001b[0m┃\n",
       "┡━━━━━━━━━━━━━━━━━━━━━━━━━━━━━━━━━╇━━━━━━━━━━━━━━━━━━━━━━━━╇━━━━━━━━━━━━━━━┩\n",
       "│ normalization (\u001b[38;5;33mNormalization\u001b[0m)   │ (\u001b[38;5;45mNone\u001b[0m, \u001b[38;5;34m41\u001b[0m)             │             \u001b[38;5;34m0\u001b[0m │\n",
       "├─────────────────────────────────┼────────────────────────┼───────────────┤\n",
       "│ dense (\u001b[38;5;33mDense\u001b[0m)                   │ (\u001b[38;5;45mNone\u001b[0m, \u001b[38;5;34m64\u001b[0m)             │         \u001b[38;5;34m2,688\u001b[0m │\n",
       "├─────────────────────────────────┼────────────────────────┼───────────────┤\n",
       "│ dropout (\u001b[38;5;33mDropout\u001b[0m)               │ (\u001b[38;5;45mNone\u001b[0m, \u001b[38;5;34m64\u001b[0m)             │             \u001b[38;5;34m0\u001b[0m │\n",
       "├─────────────────────────────────┼────────────────────────┼───────────────┤\n",
       "│ dense_1 (\u001b[38;5;33mDense\u001b[0m)                 │ (\u001b[38;5;45mNone\u001b[0m, \u001b[38;5;34m32\u001b[0m)             │         \u001b[38;5;34m2,080\u001b[0m │\n",
       "├─────────────────────────────────┼────────────────────────┼───────────────┤\n",
       "│ dropout_1 (\u001b[38;5;33mDropout\u001b[0m)             │ (\u001b[38;5;45mNone\u001b[0m, \u001b[38;5;34m32\u001b[0m)             │             \u001b[38;5;34m0\u001b[0m │\n",
       "├─────────────────────────────────┼────────────────────────┼───────────────┤\n",
       "│ dense_2 (\u001b[38;5;33mDense\u001b[0m)                 │ (\u001b[38;5;45mNone\u001b[0m, \u001b[38;5;34m1\u001b[0m)              │            \u001b[38;5;34m33\u001b[0m │\n",
       "└─────────────────────────────────┴────────────────────────┴───────────────┘\n"
      ]
     },
     "metadata": {},
     "output_type": "display_data"
    },
    {
     "data": {
      "text/html": [
       "<pre style=\"white-space:pre;overflow-x:auto;line-height:normal;font-family:Menlo,'DejaVu Sans Mono',consolas,'Courier New',monospace\"><span style=\"font-weight: bold\"> Total params: </span><span style=\"color: #00af00; text-decoration-color: #00af00\">4,801</span> (18.75 KB)\n",
       "</pre>\n"
      ],
      "text/plain": [
       "\u001b[1m Total params: \u001b[0m\u001b[38;5;34m4,801\u001b[0m (18.75 KB)\n"
      ]
     },
     "metadata": {},
     "output_type": "display_data"
    },
    {
     "data": {
      "text/html": [
       "<pre style=\"white-space:pre;overflow-x:auto;line-height:normal;font-family:Menlo,'DejaVu Sans Mono',consolas,'Courier New',monospace\"><span style=\"font-weight: bold\"> Trainable params: </span><span style=\"color: #00af00; text-decoration-color: #00af00\">4,801</span> (18.75 KB)\n",
       "</pre>\n"
      ],
      "text/plain": [
       "\u001b[1m Trainable params: \u001b[0m\u001b[38;5;34m4,801\u001b[0m (18.75 KB)\n"
      ]
     },
     "metadata": {},
     "output_type": "display_data"
    },
    {
     "data": {
      "text/html": [
       "<pre style=\"white-space:pre;overflow-x:auto;line-height:normal;font-family:Menlo,'DejaVu Sans Mono',consolas,'Courier New',monospace\"><span style=\"font-weight: bold\"> Non-trainable params: </span><span style=\"color: #00af00; text-decoration-color: #00af00\">0</span> (0.00 B)\n",
       "</pre>\n"
      ],
      "text/plain": [
       "\u001b[1m Non-trainable params: \u001b[0m\u001b[38;5;34m0\u001b[0m (0.00 B)\n"
      ]
     },
     "metadata": {},
     "output_type": "display_data"
    }
   ],
   "source": [
    "import keras\n",
    "from keras.optimizers import Adam\n",
    "\n",
    "n_features = len([feat for feat in dds[\"train\"].features if \"label\" not in feat])\n",
    "print(n_features)\n",
    "\n",
    "# Compute mean and std for numerical features\n",
    "train_numpy = dds[\"train\"].to_pandas()\n",
    "means = train_numpy[FEATURES].mean().values\n",
    "stds = train_numpy[FEATURES].std().values\n",
    "\n",
    "\n",
    "def mk_model() -> keras.Model:\n",
    "    model = keras.models.Sequential(\n",
    "        [\n",
    "            keras.layers.Input(shape=(n_features,)),\n",
    "            keras.layers.Normalization(mean=means, variance=stds**2),\n",
    "            keras.layers.Dense(64, activation=\"relu\"),\n",
    "            keras.layers.Dropout(0.5),\n",
    "            keras.layers.Dense(32, activation=\"relu\"),\n",
    "            keras.layers.Dropout(0.5),\n",
    "            keras.layers.Dense(1, activation=\"sigmoid\"),\n",
    "        ]\n",
    "    )\n",
    "\n",
    "    model.compile(\n",
    "        loss=\"binary_crossentropy\",\n",
    "        optimizer=\"adam\",\n",
    "        metrics=[\"accuracy\"],\n",
    "    )\n",
    "    return model\n",
    "\n",
    "\n",
    "mk_model().summary()"
   ]
  },
  {
   "cell_type": "markdown",
   "metadata": {},
   "source": [
    "This new model is barely more complex than the previous one, but it is a good starting point for our FL experiments.\n",
    "We will also need new evaluation functions that deal with binary classification tasks while also providing per attack class metrics."
   ]
  },
  {
   "cell_type": "code",
   "execution_count": 12,
   "metadata": {},
   "outputs": [],
   "source": [
    "from typing import cast\n",
    "from datasets import Dataset\n",
    "import flwr\n",
    "import numpy as np\n",
    "from sklearn.metrics import confusion_matrix\n",
    "\n",
    "NUM_ROUNDS = 10\n",
    "\n",
    "\n",
    "def get_evaluate_fn(testset: Dataset):\n",
    "    \"\"\"Return an evaluation function for server-side (i.e. centralized) evaluation.\"\"\"\n",
    "    history: list[dict[str, float]] = []\n",
    "\n",
    "    test_tf = dataset_to_tf(testset, batch_size=BATCH_SIZE, shuffle=False)\n",
    "\n",
    "    # The `evaluate` function will be called after every round by the strategy\n",
    "    def evaluate_fn(\n",
    "        server_round: int,\n",
    "        parameters: flwr.common.NDArrays,\n",
    "        config: dict[str, flwr.common.Scalar],\n",
    "    ):\n",
    "        if server_round == NUM_ROUNDS:\n",
    "            # Save final model\n",
    "            np.save(\"fl_weights\", np.array(parameters, dtype=object))\n",
    "\n",
    "        model = mk_model()  # Construct the model\n",
    "        model.set_weights(parameters)  # Update model with the latest parameters\n",
    "        loss, _ = model.evaluate(test_tf, verbose=cast(str, 0))\n",
    "\n",
    "        inferences = model.predict(test_tf, verbose=cast(str, 0))\n",
    "        y_pred = np.round(inferences)\n",
    "        y_true = np.array(testset[\"binary_label\"])\n",
    "\n",
    "        cm = confusion_matrix(y_true, y_pred)\n",
    "        tn, fp, fn, tp = cm.ravel()\n",
    "\n",
    "        metrics = {\n",
    "            \"accuracy\": (tn + tp) / (tn + fp + fn + tp),\n",
    "            \"precision\": tp / (tp + fp),\n",
    "            \"recall\": tp / (tp + fn),\n",
    "            \"f1\": 2 * tp / (2 * tp + fp + fn),\n",
    "            \"miss_rate\": fn / (fn + tp),\n",
    "        }\n",
    "\n",
    "        history.append(metrics | {\"round\": server_round, \"loss\": loss})\n",
    "\n",
    "        return (loss, metrics)\n",
    "\n",
    "    return evaluate_fn, history\n",
    "\n",
    "\n",
    "def eval_model(parameters, testset: Dataset):\n",
    "    \"\"\"Evaluate the model with the given parameters on the test dataset.\"\"\"\n",
    "    fn, _ = get_evaluate_fn(testset)\n",
    "    loss, metrics = fn(0, parameters, {})\n",
    "    return {\"loss\": loss} | metrics\n",
    "\n",
    "\n",
    "def eval_classes(parameters, testset):\n",
    "    \"\"\"Evaluate the model with the given parameters on the test dataset, per class.\"\"\"\n",
    "    model = mk_model()\n",
    "    model.set_weights(parameters)\n",
    "\n",
    "    class_array = np.array(testset[\"label\"])\n",
    "    test_tf = dataset_to_tf(testset, batch_size=BATCH_SIZE, shuffle=False)\n",
    "\n",
    "    inferences = model.predict(test_tf, verbose=cast(str, 0))\n",
    "    y_pred = np.round(inferences).reshape(-1)\n",
    "    y_true = np.array(testset[\"binary_label\"])\n",
    "\n",
    "    classes_stats = {}\n",
    "    for cls in set(class_array):\n",
    "        class_filter = class_array == cls\n",
    "        count = sum(class_filter)\n",
    "        if not (count > 0):\n",
    "            continue\n",
    "        correct = sum(class_filter & (y_true == y_pred))\n",
    "        missed = sum(class_filter & (y_true != y_pred))\n",
    "\n",
    "        classes_stats[cls] = {\n",
    "            \"count\": count,\n",
    "            \"correct\": correct,\n",
    "            \"missed\": missed,\n",
    "            \"rate\": correct / count,\n",
    "        }\n",
    "    ret = pd.DataFrame(classes_stats).T\n",
    "    ret.index = [testset.features[\"label\"].int2str(i) for i in ret.index]\n",
    "    return ret\n"
   ]
  },
  {
   "cell_type": "markdown",
   "metadata": {},
   "source": [
    "Let's test!"
   ]
  },
  {
   "cell_type": "code",
   "execution_count": 13,
   "metadata": {},
   "outputs": [
    {
     "name": "stdout",
     "output_type": "stream",
     "text": [
      "Epoch 1/5\n",
      "\u001b[1m493/493\u001b[0m \u001b[32m━━━━━━━━━━━━━━━━━━━━\u001b[0m\u001b[37m\u001b[0m \u001b[1m23s\u001b[0m 44ms/step - accuracy: 0.9042 - loss: 0.2491\n",
      "Epoch 2/5\n",
      "\u001b[1m493/493\u001b[0m \u001b[32m━━━━━━━━━━━━━━━━━━━━\u001b[0m\u001b[37m\u001b[0m \u001b[1m26s\u001b[0m 53ms/step - accuracy: 0.9694 - loss: 0.0838\n",
      "Epoch 3/5\n",
      "\u001b[1m493/493\u001b[0m \u001b[32m━━━━━━━━━━━━━━━━━━━━\u001b[0m\u001b[37m\u001b[0m \u001b[1m23s\u001b[0m 47ms/step - accuracy: 0.9774 - loss: 0.0618\n",
      "Epoch 4/5\n",
      "\u001b[1m493/493\u001b[0m \u001b[32m━━━━━━━━━━━━━━━━━━━━\u001b[0m\u001b[37m\u001b[0m \u001b[1m26s\u001b[0m 53ms/step - accuracy: 0.9839 - loss: 0.0484\n",
      "Epoch 5/5\n",
      "\u001b[1m493/493\u001b[0m \u001b[32m━━━━━━━━━━━━━━━━━━━━\u001b[0m\u001b[37m\u001b[0m \u001b[1m21s\u001b[0m 42ms/step - accuracy: 0.9871 - loss: 0.0428\n"
     ]
    },
    {
     "data": {
      "text/plain": [
       "<keras.src.callbacks.history.History at 0x779c444587d0>"
      ]
     },
     "execution_count": 13,
     "metadata": {},
     "output_type": "execute_result"
    }
   ],
   "source": [
    "train_tf = dataset_to_tf(dds[\"train\"], batch_size=BATCH_SIZE, shuffle=True)\n",
    "\n",
    "model = mk_model()\n",
    "\n",
    "model.fit(train_tf, epochs=NUM_EPOCHS, verbose=1)\n"
   ]
  },
  {
   "cell_type": "code",
   "execution_count": 14,
   "metadata": {},
   "outputs": [
    {
     "data": {
      "text/plain": [
       "{'loss': 1.2970764636993408,\n",
       " 'accuracy': np.float64(0.7813165365507452),\n",
       " 'precision': np.float64(0.9741989679587183),\n",
       " 'recall': np.float64(0.6325878594249201),\n",
       " 'f1': np.float64(0.7670792780874989),\n",
       " 'miss_rate': np.float64(0.36741214057507987)}"
      ]
     },
     "execution_count": 14,
     "metadata": {},
     "output_type": "execute_result"
    }
   ],
   "source": [
    "scores_centralized = eval_model(model.get_weights(), dds[\"test\"])\n",
    "scores_centralized"
   ]
  },
  {
   "cell_type": "code",
   "execution_count": 15,
   "metadata": {},
   "outputs": [
    {
     "data": {
      "text/html": [
       "<div>\n",
       "<style scoped>\n",
       "    .dataframe tbody tr th:only-of-type {\n",
       "        vertical-align: middle;\n",
       "    }\n",
       "\n",
       "    .dataframe tbody tr th {\n",
       "        vertical-align: top;\n",
       "    }\n",
       "\n",
       "    .dataframe thead th {\n",
       "        text-align: right;\n",
       "    }\n",
       "</style>\n",
       "<table border=\"1\" class=\"dataframe\">\n",
       "  <thead>\n",
       "    <tr style=\"text-align: right;\">\n",
       "      <th></th>\n",
       "      <th>count</th>\n",
       "      <th>correct</th>\n",
       "      <th>missed</th>\n",
       "      <th>rate</th>\n",
       "    </tr>\n",
       "  </thead>\n",
       "  <tbody>\n",
       "    <tr>\n",
       "      <th>apache2</th>\n",
       "      <td>737.0</td>\n",
       "      <td>109.0</td>\n",
       "      <td>628.0</td>\n",
       "      <td>0.147897</td>\n",
       "    </tr>\n",
       "    <tr>\n",
       "      <th>back</th>\n",
       "      <td>359.0</td>\n",
       "      <td>321.0</td>\n",
       "      <td>38.0</td>\n",
       "      <td>0.894150</td>\n",
       "    </tr>\n",
       "    <tr>\n",
       "      <th>buffer_overflow</th>\n",
       "      <td>20.0</td>\n",
       "      <td>11.0</td>\n",
       "      <td>9.0</td>\n",
       "      <td>0.550000</td>\n",
       "    </tr>\n",
       "    <tr>\n",
       "      <th>ftp_write</th>\n",
       "      <td>3.0</td>\n",
       "      <td>0.0</td>\n",
       "      <td>3.0</td>\n",
       "      <td>0.000000</td>\n",
       "    </tr>\n",
       "    <tr>\n",
       "      <th>guess_passwd</th>\n",
       "      <td>1231.0</td>\n",
       "      <td>17.0</td>\n",
       "      <td>1214.0</td>\n",
       "      <td>0.013810</td>\n",
       "    </tr>\n",
       "    <tr>\n",
       "      <th>httptunnel</th>\n",
       "      <td>133.0</td>\n",
       "      <td>87.0</td>\n",
       "      <td>46.0</td>\n",
       "      <td>0.654135</td>\n",
       "    </tr>\n",
       "    <tr>\n",
       "      <th>imap</th>\n",
       "      <td>1.0</td>\n",
       "      <td>1.0</td>\n",
       "      <td>0.0</td>\n",
       "      <td>1.000000</td>\n",
       "    </tr>\n",
       "    <tr>\n",
       "      <th>ipsweep</th>\n",
       "      <td>141.0</td>\n",
       "      <td>138.0</td>\n",
       "      <td>3.0</td>\n",
       "      <td>0.978723</td>\n",
       "    </tr>\n",
       "    <tr>\n",
       "      <th>land</th>\n",
       "      <td>7.0</td>\n",
       "      <td>7.0</td>\n",
       "      <td>0.0</td>\n",
       "      <td>1.000000</td>\n",
       "    </tr>\n",
       "    <tr>\n",
       "      <th>loadmodule</th>\n",
       "      <td>2.0</td>\n",
       "      <td>0.0</td>\n",
       "      <td>2.0</td>\n",
       "      <td>0.000000</td>\n",
       "    </tr>\n",
       "    <tr>\n",
       "      <th>mailbomb</th>\n",
       "      <td>293.0</td>\n",
       "      <td>0.0</td>\n",
       "      <td>293.0</td>\n",
       "      <td>0.000000</td>\n",
       "    </tr>\n",
       "    <tr>\n",
       "      <th>mscan</th>\n",
       "      <td>996.0</td>\n",
       "      <td>580.0</td>\n",
       "      <td>416.0</td>\n",
       "      <td>0.582329</td>\n",
       "    </tr>\n",
       "    <tr>\n",
       "      <th>multihop</th>\n",
       "      <td>18.0</td>\n",
       "      <td>1.0</td>\n",
       "      <td>17.0</td>\n",
       "      <td>0.055556</td>\n",
       "    </tr>\n",
       "    <tr>\n",
       "      <th>named</th>\n",
       "      <td>17.0</td>\n",
       "      <td>0.0</td>\n",
       "      <td>17.0</td>\n",
       "      <td>0.000000</td>\n",
       "    </tr>\n",
       "    <tr>\n",
       "      <th>neptune</th>\n",
       "      <td>4657.0</td>\n",
       "      <td>4656.0</td>\n",
       "      <td>1.0</td>\n",
       "      <td>0.999785</td>\n",
       "    </tr>\n",
       "    <tr>\n",
       "      <th>nmap</th>\n",
       "      <td>73.0</td>\n",
       "      <td>73.0</td>\n",
       "      <td>0.0</td>\n",
       "      <td>1.000000</td>\n",
       "    </tr>\n",
       "    <tr>\n",
       "      <th>normal</th>\n",
       "      <td>9711.0</td>\n",
       "      <td>9496.0</td>\n",
       "      <td>215.0</td>\n",
       "      <td>0.977860</td>\n",
       "    </tr>\n",
       "    <tr>\n",
       "      <th>perl</th>\n",
       "      <td>2.0</td>\n",
       "      <td>0.0</td>\n",
       "      <td>2.0</td>\n",
       "      <td>0.000000</td>\n",
       "    </tr>\n",
       "    <tr>\n",
       "      <th>phf</th>\n",
       "      <td>2.0</td>\n",
       "      <td>1.0</td>\n",
       "      <td>1.0</td>\n",
       "      <td>0.500000</td>\n",
       "    </tr>\n",
       "    <tr>\n",
       "      <th>pod</th>\n",
       "      <td>41.0</td>\n",
       "      <td>36.0</td>\n",
       "      <td>5.0</td>\n",
       "      <td>0.878049</td>\n",
       "    </tr>\n",
       "    <tr>\n",
       "      <th>portsweep</th>\n",
       "      <td>157.0</td>\n",
       "      <td>156.0</td>\n",
       "      <td>1.0</td>\n",
       "      <td>0.993631</td>\n",
       "    </tr>\n",
       "    <tr>\n",
       "      <th>processtable</th>\n",
       "      <td>685.0</td>\n",
       "      <td>252.0</td>\n",
       "      <td>433.0</td>\n",
       "      <td>0.367883</td>\n",
       "    </tr>\n",
       "    <tr>\n",
       "      <th>ps</th>\n",
       "      <td>15.0</td>\n",
       "      <td>2.0</td>\n",
       "      <td>13.0</td>\n",
       "      <td>0.133333</td>\n",
       "    </tr>\n",
       "    <tr>\n",
       "      <th>rootkit</th>\n",
       "      <td>13.0</td>\n",
       "      <td>0.0</td>\n",
       "      <td>13.0</td>\n",
       "      <td>0.000000</td>\n",
       "    </tr>\n",
       "    <tr>\n",
       "      <th>saint</th>\n",
       "      <td>319.0</td>\n",
       "      <td>305.0</td>\n",
       "      <td>14.0</td>\n",
       "      <td>0.956113</td>\n",
       "    </tr>\n",
       "    <tr>\n",
       "      <th>satan</th>\n",
       "      <td>735.0</td>\n",
       "      <td>475.0</td>\n",
       "      <td>260.0</td>\n",
       "      <td>0.646259</td>\n",
       "    </tr>\n",
       "    <tr>\n",
       "      <th>sendmail</th>\n",
       "      <td>14.0</td>\n",
       "      <td>0.0</td>\n",
       "      <td>14.0</td>\n",
       "      <td>0.000000</td>\n",
       "    </tr>\n",
       "    <tr>\n",
       "      <th>smurf</th>\n",
       "      <td>665.0</td>\n",
       "      <td>643.0</td>\n",
       "      <td>22.0</td>\n",
       "      <td>0.966917</td>\n",
       "    </tr>\n",
       "    <tr>\n",
       "      <th>snmpgetattack</th>\n",
       "      <td>178.0</td>\n",
       "      <td>4.0</td>\n",
       "      <td>174.0</td>\n",
       "      <td>0.022472</td>\n",
       "    </tr>\n",
       "    <tr>\n",
       "      <th>snmpguess</th>\n",
       "      <td>331.0</td>\n",
       "      <td>1.0</td>\n",
       "      <td>330.0</td>\n",
       "      <td>0.003021</td>\n",
       "    </tr>\n",
       "    <tr>\n",
       "      <th>sqlattack</th>\n",
       "      <td>2.0</td>\n",
       "      <td>1.0</td>\n",
       "      <td>1.0</td>\n",
       "      <td>0.500000</td>\n",
       "    </tr>\n",
       "    <tr>\n",
       "      <th>teardrop</th>\n",
       "      <td>12.0</td>\n",
       "      <td>12.0</td>\n",
       "      <td>0.0</td>\n",
       "      <td>1.000000</td>\n",
       "    </tr>\n",
       "    <tr>\n",
       "      <th>udpstorm</th>\n",
       "      <td>2.0</td>\n",
       "      <td>0.0</td>\n",
       "      <td>2.0</td>\n",
       "      <td>0.000000</td>\n",
       "    </tr>\n",
       "    <tr>\n",
       "      <th>warezmaster</th>\n",
       "      <td>944.0</td>\n",
       "      <td>227.0</td>\n",
       "      <td>717.0</td>\n",
       "      <td>0.240466</td>\n",
       "    </tr>\n",
       "    <tr>\n",
       "      <th>worm</th>\n",
       "      <td>2.0</td>\n",
       "      <td>0.0</td>\n",
       "      <td>2.0</td>\n",
       "      <td>0.000000</td>\n",
       "    </tr>\n",
       "    <tr>\n",
       "      <th>xlock</th>\n",
       "      <td>9.0</td>\n",
       "      <td>0.0</td>\n",
       "      <td>9.0</td>\n",
       "      <td>0.000000</td>\n",
       "    </tr>\n",
       "    <tr>\n",
       "      <th>xsnoop</th>\n",
       "      <td>4.0</td>\n",
       "      <td>1.0</td>\n",
       "      <td>3.0</td>\n",
       "      <td>0.250000</td>\n",
       "    </tr>\n",
       "    <tr>\n",
       "      <th>xterm</th>\n",
       "      <td>13.0</td>\n",
       "      <td>1.0</td>\n",
       "      <td>12.0</td>\n",
       "      <td>0.076923</td>\n",
       "    </tr>\n",
       "  </tbody>\n",
       "</table>\n",
       "</div>"
      ],
      "text/plain": [
       "                  count  correct  missed      rate\n",
       "apache2           737.0    109.0   628.0  0.147897\n",
       "back              359.0    321.0    38.0  0.894150\n",
       "buffer_overflow    20.0     11.0     9.0  0.550000\n",
       "ftp_write           3.0      0.0     3.0  0.000000\n",
       "guess_passwd     1231.0     17.0  1214.0  0.013810\n",
       "httptunnel        133.0     87.0    46.0  0.654135\n",
       "imap                1.0      1.0     0.0  1.000000\n",
       "ipsweep           141.0    138.0     3.0  0.978723\n",
       "land                7.0      7.0     0.0  1.000000\n",
       "loadmodule          2.0      0.0     2.0  0.000000\n",
       "mailbomb          293.0      0.0   293.0  0.000000\n",
       "mscan             996.0    580.0   416.0  0.582329\n",
       "multihop           18.0      1.0    17.0  0.055556\n",
       "named              17.0      0.0    17.0  0.000000\n",
       "neptune          4657.0   4656.0     1.0  0.999785\n",
       "nmap               73.0     73.0     0.0  1.000000\n",
       "normal           9711.0   9496.0   215.0  0.977860\n",
       "perl                2.0      0.0     2.0  0.000000\n",
       "phf                 2.0      1.0     1.0  0.500000\n",
       "pod                41.0     36.0     5.0  0.878049\n",
       "portsweep         157.0    156.0     1.0  0.993631\n",
       "processtable      685.0    252.0   433.0  0.367883\n",
       "ps                 15.0      2.0    13.0  0.133333\n",
       "rootkit            13.0      0.0    13.0  0.000000\n",
       "saint             319.0    305.0    14.0  0.956113\n",
       "satan             735.0    475.0   260.0  0.646259\n",
       "sendmail           14.0      0.0    14.0  0.000000\n",
       "smurf             665.0    643.0    22.0  0.966917\n",
       "snmpgetattack     178.0      4.0   174.0  0.022472\n",
       "snmpguess         331.0      1.0   330.0  0.003021\n",
       "sqlattack           2.0      1.0     1.0  0.500000\n",
       "teardrop           12.0     12.0     0.0  1.000000\n",
       "udpstorm            2.0      0.0     2.0  0.000000\n",
       "warezmaster       944.0    227.0   717.0  0.240466\n",
       "worm                2.0      0.0     2.0  0.000000\n",
       "xlock               9.0      0.0     9.0  0.000000\n",
       "xsnoop              4.0      1.0     3.0  0.250000\n",
       "xterm              13.0      1.0    12.0  0.076923"
      ]
     },
     "execution_count": 15,
     "metadata": {},
     "output_type": "execute_result"
    }
   ],
   "source": [
    "per_class_centralized = eval_classes(model.get_weights(), dds[\"test\"])\n",
    "per_class_centralized"
   ]
  },
  {
   "cell_type": "markdown",
   "metadata": {},
   "source": [
    "## Section 3: Training on local data"
   ]
  },
  {
   "cell_type": "markdown",
   "metadata": {},
   "source": [
    "First, lets create one client with one partition of the data to simulate what one single organization might have access to. We start with IID distribution."
   ]
  },
  {
   "cell_type": "code",
   "execution_count": 16,
   "metadata": {},
   "outputs": [
    {
     "data": {
      "text/plain": [
       "Dataset({\n",
       "    features: ['duration', 'protocol_type', 'service', 'flag', 'src_bytes', 'dst_bytes', 'land', 'wrong_fragment', 'urgent', 'hot', 'num_failed_logins', 'logged_in', 'num_compromised', 'root_shell', 'su_attempted', 'num_root', 'num_file_creations', 'num_shells', 'num_access_files', 'num_outbound_cmds', 'is_host_login', 'is_guest_login', 'count', 'srv_count', 'serror_rate', 'srv_serror_rate', 'rerror_rate', 'srv_rerror_rate', 'same_srv_rate', 'diff_srv_rate', 'srv_diff_host_rate', 'dst_host_count', 'dst_host_srv_count', 'dst_host_same_srv_rate', 'dst_host_diff_srv_rate', 'dst_host_same_src_port_rate', 'dst_host_srv_diff_host_rate', 'dst_host_serror_rate', 'dst_host_srv_serror_rate', 'dst_host_rerror_rate', 'dst_host_srv_rerror_rate', 'label', 'binary_label'],\n",
       "    num_rows: 12598\n",
       "})"
      ]
     },
     "execution_count": 16,
     "metadata": {},
     "output_type": "execute_result"
    }
   ],
   "source": [
    "from flwr_datasets.partitioner import IidPartitioner\n",
    "\n",
    "partitioner = IidPartitioner(num_partitions=NUM_CLIENTS)\n",
    "partitioner.dataset = dds[\"train\"]\n",
    "\n",
    "shard = partitioner.load_partition(0)\n",
    "shard"
   ]
  },
  {
   "cell_type": "code",
   "execution_count": 17,
   "metadata": {},
   "outputs": [
    {
     "name": "stdout",
     "output_type": "stream",
     "text": [
      "Epoch 1/5\n",
      "\u001b[1m50/50\u001b[0m \u001b[32m━━━━━━━━━━━━━━━━━━━━\u001b[0m\u001b[37m\u001b[0m \u001b[1m3s\u001b[0m 44ms/step - accuracy: 0.6744 - loss: 0.6119\n",
      "Epoch 2/5\n",
      "\u001b[1m50/50\u001b[0m \u001b[32m━━━━━━━━━━━━━━━━━━━━\u001b[0m\u001b[37m\u001b[0m \u001b[1m2s\u001b[0m 45ms/step - accuracy: 0.9249 - loss: 0.2418\n",
      "Epoch 3/5\n",
      "\u001b[1m50/50\u001b[0m \u001b[32m━━━━━━━━━━━━━━━━━━━━\u001b[0m\u001b[37m\u001b[0m \u001b[1m2s\u001b[0m 47ms/step - accuracy: 0.9431 - loss: 0.1744\n",
      "Epoch 4/5\n",
      "\u001b[1m50/50\u001b[0m \u001b[32m━━━━━━━━━━━━━━━━━━━━\u001b[0m\u001b[37m\u001b[0m \u001b[1m2s\u001b[0m 47ms/step - accuracy: 0.9533 - loss: 0.1469\n",
      "Epoch 5/5\n",
      "\u001b[1m50/50\u001b[0m \u001b[32m━━━━━━━━━━━━━━━━━━━━\u001b[0m\u001b[37m\u001b[0m \u001b[1m3s\u001b[0m 50ms/step - accuracy: 0.9539 - loss: 0.1423\n"
     ]
    },
    {
     "data": {
      "text/plain": [
       "{'loss': 0.8242337107658386,\n",
       " 'accuracy': np.float64(0.7541696238466998),\n",
       " 'precision': np.float64(0.9294380963599953),\n",
       " 'recall': np.float64(0.6148211641860828),\n",
       " 'f1': np.float64(0.7400806678547979),\n",
       " 'miss_rate': np.float64(0.38517883581391726)}"
      ]
     },
     "execution_count": 17,
     "metadata": {},
     "output_type": "execute_result"
    }
   ],
   "source": [
    "model = mk_model()\n",
    "shard_tf = dataset_to_tf(shard, batch_size=BATCH_SIZE, shuffle=True)\n",
    "model.fit(shard_tf, epochs=NUM_EPOCHS, verbose=1)\n",
    "\n",
    "score_iid = eval_model(model.get_weights(), dds[\"test\"])\n",
    "score_iid"
   ]
  },
  {
   "cell_type": "markdown",
   "metadata": {},
   "source": [
    "You will notice that performance is not much lower than the centralized model. While we do have less samples, all classes are represented in this new training set. "
   ]
  },
  {
   "cell_type": "markdown",
   "metadata": {},
   "source": [
    "Now, let's train the same model architecture on a more realistic use case, where a local organization might not have access to all data. To ensure heterogeneity, we will specify droppable classes based on their ability to be detected by the model. This will allow us to simulate a more realistic scenario where some classes are more difficult to detect than others."
   ]
  },
  {
   "cell_type": "code",
   "execution_count": 18,
   "metadata": {},
   "outputs": [
    {
     "data": {
      "text/plain": [
       "Index(['back', 'httptunnel', 'ipsweep', 'neptune', 'portsweep', 'saint',\n",
       "       'satan', 'smurf'],\n",
       "      dtype='object')"
      ]
     },
     "execution_count": 18,
     "metadata": {},
     "output_type": "execute_result"
    }
   ],
   "source": [
    "good_classes = per_class_centralized[\n",
    "    (per_class_centralized[\"count\"] > 100)  # anough samples to be relevant\n",
    "    & (per_class_centralized[\"rate\"] > 0.6)  # only classes with high enough accuracy\n",
    "    & (per_class_centralized.index != \"normal\")  # all clients have \"normal\" traffic\n",
    "]\n",
    "good_classes.index"
   ]
  },
  {
   "cell_type": "code",
   "execution_count": 19,
   "metadata": {},
   "outputs": [
    {
     "data": {
      "application/vnd.jupyter.widget-view+json": {
       "model_id": "3a202fa24b3b4d6799b6e531011b4ff5",
       "version_major": 2,
       "version_minor": 0
      },
      "text/plain": [
       "Filter:   0%|          | 0/12598 [00:00<?, ? examples/s]"
      ]
     },
     "metadata": {},
     "output_type": "display_data"
    },
    {
     "data": {
      "application/vnd.jupyter.widget-view+json": {
       "model_id": "7e90a56d4a0142c6a11942894fd46d3e",
       "version_major": 2,
       "version_minor": 0
      },
      "text/plain": [
       "Filter:   0%|          | 0/12598 [00:00<?, ? examples/s]"
      ]
     },
     "metadata": {},
     "output_type": "display_data"
    },
    {
     "data": {
      "application/vnd.jupyter.widget-view+json": {
       "model_id": "3aba80dc742d4e7bb814757211ea1ff6",
       "version_major": 2,
       "version_minor": 0
      },
      "text/plain": [
       "Filter:   0%|          | 0/12598 [00:00<?, ? examples/s]"
      ]
     },
     "metadata": {},
     "output_type": "display_data"
    },
    {
     "data": {
      "application/vnd.jupyter.widget-view+json": {
       "model_id": "a0013ae1b17a48a1918e6cadee614172",
       "version_major": 2,
       "version_minor": 0
      },
      "text/plain": [
       "Filter:   0%|          | 0/12598 [00:00<?, ? examples/s]"
      ]
     },
     "metadata": {},
     "output_type": "display_data"
    },
    {
     "data": {
      "application/vnd.jupyter.widget-view+json": {
       "model_id": "dcc9ae2004594859822128578b4be0a0",
       "version_major": 2,
       "version_minor": 0
      },
      "text/plain": [
       "Filter:   0%|          | 0/12597 [00:00<?, ? examples/s]"
      ]
     },
     "metadata": {},
     "output_type": "display_data"
    },
    {
     "data": {
      "application/vnd.jupyter.widget-view+json": {
       "model_id": "67d66acb768246e1b042864744b4dbf4",
       "version_major": 2,
       "version_minor": 0
      },
      "text/plain": [
       "Filter:   0%|          | 0/12597 [00:00<?, ? examples/s]"
      ]
     },
     "metadata": {},
     "output_type": "display_data"
    },
    {
     "data": {
      "application/vnd.jupyter.widget-view+json": {
       "model_id": "3c9965029da54e7eb70c8b748c8148a9",
       "version_major": 2,
       "version_minor": 0
      },
      "text/plain": [
       "Filter:   0%|          | 0/12597 [00:00<?, ? examples/s]"
      ]
     },
     "metadata": {},
     "output_type": "display_data"
    },
    {
     "data": {
      "application/vnd.jupyter.widget-view+json": {
       "model_id": "5b3af0b90f3d4ef484ced9eaceef146c",
       "version_major": 2,
       "version_minor": 0
      },
      "text/plain": [
       "Filter:   0%|          | 0/12597 [00:00<?, ? examples/s]"
      ]
     },
     "metadata": {},
     "output_type": "display_data"
    },
    {
     "data": {
      "application/vnd.jupyter.widget-view+json": {
       "model_id": "90e3ba4881f84aee94daa71e9160c3a9",
       "version_major": 2,
       "version_minor": 0
      },
      "text/plain": [
       "Filter:   0%|          | 0/12597 [00:00<?, ? examples/s]"
      ]
     },
     "metadata": {},
     "output_type": "display_data"
    },
    {
     "data": {
      "application/vnd.jupyter.widget-view+json": {
       "model_id": "b9c7f35e91e24bdca22e054eb1b9650b",
       "version_major": 2,
       "version_minor": 0
      },
      "text/plain": [
       "Filter:   0%|          | 0/12597 [00:00<?, ? examples/s]"
      ]
     },
     "metadata": {},
     "output_type": "display_data"
    },
    {
     "data": {
      "application/vnd.jupyter.widget-view+json": {
       "model_id": "687014c10e8c4c409559690597163bd6",
       "version_major": 2,
       "version_minor": 0
      },
      "text/plain": [
       "Filter:   0%|          | 0/12597 [00:00<?, ? examples/s]"
      ]
     },
     "metadata": {},
     "output_type": "display_data"
    },
    {
     "data": {
      "image/png": "[encoded data removed]",
      "text/plain": [
       "<Figure size 640x480 with 1 Axes>"
      ]
     },
     "metadata": {},
     "output_type": "display_data"
    }
   ],
   "source": [
    "from utils.partition import ClassDropPartitioner\n",
    "\n",
    "partitioner = ClassDropPartitioner(\n",
    "    num_partitions=NUM_CLIENTS,\n",
    "    partition_by=\"label\",\n",
    "    n_drop=4,\n",
    "    droppable=list(good_classes.index),\n",
    ")\n",
    "partitioner.dataset = dds[\"train\"]\n",
    "\n",
    "_ = plot_label_distributions(\n",
    "    partitioner, label_name=\"label\", title=\"ClassDropPartitioner\"\n",
    ")"
   ]
  },
  {
   "cell_type": "code",
   "execution_count": 20,
   "metadata": {},
   "outputs": [
    {
     "data": {
      "application/vnd.jupyter.widget-view+json": {
       "model_id": "1de16c1ed9d54086a7c959ff502f7e4f",
       "version_major": 2,
       "version_minor": 0
      },
      "text/plain": [
       "Filter:   0%|          | 0/12598 [00:00<?, ? examples/s]"
      ]
     },
     "metadata": {},
     "output_type": "display_data"
    },
    {
     "name": "stdout",
     "output_type": "stream",
     "text": [
      "Epoch 1/5\n",
      "\u001b[1m31/31\u001b[0m \u001b[32m━━━━━━━━━━━━━━━━━━━━\u001b[0m\u001b[37m\u001b[0m \u001b[1m3s\u001b[0m 57ms/step - accuracy: 0.7899 - loss: 0.5823\n",
      "Epoch 2/5\n",
      "\u001b[1m31/31\u001b[0m \u001b[32m━━━━━━━━━━━━━━━━━━━━\u001b[0m\u001b[37m\u001b[0m \u001b[1m2s\u001b[0m 49ms/step - accuracy: 0.8972 - loss: 0.3087\n",
      "Epoch 3/5\n",
      "\u001b[1m31/31\u001b[0m \u001b[32m━━━━━━━━━━━━━━━━━━━━\u001b[0m\u001b[37m\u001b[0m \u001b[1m2s\u001b[0m 49ms/step - accuracy: 0.9140 - loss: 0.2263\n",
      "Epoch 4/5\n",
      "\u001b[1m31/31\u001b[0m \u001b[32m━━━━━━━━━━━━━━━━━━━━\u001b[0m\u001b[37m\u001b[0m \u001b[1m2s\u001b[0m 51ms/step - accuracy: 0.9330 - loss: 0.1827\n",
      "Epoch 5/5\n",
      "\u001b[1m31/31\u001b[0m \u001b[32m━━━━━━━━━━━━━━━━━━━━\u001b[0m\u001b[37m\u001b[0m \u001b[1m2s\u001b[0m 49ms/step - accuracy: 0.9404 - loss: 0.1568\n"
     ]
    },
    {
     "data": {
      "text/plain": [
       "<keras.src.callbacks.history.History at 0x779c14239a50>"
      ]
     },
     "execution_count": 20,
     "metadata": {},
     "output_type": "execute_result"
    }
   ],
   "source": [
    "shard = partitioner.load_partition(0)\n",
    "shard_tf = dataset_to_tf(shard, batch_size=BATCH_SIZE, shuffle=True)\n",
    "model = mk_model()\n",
    "model.fit(shard_tf, epochs=NUM_EPOCHS, verbose=1)\n"
   ]
  },
  {
   "cell_type": "code",
   "execution_count": 21,
   "metadata": {},
   "outputs": [
    {
     "data": {
      "text/plain": [
       "{'loss': 0.9968951940536499,\n",
       " 'accuracy': np.float64(0.7159776437189496),\n",
       " 'precision': np.float64(0.9690691566968194),\n",
       " 'recall': np.float64(0.5175718849840255),\n",
       " 'f1': np.float64(0.6747599939046071),\n",
       " 'miss_rate': np.float64(0.48242811501597443)}"
      ]
     },
     "execution_count": 21,
     "metadata": {},
     "output_type": "execute_result"
    }
   ],
   "source": [
    "score_niid = eval_model(model.get_weights(), dds[\"test\"])\n",
    "score_niid"
   ]
  },
  {
   "cell_type": "code",
   "execution_count": 22,
   "metadata": {},
   "outputs": [
    {
     "data": {
      "text/html": [
       "<div>\n",
       "<style scoped>\n",
       "    .dataframe tbody tr th:only-of-type {\n",
       "        vertical-align: middle;\n",
       "    }\n",
       "\n",
       "    .dataframe tbody tr th {\n",
       "        vertical-align: top;\n",
       "    }\n",
       "\n",
       "    .dataframe thead th {\n",
       "        text-align: right;\n",
       "    }\n",
       "</style>\n",
       "<table border=\"1\" class=\"dataframe\">\n",
       "  <thead>\n",
       "    <tr style=\"text-align: right;\">\n",
       "      <th></th>\n",
       "      <th>count</th>\n",
       "      <th>correct</th>\n",
       "      <th>missed</th>\n",
       "      <th>rate</th>\n",
       "    </tr>\n",
       "  </thead>\n",
       "  <tbody>\n",
       "    <tr>\n",
       "      <th>apache2</th>\n",
       "      <td>737.0</td>\n",
       "      <td>0.0</td>\n",
       "      <td>737.0</td>\n",
       "      <td>0.0</td>\n",
       "    </tr>\n",
       "    <tr>\n",
       "      <th>back</th>\n",
       "      <td>359.0</td>\n",
       "      <td>0.0</td>\n",
       "      <td>359.0</td>\n",
       "      <td>0.0</td>\n",
       "    </tr>\n",
       "    <tr>\n",
       "      <th>land</th>\n",
       "      <td>7.0</td>\n",
       "      <td>0.0</td>\n",
       "      <td>7.0</td>\n",
       "      <td>0.0</td>\n",
       "    </tr>\n",
       "    <tr>\n",
       "      <th>loadmodule</th>\n",
       "      <td>2.0</td>\n",
       "      <td>0.0</td>\n",
       "      <td>2.0</td>\n",
       "      <td>0.0</td>\n",
       "    </tr>\n",
       "    <tr>\n",
       "      <th>mailbomb</th>\n",
       "      <td>293.0</td>\n",
       "      <td>0.0</td>\n",
       "      <td>293.0</td>\n",
       "      <td>0.0</td>\n",
       "    </tr>\n",
       "    <tr>\n",
       "      <th>named</th>\n",
       "      <td>17.0</td>\n",
       "      <td>0.0</td>\n",
       "      <td>17.0</td>\n",
       "      <td>0.0</td>\n",
       "    </tr>\n",
       "    <tr>\n",
       "      <th>phf</th>\n",
       "      <td>2.0</td>\n",
       "      <td>0.0</td>\n",
       "      <td>2.0</td>\n",
       "      <td>0.0</td>\n",
       "    </tr>\n",
       "    <tr>\n",
       "      <th>sendmail</th>\n",
       "      <td>14.0</td>\n",
       "      <td>0.0</td>\n",
       "      <td>14.0</td>\n",
       "      <td>0.0</td>\n",
       "    </tr>\n",
       "    <tr>\n",
       "      <th>snmpgetattack</th>\n",
       "      <td>178.0</td>\n",
       "      <td>0.0</td>\n",
       "      <td>178.0</td>\n",
       "      <td>0.0</td>\n",
       "    </tr>\n",
       "    <tr>\n",
       "      <th>snmpguess</th>\n",
       "      <td>331.0</td>\n",
       "      <td>0.0</td>\n",
       "      <td>331.0</td>\n",
       "      <td>0.0</td>\n",
       "    </tr>\n",
       "    <tr>\n",
       "      <th>udpstorm</th>\n",
       "      <td>2.0</td>\n",
       "      <td>0.0</td>\n",
       "      <td>2.0</td>\n",
       "      <td>0.0</td>\n",
       "    </tr>\n",
       "    <tr>\n",
       "      <th>worm</th>\n",
       "      <td>2.0</td>\n",
       "      <td>0.0</td>\n",
       "      <td>2.0</td>\n",
       "      <td>0.0</td>\n",
       "    </tr>\n",
       "    <tr>\n",
       "      <th>xlock</th>\n",
       "      <td>9.0</td>\n",
       "      <td>0.0</td>\n",
       "      <td>9.0</td>\n",
       "      <td>0.0</td>\n",
       "    </tr>\n",
       "  </tbody>\n",
       "</table>\n",
       "</div>"
      ],
      "text/plain": [
       "               count  correct  missed  rate\n",
       "apache2        737.0      0.0   737.0   0.0\n",
       "back           359.0      0.0   359.0   0.0\n",
       "land             7.0      0.0     7.0   0.0\n",
       "loadmodule       2.0      0.0     2.0   0.0\n",
       "mailbomb       293.0      0.0   293.0   0.0\n",
       "named           17.0      0.0    17.0   0.0\n",
       "phf              2.0      0.0     2.0   0.0\n",
       "sendmail        14.0      0.0    14.0   0.0\n",
       "snmpgetattack  178.0      0.0   178.0   0.0\n",
       "snmpguess      331.0      0.0   331.0   0.0\n",
       "udpstorm         2.0      0.0     2.0   0.0\n",
       "worm             2.0      0.0     2.0   0.0\n",
       "xlock            9.0      0.0     9.0   0.0"
      ]
     },
     "execution_count": 22,
     "metadata": {},
     "output_type": "execute_result"
    }
   ],
   "source": [
    "per_class_niid = eval_classes(model.get_weights(), dds[\"test\"])\n",
    "per_class_niid[per_class_niid[\"rate\"] == 0]"
   ]
  },
  {
   "cell_type": "markdown",
   "metadata": {},
   "source": [
    "## Section 3: Collaborative learning using FL"
   ]
  },
  {
   "cell_type": "markdown",
   "metadata": {},
   "source": [
    "As in part I, we start with our client. This time, we will create 10 clients, each with a different partition of the data. We are closer to the cross-silo use case, where each organization is a client, with more data, more computing power, and are typically always available."
   ]
  },
  {
   "cell_type": "code",
   "execution_count": 23,
   "metadata": {},
   "outputs": [],
   "source": [
    "import flwr as fl\n",
    "import tensorflow as tf\n",
    "\n",
    "\n",
    "class FlowerClient(fl.client.NumPyClient):\n",
    "    def __init__(self, trainset: tf.data.Dataset):\n",
    "        keras.utils.set_random_seed(1138)  # In client thread\n",
    "        self.model = mk_model()\n",
    "        self.trainset = trainset\n",
    "\n",
    "    def get_parameters(self, config):\n",
    "        return self.model.get_weights()\n",
    "\n",
    "    def fit(self, parameters, config):\n",
    "        self.model.set_weights(parameters)\n",
    "        self.model.fit(self.trainset, epochs=1, verbose=0)\n",
    "        return self.model.get_weights(), len(self.trainset), {}"
   ]
  },
  {
   "cell_type": "code",
   "execution_count": 24,
   "metadata": {},
   "outputs": [],
   "source": [
    "from typing import Callable\n",
    "\n",
    "from flwr.client import Client, ClientApp\n",
    "from flwr.common import Context\n",
    "from flwr_datasets.partitioner import Partitioner\n",
    "\n",
    "\n",
    "def mk_client_fn(\n",
    "    partitioner: Partitioner,\n",
    ") -> Callable[[str], Client]:\n",
    "    \"\"\"Return a function which creates a new Client for a given partition.\"\"\"\n",
    "\n",
    "    def client_fn(context: Context) -> Client:\n",
    "        \"\"\"Create a new Client for partition i.\"\"\"\n",
    "        partition_id = int(context.node_config[\"partition-id\"])\n",
    "        client_dataset = partitioner.load_partition(partition_id)\n",
    "        client_tf = dataset_to_tf(client_dataset, batch_size=BATCH_SIZE, shuffle=True)\n",
    "        return FlowerClient(trainset=client_tf).to_client()\n",
    "\n",
    "    return client_fn\n",
    "\n",
    "\n",
    "client_fn = mk_client_fn(partitioner)\n",
    "client_app = ClientApp(client_fn=client_fn)\n"
   ]
  },
  {
   "cell_type": "markdown",
   "metadata": {},
   "source": [
    "Finally, let's try federated learning!"
   ]
  },
  {
   "cell_type": "code",
   "execution_count": 25,
   "metadata": {},
   "outputs": [],
   "source": [
    "from flwr.common import ndarrays_to_parameters\n",
    "from flwr.server import ServerApp, ServerAppComponents, ServerConfig\n",
    "from flwr.server.strategy import FedAvg, Strategy\n",
    "\n",
    "\n",
    "def mk_server_fn(\n",
    "    strategy: Strategy,\n",
    "    num_rounds: int = 10,\n",
    ") -> Callable[[Context], ServerAppComponents]:\n",
    "    def server_fn(context: Context) -> ServerAppComponents:\n",
    "        config = ServerConfig(num_rounds=num_rounds)\n",
    "        return ServerAppComponents(\n",
    "            strategy=strategy,\n",
    "            config=config,\n",
    "        )\n",
    "\n",
    "    return server_fn\n",
    "\n",
    "\n",
    "evaluate_fn, history = get_evaluate_fn(dds[\"test\"])\n",
    "\n",
    "strategy = FedAvg(\n",
    "    fraction_fit=1.0,  # Sample 100% of available clients for training\n",
    "    fraction_evaluate=0.0,  # Disable the federated evaluation\n",
    "    min_fit_clients=NUM_CLIENTS,  # Always sample all clients\n",
    "    min_available_clients=NUM_CLIENTS,\n",
    "    evaluate_fn=evaluate_fn,\n",
    "    initial_parameters=ndarrays_to_parameters(mk_model().get_weights()),\n",
    ")\n",
    "\n",
    "server_app = ServerApp(server_fn=mk_server_fn(strategy, num_rounds=NUM_ROUNDS))"
   ]
  },
  {
   "cell_type": "code",
   "execution_count": 26,
   "metadata": {},
   "outputs": [
    {
     "name": "stderr",
     "output_type": "stream",
     "text": [
      "\u001b[92mINFO \u001b[0m:      Starting Flower ServerApp, config: num_rounds=10, no round_timeout\n",
      "\u001b[92mINFO \u001b[0m:      \n",
      "\u001b[92mINFO \u001b[0m:      [INIT]\n",
      "\u001b[92mINFO \u001b[0m:      Using initial global parameters provided by strategy\n",
      "\u001b[92mINFO \u001b[0m:      Starting evaluation of initial global parameters\n",
      "\u001b[92mINFO \u001b[0m:      initial parameters (loss, other metrics): 0.7292262315750122, {'accuracy': np.float64(0.6052608232789212), 'precision': np.float64(0.8159331834243495), 'recall': np.float64(0.3958544377776046), 'f1': np.float64(0.5330814838134215), 'miss_rate': np.float64(0.6041455622223953)}\n",
      "\u001b[92mINFO \u001b[0m:      \n",
      "\u001b[92mINFO \u001b[0m:      [ROUND 1]\n",
      "\u001b[92mINFO \u001b[0m:      configure_fit: strategy sampled 10 clients (out of 10)\n",
      "\u001b[36m(pid=102829)\u001b[0m 2025-07-19 19:45:56.691399: I tensorflow/core/util/port.cc:153] oneDNN custom operations are on. You may see slightly different numerical results due to floating-point round-off errors from different computation orders. To turn them off, set the environment variable `TF_ENABLE_ONEDNN_OPTS=0`.\n",
      "\u001b[36m(pid=102829)\u001b[0m 2025-07-19 19:45:56.725610: E external/local_xla/xla/stream_executor/cuda/cuda_fft.cc:467] Unable to register cuFFT factory: Attempting to register factory for plugin cuFFT when one has already been registered\n",
      "\u001b[36m(pid=102829)\u001b[0m WARNING: All log messages before absl::InitializeLog() is called are written to STDERR\n",
      "\u001b[36m(pid=102829)\u001b[0m E0000 00:00:1752947156.771056  102829 cuda_dnn.cc:8579] Unable to register cuDNN factory: Attempting to register factory for plugin cuDNN when one has already been registered\n",
      "\u001b[36m(pid=102829)\u001b[0m E0000 00:00:1752947156.787756  102829 cuda_blas.cc:1407] Unable to register cuBLAS factory: Attempting to register factory for plugin cuBLAS when one has already been registered\n",
      "\u001b[36m(pid=102829)\u001b[0m W0000 00:00:1752947156.828371  102829 computation_placer.cc:177] computation placer already registered. Please check linkage and avoid linking the same target more than once.\n",
      "\u001b[36m(pid=102829)\u001b[0m W0000 00:00:1752947156.828481  102829 computation_placer.cc:177] computation placer already registered. Please check linkage and avoid linking the same target more than once.\n",
      "\u001b[36m(pid=102829)\u001b[0m W0000 00:00:1752947156.828489  102829 computation_placer.cc:177] computation placer already registered. Please check linkage and avoid linking the same target more than once.\n",
      "\u001b[36m(pid=102829)\u001b[0m W0000 00:00:1752947156.828494  102829 computation_placer.cc:177] computation placer already registered. Please check linkage and avoid linking the same target more than once.\n",
      "\u001b[36m(pid=102829)\u001b[0m 2025-07-19 19:45:56.836689: I tensorflow/core/platform/cpu_feature_guard.cc:210] This TensorFlow binary is optimized to use available CPU instructions in performance-critical operations.\n",
      "\u001b[36m(pid=102829)\u001b[0m To enable the following instructions: AVX2 AVX_VNNI FMA, in other operations, rebuild TensorFlow with the appropriate compiler flags.\n",
      "Filter:   0%|          | 0/12597 [00:00<?, ? examples/s]\n",
      "\u001b[36m(pid=102827)\u001b[0m 2025-07-19 19:45:57.050841: I tensorflow/core/util/port.cc:153] oneDNN custom operations are on. You may see slightly different numerical results due to floating-point round-off errors from different computation orders. To turn them off, set the environment variable `TF_ENABLE_ONEDNN_OPTS=0`.\u001b[32m [repeated 6x across cluster] (Ray deduplicates logs by default. Set RAY_DEDUP_LOGS=0 to disable log deduplication, or see https://docs.ray.io/en/master/ray-observability/user-guides/configure-logging.html#log-deduplication for more options.)\u001b[0m\n",
      "\u001b[36m(pid=102827)\u001b[0m 2025-07-19 19:45:57.083469: E external/local_xla/xla/stream_executor/cuda/cuda_fft.cc:467] Unable to register cuFFT factory: Attempting to register factory for plugin cuFFT when one has already been registered\u001b[32m [repeated 6x across cluster]\u001b[0m\n",
      "\u001b[36m(pid=102827)\u001b[0m WARNING: All log messages before absl::InitializeLog() is called are written to STDERR\u001b[32m [repeated 6x across cluster]\u001b[0m\n",
      "\u001b[36m(pid=102827)\u001b[0m E0000 00:00:1752947157.121699  102827 cuda_dnn.cc:8579] Unable to register cuDNN factory: Attempting to register factory for plugin cuDNN when one has already been registered\u001b[32m [repeated 6x across cluster]\u001b[0m\n",
      "\u001b[36m(pid=102827)\u001b[0m E0000 00:00:1752947157.132777  102827 cuda_blas.cc:1407] Unable to register cuBLAS factory: Attempting to register factory for plugin cuBLAS when one has already been registered\u001b[32m [repeated 6x across cluster]\u001b[0m\n",
      "\u001b[36m(pid=102827)\u001b[0m W0000 00:00:1752947157.163699  102827 computation_placer.cc:177] computation placer already registered. Please check linkage and avoid linking the same target more than once.\u001b[32m [repeated 24x across cluster]\u001b[0m\n",
      "\u001b[36m(pid=102827)\u001b[0m 2025-07-19 19:45:57.172694: I tensorflow/core/platform/cpu_feature_guard.cc:210] This TensorFlow binary is optimized to use available CPU instructions in performance-critical operations.\u001b[32m [repeated 6x across cluster]\u001b[0m\n",
      "\u001b[36m(pid=102827)\u001b[0m To enable the following instructions: AVX2 AVX_VNNI FMA, in other operations, rebuild TensorFlow with the appropriate compiler flags.\u001b[32m [repeated 6x across cluster]\u001b[0m\n",
      "Filter:   8%|▊         | 1000/12597 [00:00<00:01, 6352.27 examples/s]\n",
      "Filter:  16%|█▌        | 2000/12597 [00:00<00:02, 4617.81 examples/s]\n",
      "Filter:  95%|█████████▌| 12000/12597 [00:02<00:00, 5144.21 examples/s]\n",
      "Filter: 100%|██████████| 12597/12597 [00:02<00:00, 4743.45 examples/s]\n",
      "Filter: 100%|██████████| 12597/12597 [00:02<00:00, 5160.71 examples/s]\n",
      "\u001b[36m(ClientAppActor pid=102816)\u001b[0m 2025-07-19 19:46:06.786333: E external/local_xla/xla/stream_executor/cuda/cuda_platform.cc:51] failed call to cuInit: INTERNAL: CUDA error: Failed call to cuInit: UNKNOWN ERROR (303)\n",
      "Filter: 100%|██████████| 12598/12598 [00:02<00:00, 4721.22 examples/s]\n",
      "\u001b[36m(ClientAppActor pid=102816)\u001b[0m WARNING:tensorflow:AutoGraph could not transform <function dict_to_tensor at 0x724d31074220> and will run it as-is.\n",
      "\u001b[36m(ClientAppActor pid=102816)\u001b[0m Please report this to the TensorFlow team. When filing the bug, set the verbosity to 10 (on Linux, `export AUTOGRAPH_VERBOSITY=10`) and attach the full output.\n",
      "\u001b[36m(ClientAppActor pid=102816)\u001b[0m Cause: Unknown node type <gast.gast.Import object at 0x724d304f19c0>\n",
      "\u001b[36m(ClientAppActor pid=102816)\u001b[0m To silence this warning, decorate the function with @tf.autograph.experimental.do_not_convert\n",
      "Filter:   0%|          | 0/12598 [00:00<?, ? examples/s]\u001b[32m [repeated 6x across cluster]\u001b[0m\n",
      "Filter:  87%|████████▋ | 11000/12598 [00:03<00:00, 3269.89 examples/s]\u001b[32m [repeated 75x across cluster]\u001b[0m\n",
      "Filter: 100%|██████████| 12597/12597 [00:03<00:00, 3406.50 examples/s]\u001b[32m [repeated 10x across cluster]\u001b[0m\n",
      "\u001b[36m(ClientAppActor pid=102827)\u001b[0m 2025-07-19 19:46:08.564708: E external/local_xla/xla/stream_executor/cuda/cuda_platform.cc:51] failed call to cuInit: INTERNAL: CUDA error: Failed call to cuInit: UNKNOWN ERROR (303)\u001b[32m [repeated 6x across cluster]\u001b[0m\n",
      "Filter: 100%|██████████| 12598/12598 [00:03<00:00, 3468.89 examples/s]\u001b[32m [repeated 2x across cluster]\u001b[0m\n",
      "\u001b[36m(ClientAppActor pid=102827)\u001b[0m WARNING:tensorflow:AutoGraph could not transform <function dict_to_tensor at 0x78adaa100220> and will run it as-is.\u001b[32m [repeated 6x across cluster]\u001b[0m\n",
      "\u001b[36m(ClientAppActor pid=102827)\u001b[0m Please report this to the TensorFlow team. When filing the bug, set the verbosity to 10 (on Linux, `export AUTOGRAPH_VERBOSITY=10`) and attach the full output.\u001b[32m [repeated 6x across cluster]\u001b[0m\n",
      "\u001b[36m(ClientAppActor pid=102827)\u001b[0m Cause: Unknown node type <gast.gast.Import object at 0x78ada85819c0>\u001b[32m [repeated 6x across cluster]\u001b[0m\n",
      "\u001b[36m(ClientAppActor pid=102827)\u001b[0m To silence this warning, decorate the function with @tf.autograph.experimental.do_not_convert\u001b[32m [repeated 6x across cluster]\u001b[0m\n",
      "Filter:   0%|          | 0/12597 [00:00<?, ? examples/s]\n",
      "Filter:   0%|          | 0/12597 [00:00<?, ? examples/s]\n",
      "Filter:   8%|▊         | 1000/12597 [00:00<00:03, 3748.69 examples/s]\n",
      "\u001b[92mINFO \u001b[0m:      aggregate_fit: received 10 results and 0 failures\n",
      "\u001b[93mWARNING \u001b[0m:   No fit_metrics_aggregation_fn provided\n",
      "\u001b[92mINFO \u001b[0m:      fit progress: (1, 0.7050912976264954, {'accuracy': np.float64(0.7140259048970902), 'precision': np.float64(0.9898741945382019), 'recall': np.float64(0.5027663056183278), 'f1': np.float64(0.6668389230530722), 'miss_rate': np.float64(0.49723369438167225)}, 30.67014566999933)\n",
      "\u001b[92mINFO \u001b[0m:      configure_evaluate: no clients selected, skipping evaluation\n",
      "\u001b[92mINFO \u001b[0m:      \n",
      "\u001b[92mINFO \u001b[0m:      [ROUND 2]\n",
      "\u001b[92mINFO \u001b[0m:      configure_fit: strategy sampled 10 clients (out of 10)\n",
      "Filter:  95%|█████████▌| 12000/12597 [00:03<00:00, 4408.72 examples/s]\u001b[32m [repeated 3x across cluster]\u001b[0m\n",
      "Filter: 100%|██████████| 12597/12597 [00:03<00:00, 3926.62 examples/s]\u001b[32m [repeated 2x across cluster]\u001b[0m\n",
      "\u001b[36m(ClientAppActor pid=102816)\u001b[0m WARNING:tensorflow:AutoGraph could not transform <function dict_to_tensor at 0x724d32203ba0> and will run it as-is.\u001b[32m [repeated 3x across cluster]\u001b[0m\n",
      "\u001b[36m(ClientAppActor pid=102816)\u001b[0m Please report this to the TensorFlow team. When filing the bug, set the verbosity to 10 (on Linux, `export AUTOGRAPH_VERBOSITY=10`) and attach the full output.\u001b[32m [repeated 3x across cluster]\u001b[0m\n",
      "\u001b[36m(ClientAppActor pid=102816)\u001b[0m Cause: Unknown node type <gast.gast.Import object at 0x724d3022b0d0>\u001b[32m [repeated 3x across cluster]\u001b[0m\n",
      "\u001b[36m(ClientAppActor pid=102816)\u001b[0m To silence this warning, decorate the function with @tf.autograph.experimental.do_not_convert\u001b[32m [repeated 3x across cluster]\u001b[0m\n",
      "Filter:   0%|          | 0/12597 [00:00<?, ? examples/s]\u001b[32m [repeated 2x across cluster]\u001b[0m\n",
      "Filter:  87%|████████▋ | 11000/12597 [00:02<00:00, 4272.31 examples/s]\u001b[32m [repeated 32x across cluster]\u001b[0m\n",
      "Filter:  95%|█████████▌| 12000/12597 [00:03<00:00, 3217.45 examples/s]\u001b[32m [repeated 9x across cluster]\u001b[0m\n",
      "Filter: 100%|██████████| 12597/12597 [00:03<00:00, 3419.97 examples/s]\u001b[32m [repeated 6x across cluster]\u001b[0m\n",
      "\u001b[36m(ClientAppActor pid=102827)\u001b[0m WARNING:tensorflow:AutoGraph could not transform <function dict_to_tensor at 0x78ada83efba0> and will run it as-is.\u001b[32m [repeated 7x across cluster]\u001b[0m\n",
      "\u001b[36m(ClientAppActor pid=102827)\u001b[0m Please report this to the TensorFlow team. When filing the bug, set the verbosity to 10 (on Linux, `export AUTOGRAPH_VERBOSITY=10`) and attach the full output.\u001b[32m [repeated 7x across cluster]\u001b[0m\n",
      "\u001b[36m(ClientAppActor pid=102827)\u001b[0m Cause: Unknown node type <gast.gast.Import object at 0x78ada83ff0d0>\u001b[32m [repeated 7x across cluster]\u001b[0m\n",
      "\u001b[36m(ClientAppActor pid=102827)\u001b[0m To silence this warning, decorate the function with @tf.autograph.experimental.do_not_convert\u001b[32m [repeated 7x across cluster]\u001b[0m\n",
      "Filter:   0%|          | 0/12597 [00:00<?, ? examples/s]\u001b[32m [repeated 7x across cluster]\u001b[0m\n",
      "Filter:  87%|████████▋ | 11000/12597 [00:03<00:00, 3245.38 examples/s]\u001b[32m [repeated 76x across cluster]\u001b[0m\n",
      "\u001b[92mINFO \u001b[0m:      aggregate_fit: received 10 results and 0 failures\n",
      "\u001b[92mINFO \u001b[0m:      fit progress: (2, 0.7175502181053162, {'accuracy': np.float64(0.73305535841022), 'precision': np.float64(0.9893723969553353), 'recall': np.float64(0.5368191381594327), 'f1': np.float64(0.6959991917559103), 'miss_rate': np.float64(0.4631808618405673)}, 52.31899037399853)\n",
      "\u001b[92mINFO \u001b[0m:      configure_evaluate: no clients selected, skipping evaluation\n",
      "\u001b[92mINFO \u001b[0m:      \n",
      "\u001b[92mINFO \u001b[0m:      [ROUND 3]\n",
      "\u001b[92mINFO \u001b[0m:      configure_fit: strategy sampled 10 clients (out of 10)\n",
      "Filter: 100%|██████████| 12597/12597 [00:02<00:00, 5079.87 examples/s]\u001b[32m [repeated 7x across cluster]\u001b[0m\n",
      "\u001b[36m(ClientAppActor pid=102828)\u001b[0m WARNING:tensorflow:AutoGraph could not transform <function dict_to_tensor at 0x7a9b142a5c60> and will run it as-is.\u001b[32m [repeated 3x across cluster]\u001b[0m\n",
      "\u001b[36m(ClientAppActor pid=102828)\u001b[0m Please report this to the TensorFlow team. When filing the bug, set the verbosity to 10 (on Linux, `export AUTOGRAPH_VERBOSITY=10`) and attach the full output.\u001b[32m [repeated 3x across cluster]\u001b[0m\n",
      "\u001b[36m(ClientAppActor pid=102828)\u001b[0m Cause: Unknown node type <gast.gast.Import object at 0x7a9b1435e980>\u001b[32m [repeated 3x across cluster]\u001b[0m\n",
      "\u001b[36m(ClientAppActor pid=102828)\u001b[0m To silence this warning, decorate the function with @tf.autograph.experimental.do_not_convert\u001b[32m [repeated 3x across cluster]\u001b[0m\n",
      "Filter:   0%|          | 0/12597 [00:00<?, ? examples/s]\u001b[32m [repeated 3x across cluster]\u001b[0m\n",
      "Filter:  87%|████████▋ | 11000/12597 [00:02<00:00, 6660.14 examples/s]\u001b[32m [repeated 33x across cluster]\u001b[0m\n",
      "Filter: 100%|██████████| 12597/12597 [00:02<00:00, 5013.24 examples/s]\n",
      "Filter:  95%|█████████▌| 12000/12597 [00:02<00:00, 3830.34 examples/s]\u001b[32m [repeated 8x across cluster]\u001b[0m\n",
      "\u001b[36m(ClientAppActor pid=102821)\u001b[0m WARNING:tensorflow:AutoGraph could not transform <function dict_to_tensor at 0x7f7a0ec4bec0> and will run it as-is.\u001b[32m [repeated 7x across cluster]\u001b[0m\n",
      "\u001b[36m(ClientAppActor pid=102821)\u001b[0m Please report this to the TensorFlow team. When filing the bug, set the verbosity to 10 (on Linux, `export AUTOGRAPH_VERBOSITY=10`) and attach the full output.\u001b[32m [repeated 7x across cluster]\u001b[0m\n",
      "\u001b[36m(ClientAppActor pid=102821)\u001b[0m Cause: Unknown node type <gast.gast.Import object at 0x7f7a0cae7580>\u001b[32m [repeated 7x across cluster]\u001b[0m\n",
      "\u001b[36m(ClientAppActor pid=102821)\u001b[0m To silence this warning, decorate the function with @tf.autograph.experimental.do_not_convert\u001b[32m [repeated 7x across cluster]\u001b[0m\n",
      "Filter:   0%|          | 0/12597 [00:00<?, ? examples/s]\u001b[32m [repeated 7x across cluster]\u001b[0m\n",
      "Filter:  87%|████████▋ | 11000/12597 [00:02<00:00, 3896.76 examples/s]\u001b[32m [repeated 73x across cluster]\u001b[0m\n",
      "Filter: 100%|██████████| 12597/12597 [00:03<00:00, 4061.74 examples/s]\u001b[32m [repeated 5x across cluster]\u001b[0m\n",
      "\u001b[92mINFO \u001b[0m:      aggregate_fit: received 10 results and 0 failures\n",
      "\u001b[92mINFO \u001b[0m:      fit progress: (3, 0.757935106754303, {'accuracy': np.float64(0.7460521646557843), 'precision': np.float64(0.9852539595849262), 'recall': np.float64(0.5623003194888179), 'f1': np.float64(0.7159795604504638), 'miss_rate': np.float64(0.43769968051118213)}, 73.36520398499852)\n",
      "\u001b[92mINFO \u001b[0m:      configure_evaluate: no clients selected, skipping evaluation\n",
      "\u001b[92mINFO \u001b[0m:      \n",
      "\u001b[92mINFO \u001b[0m:      [ROUND 4]\n",
      "\u001b[92mINFO \u001b[0m:      configure_fit: strategy sampled 10 clients (out of 10)\n",
      "Filter: 100%|██████████| 12597/12597 [00:03<00:00, 3964.98 examples/s]\u001b[32m [repeated 5x across cluster]\u001b[0m\n",
      "\u001b[36m(ClientAppActor pid=102825)\u001b[0m WARNING:tensorflow:AutoGraph could not transform <function dict_to_tensor at 0x79ddb71d5c60> and will run it as-is.\u001b[32m [repeated 3x across cluster]\u001b[0m\n",
      "\u001b[36m(ClientAppActor pid=102825)\u001b[0m Please report this to the TensorFlow team. When filing the bug, set the verbosity to 10 (on Linux, `export AUTOGRAPH_VERBOSITY=10`) and attach the full output.\u001b[32m [repeated 3x across cluster]\u001b[0m\n",
      "\u001b[36m(ClientAppActor pid=102825)\u001b[0m Cause: Unknown node type <gast.gast.Import object at 0x79ddb705e980>\u001b[32m [repeated 3x across cluster]\u001b[0m\n",
      "\u001b[36m(ClientAppActor pid=102825)\u001b[0m To silence this warning, decorate the function with @tf.autograph.experimental.do_not_convert\u001b[32m [repeated 3x across cluster]\u001b[0m\n",
      "Filter:   0%|          | 0/12598 [00:00<?, ? examples/s]\u001b[32m [repeated 3x across cluster]\u001b[0m\n",
      "Filter:  87%|████████▋ | 11000/12597 [00:02<00:00, 3961.83 examples/s]\u001b[32m [repeated 33x across cluster]\u001b[0m\n",
      "Filter: 100%|██████████| 12597/12597 [00:03<00:00, 3504.32 examples/s]\n",
      "Filter: 100%|██████████| 12597/12597 [00:03<00:00, 4022.77 examples/s]\n",
      "Filter:  95%|█████████▌| 12000/12597 [00:03<00:00, 3485.45 examples/s]\u001b[32m [repeated 12x across cluster]\u001b[0m\n",
      "\u001b[36m(ClientAppActor pid=102821)\u001b[0m WARNING:tensorflow:AutoGraph could not transform <function dict_to_tensor at 0x7f79e4291c60> and will run it as-is.\u001b[32m [repeated 7x across cluster]\u001b[0m\n",
      "\u001b[36m(ClientAppActor pid=102821)\u001b[0m Please report this to the TensorFlow team. When filing the bug, set the verbosity to 10 (on Linux, `export AUTOGRAPH_VERBOSITY=10`) and attach the full output.\u001b[32m [repeated 7x across cluster]\u001b[0m\n",
      "\u001b[36m(ClientAppActor pid=102821)\u001b[0m Cause: Unknown node type <gast.gast.Import object at 0x7f79e42ee980>\u001b[32m [repeated 7x across cluster]\u001b[0m\n",
      "\u001b[36m(ClientAppActor pid=102821)\u001b[0m To silence this warning, decorate the function with @tf.autograph.experimental.do_not_convert\u001b[32m [repeated 7x across cluster]\u001b[0m\n",
      "Filter:   0%|          | 0/12597 [00:00<?, ? examples/s]\u001b[32m [repeated 7x across cluster]\u001b[0m\n",
      "Filter:  87%|████████▋ | 11000/12597 [00:02<00:00, 3534.05 examples/s]\u001b[32m [repeated 74x across cluster]\u001b[0m\n",
      "Filter: 100%|██████████| 12597/12597 [00:03<00:00, 3819.81 examples/s]\u001b[32m [repeated 2x across cluster]\u001b[0m\n",
      "\u001b[92mINFO \u001b[0m:      aggregate_fit: received 10 results and 0 failures\n",
      "\u001b[92mINFO \u001b[0m:      fit progress: (4, 0.8369436860084534, {'accuracy': np.float64(0.7637065294535131), 'precision': np.float64(0.983011583011583), 'recall': np.float64(0.5951842905010519), 'f1': np.float64(0.7414454205698199), 'miss_rate': np.float64(0.404815709498948)}, 93.45812760899935)\n",
      "\u001b[92mINFO \u001b[0m:      configure_evaluate: no clients selected, skipping evaluation\n",
      "\u001b[92mINFO \u001b[0m:      \n",
      "\u001b[92mINFO \u001b[0m:      [ROUND 5]\n",
      "\u001b[92mINFO \u001b[0m:      configure_fit: strategy sampled 10 clients (out of 10)\n",
      "Filter:  95%|█████████▌| 12000/12597 [00:02<00:00, 4422.77 examples/s]\n",
      "\u001b[36m(ClientAppActor pid=102828)\u001b[0m WARNING:tensorflow:AutoGraph could not transform <function dict_to_tensor at 0x7a9acc2c27a0> and will run it as-is.\u001b[32m [repeated 3x across cluster]\u001b[0m\n",
      "\u001b[36m(ClientAppActor pid=102828)\u001b[0m Please report this to the TensorFlow team. When filing the bug, set the verbosity to 10 (on Linux, `export AUTOGRAPH_VERBOSITY=10`) and attach the full output.\u001b[32m [repeated 3x across cluster]\u001b[0m\n",
      "\u001b[36m(ClientAppActor pid=102828)\u001b[0m Cause: Unknown node type <gast.gast.Import object at 0x7a9acc17d8a0>\u001b[32m [repeated 3x across cluster]\u001b[0m\n",
      "\u001b[36m(ClientAppActor pid=102828)\u001b[0m To silence this warning, decorate the function with @tf.autograph.experimental.do_not_convert\u001b[32m [repeated 3x across cluster]\u001b[0m\n",
      "Filter:   0%|          | 0/12598 [00:00<?, ? examples/s]\u001b[32m [repeated 3x across cluster]\u001b[0m\n",
      "Filter:  87%|████████▋ | 11000/12597 [00:02<00:00, 4372.47 examples/s]\u001b[32m [repeated 33x across cluster]\u001b[0m\n",
      "Filter: 100%|██████████| 12597/12597 [00:03<00:00, 4025.93 examples/s]\u001b[32m [repeated 3x across cluster]\u001b[0m\n",
      "Filter:  95%|█████████▌| 12000/12597 [00:02<00:00, 6663.54 examples/s]\n",
      "Filter: 100%|██████████| 12597/12597 [00:02<00:00, 5859.26 examples/s]\n",
      "\u001b[36m(ClientAppActor pid=102828)\u001b[0m WARNING:tensorflow:AutoGraph could not transform <function dict_to_tensor at 0x7a9abc6b82c0> and will run it as-is.\u001b[32m [repeated 7x across cluster]\u001b[0m\n",
      "\u001b[36m(ClientAppActor pid=102828)\u001b[0m Please report this to the TensorFlow team. When filing the bug, set the verbosity to 10 (on Linux, `export AUTOGRAPH_VERBOSITY=10`) and attach the full output.\u001b[32m [repeated 7x across cluster]\u001b[0m\n",
      "\u001b[36m(ClientAppActor pid=102828)\u001b[0m Cause: Unknown node type <gast.gast.Import object at 0x7a9acc53f910>\u001b[32m [repeated 7x across cluster]\u001b[0m\n",
      "\u001b[36m(ClientAppActor pid=102828)\u001b[0m To silence this warning, decorate the function with @tf.autograph.experimental.do_not_convert\u001b[32m [repeated 7x across cluster]\u001b[0m\n",
      "Filter:   0%|          | 0/12597 [00:00<?, ? examples/s]\u001b[32m [repeated 7x across cluster]\u001b[0m\n",
      "Filter:  87%|████████▋ | 11000/12598 [00:02<00:00, 3602.91 examples/s]\u001b[32m [repeated 77x across cluster]\u001b[0m\n",
      "Filter: 100%|██████████| 12598/12598 [00:02<00:00, 4673.44 examples/s]\u001b[32m [repeated 4x across cluster]\u001b[0m\n",
      "Filter: 100%|██████████| 12598/12598 [00:02<00:00, 4243.06 examples/s]\u001b[32m [repeated 9x across cluster]\u001b[0m\n",
      "\u001b[92mINFO \u001b[0m:      aggregate_fit: received 10 results and 0 failures\n",
      "\u001b[92mINFO \u001b[0m:      fit progress: (5, 0.9186528325080872, {'accuracy': np.float64(0.7643718949609652), 'precision': np.float64(0.9825484409085077), 'recall': np.float64(0.5966648484376218), 'f1': np.float64(0.7424609715892563), 'miss_rate': np.float64(0.40333515156237826)}, 112.43122866499834)\n",
      "\u001b[92mINFO \u001b[0m:      configure_evaluate: no clients selected, skipping evaluation\n",
      "\u001b[92mINFO \u001b[0m:      \n",
      "\u001b[92mINFO \u001b[0m:      [ROUND 6]\n",
      "\u001b[92mINFO \u001b[0m:      configure_fit: strategy sampled 10 clients (out of 10)\n",
      "\u001b[36m(ClientAppActor pid=102827)\u001b[0m WARNING:tensorflow:AutoGraph could not transform <function dict_to_tensor at 0x78ad2c60a7a0> and will run it as-is.\u001b[32m [repeated 3x across cluster]\u001b[0m\n",
      "\u001b[36m(ClientAppActor pid=102827)\u001b[0m Please report this to the TensorFlow team. When filing the bug, set the verbosity to 10 (on Linux, `export AUTOGRAPH_VERBOSITY=10`) and attach the full output.\u001b[32m [repeated 3x across cluster]\u001b[0m\n",
      "\u001b[36m(ClientAppActor pid=102827)\u001b[0m Cause: Unknown node type <gast.gast.Import object at 0x78ad2c6c58a0>\u001b[32m [repeated 3x across cluster]\u001b[0m\n",
      "\u001b[36m(ClientAppActor pid=102827)\u001b[0m To silence this warning, decorate the function with @tf.autograph.experimental.do_not_convert\u001b[32m [repeated 3x across cluster]\u001b[0m\n",
      "Filter:   0%|          | 0/12597 [00:00<?, ? examples/s]\u001b[32m [repeated 3x across cluster]\u001b[0m\n",
      "Filter:  87%|████████▋ | 11000/12597 [00:02<00:00, 4568.85 examples/s]\u001b[32m [repeated 33x across cluster]\u001b[0m\n",
      "Filter: 100%|██████████| 12597/12597 [00:02<00:00, 4251.46 examples/s]\n",
      "Filter:  95%|█████████▌| 12000/12597 [00:02<00:00, 4633.08 examples/s]\u001b[32m [repeated 5x across cluster]\u001b[0m\n",
      "Filter: 100%|██████████| 12598/12598 [00:02<00:00, 5521.62 examples/s]\n",
      "\u001b[36m(ClientAppActor pid=102825)\u001b[0m WARNING:tensorflow:AutoGraph could not transform <function dict_to_tensor at 0x79ddbc398220> and will run it as-is.\u001b[32m [repeated 7x across cluster]\u001b[0m\n",
      "\u001b[36m(ClientAppActor pid=102825)\u001b[0m Please report this to the TensorFlow team. When filing the bug, set the verbosity to 10 (on Linux, `export AUTOGRAPH_VERBOSITY=10`) and attach the full output.\u001b[32m [repeated 7x across cluster]\u001b[0m\n",
      "\u001b[36m(ClientAppActor pid=102825)\u001b[0m Cause: Unknown node type <gast.gast.Import object at 0x79ddbc2e0280>\u001b[32m [repeated 7x across cluster]\u001b[0m\n",
      "\u001b[36m(ClientAppActor pid=102825)\u001b[0m To silence this warning, decorate the function with @tf.autograph.experimental.do_not_convert\u001b[32m [repeated 7x across cluster]\u001b[0m\n",
      "Filter:   0%|          | 0/12597 [00:00<?, ? examples/s]\u001b[32m [repeated 7x across cluster]\u001b[0m\n",
      "Filter:  87%|████████▋ | 11000/12598 [00:02<00:00, 3829.10 examples/s]\u001b[32m [repeated 73x across cluster]\u001b[0m\n",
      "Filter: 100%|██████████| 12597/12597 [00:03<00:00, 4101.54 examples/s]\u001b[32m [repeated 11x across cluster]\u001b[0m\n",
      "Filter: 100%|██████████| 12597/12597 [00:03<00:00, 4039.44 examples/s]\u001b[32m [repeated 3x across cluster]\u001b[0m\n",
      "\u001b[92mINFO \u001b[0m:      aggregate_fit: received 10 results and 0 failures\n",
      "\u001b[92mINFO \u001b[0m:      fit progress: (6, 0.9872873425483704, {'accuracy': np.float64(0.7633960255500355), 'precision': np.float64(0.9817551072851086), 'recall': np.float64(0.5954180628068262), 'f1': np.float64(0.7412689173457508), 'miss_rate': np.float64(0.40458193719317387)}, 131.23492132899992)\n",
      "\u001b[92mINFO \u001b[0m:      configure_evaluate: no clients selected, skipping evaluation\n",
      "\u001b[92mINFO \u001b[0m:      \n",
      "\u001b[92mINFO \u001b[0m:      [ROUND 7]\n",
      "\u001b[92mINFO \u001b[0m:      configure_fit: strategy sampled 10 clients (out of 10)\n",
      "\u001b[36m(ClientAppActor pid=102821)\u001b[0m WARNING:tensorflow:AutoGraph could not transform <function dict_to_tensor at 0x7f7a05dcdda0> and will run it as-is.\u001b[32m [repeated 3x across cluster]\u001b[0m\n",
      "\u001b[36m(ClientAppActor pid=102821)\u001b[0m Please report this to the TensorFlow team. When filing the bug, set the verbosity to 10 (on Linux, `export AUTOGRAPH_VERBOSITY=10`) and attach the full output.\u001b[32m [repeated 3x across cluster]\u001b[0m\n",
      "\u001b[36m(ClientAppActor pid=102821)\u001b[0m Cause: Unknown node type <gast.gast.Import object at 0x7f7a05f5ada0>\u001b[32m [repeated 3x across cluster]\u001b[0m\n",
      "\u001b[36m(ClientAppActor pid=102821)\u001b[0m To silence this warning, decorate the function with @tf.autograph.experimental.do_not_convert\u001b[32m [repeated 3x across cluster]\u001b[0m\n",
      "Filter:   0%|          | 0/12597 [00:00<?, ? examples/s]\u001b[32m [repeated 3x across cluster]\u001b[0m\n",
      "Filter:  87%|████████▋ | 11000/12597 [00:01<00:00, 8394.64 examples/s]\u001b[32m [repeated 33x across cluster]\u001b[0m\n",
      "Filter: 100%|██████████| 12597/12597 [00:01<00:00, 6895.68 examples/s]\u001b[32m [repeated 5x across cluster]\u001b[0m\n",
      "Filter: 100%|██████████| 12597/12597 [00:03<00:00, 3843.30 examples/s]\n",
      "Filter: 100%|██████████| 12597/12597 [00:03<00:00, 3991.57 examples/s]\n",
      "\u001b[36m(ClientAppActor pid=102828)\u001b[0m WARNING:tensorflow:AutoGraph could not transform <function dict_to_tensor at 0x7a9b3edbbc40> and will run it as-is.\u001b[32m [repeated 7x across cluster]\u001b[0m\n",
      "\u001b[36m(ClientAppActor pid=102828)\u001b[0m Please report this to the TensorFlow team. When filing the bug, set the verbosity to 10 (on Linux, `export AUTOGRAPH_VERBOSITY=10`) and attach the full output.\u001b[32m [repeated 7x across cluster]\u001b[0m\n",
      "\u001b[36m(ClientAppActor pid=102828)\u001b[0m Cause: Unknown node type <gast.gast.Import object at 0x7a9acc6c14e0>\u001b[32m [repeated 7x across cluster]\u001b[0m\n",
      "\u001b[36m(ClientAppActor pid=102828)\u001b[0m To silence this warning, decorate the function with @tf.autograph.experimental.do_not_convert\u001b[32m [repeated 7x across cluster]\u001b[0m\n",
      "Filter:   0%|          | 0/12597 [00:00<?, ? examples/s]\u001b[32m [repeated 7x across cluster]\u001b[0m\n",
      "Filter:  87%|████████▋ | 11000/12597 [00:02<00:00, 3534.06 examples/s]\u001b[32m [repeated 74x across cluster]\u001b[0m\n",
      "Filter: 100%|██████████| 12598/12598 [00:03<00:00, 4039.89 examples/s]\u001b[32m [repeated 13x across cluster]\u001b[0m\n",
      "Filter: 100%|██████████| 12597/12597 [00:03<00:00, 3855.34 examples/s]\n",
      "Filter: 100%|██████████| 12597/12597 [00:02<00:00, 4530.79 examples/s]\n",
      "\u001b[92mINFO \u001b[0m:      aggregate_fit: received 10 results and 0 failures\n",
      "\u001b[92mINFO \u001b[0m:      fit progress: (7, 1.0409108400344849, {'accuracy': np.float64(0.7633516678495387), 'precision': np.float64(0.9806410256410256), 'recall': np.float64(0.596041455622224), 'f1': np.float64(0.7414336257451655), 'miss_rate': np.float64(0.40395854437777606)}, 150.75918873499904)\n",
      "\u001b[92mINFO \u001b[0m:      configure_evaluate: no clients selected, skipping evaluation\n",
      "\u001b[92mINFO \u001b[0m:      \n",
      "\u001b[92mINFO \u001b[0m:      [ROUND 8]\n",
      "\u001b[92mINFO \u001b[0m:      configure_fit: strategy sampled 10 clients (out of 10)\n",
      "\u001b[36m(ClientAppActor pid=102821)\u001b[0m WARNING:tensorflow:AutoGraph could not transform <function dict_to_tensor at 0x7f797cca8ae0> and will run it as-is.\u001b[32m [repeated 3x across cluster]\u001b[0m\n",
      "\u001b[36m(ClientAppActor pid=102821)\u001b[0m Please report this to the TensorFlow team. When filing the bug, set the verbosity to 10 (on Linux, `export AUTOGRAPH_VERBOSITY=10`) and attach the full output.\u001b[32m [repeated 3x across cluster]\u001b[0m\n",
      "\u001b[36m(ClientAppActor pid=102821)\u001b[0m Cause: Unknown node type <gast.gast.Import object at 0x7f797ee41c00>\u001b[32m [repeated 3x across cluster]\u001b[0m\n",
      "\u001b[36m(ClientAppActor pid=102821)\u001b[0m To silence this warning, decorate the function with @tf.autograph.experimental.do_not_convert\u001b[32m [repeated 3x across cluster]\u001b[0m\n",
      "Filter:   0%|          | 0/12597 [00:00<?, ? examples/s]\u001b[32m [repeated 3x across cluster]\u001b[0m\n",
      "Filter:  87%|████████▋ | 11000/12597 [00:02<00:00, 5925.35 examples/s]\u001b[32m [repeated 33x across cluster]\u001b[0m\n",
      "Filter:  95%|█████████▌| 12000/12597 [00:03<00:00, 3411.20 examples/s]\u001b[32m [repeated 3x across cluster]\u001b[0m\n",
      "Filter: 100%|██████████| 12597/12597 [00:03<00:00, 3352.11 examples/s]\n",
      "Filter: 100%|██████████| 12597/12597 [00:02<00:00, 5201.78 examples/s]\n",
      "\u001b[36m(ClientAppActor pid=102829)\u001b[0m WARNING:tensorflow:AutoGraph could not transform <function dict_to_tensor at 0x7cac1c7c93a0> and will run it as-is.\u001b[32m [repeated 7x across cluster]\u001b[0m\n",
      "\u001b[36m(ClientAppActor pid=102829)\u001b[0m Please report this to the TensorFlow team. When filing the bug, set the verbosity to 10 (on Linux, `export AUTOGRAPH_VERBOSITY=10`) and attach the full output.\u001b[32m [repeated 7x across cluster]\u001b[0m\n",
      "\u001b[36m(ClientAppActor pid=102829)\u001b[0m Cause: Unknown node type <gast.gast.Import object at 0x7cac1c6a8be0>\u001b[32m [repeated 7x across cluster]\u001b[0m\n",
      "\u001b[36m(ClientAppActor pid=102829)\u001b[0m To silence this warning, decorate the function with @tf.autograph.experimental.do_not_convert\u001b[32m [repeated 7x across cluster]\u001b[0m\n",
      "Filter:   0%|          | 0/12597 [00:00<?, ? examples/s]\u001b[32m [repeated 7x across cluster]\u001b[0m\n",
      "Filter:  87%|████████▋ | 11000/12597 [00:03<00:00, 3326.73 examples/s]\u001b[32m [repeated 77x across cluster]\u001b[0m\n",
      "Filter:  95%|█████████▌| 12000/12597 [00:03<00:00, 3387.44 examples/s]\u001b[32m [repeated 8x across cluster]\u001b[0m\n",
      "Filter: 100%|██████████| 12597/12597 [00:03<00:00, 3587.50 examples/s]\u001b[32m [repeated 5x across cluster]\u001b[0m\n",
      "\u001b[92mINFO \u001b[0m:      aggregate_fit: received 10 results and 0 failures\n",
      "\u001b[92mINFO \u001b[0m:      fit progress: (8, 1.0805432796478271, {'accuracy': np.float64(0.7634847409510291), 'precision': np.float64(0.9801561899884778), 'recall': np.float64(0.596586924335697), 'f1': np.float64(0.7417167215655881), 'miss_rate': np.float64(0.40341307566430296)}, 171.6061554259977)\n",
      "\u001b[92mINFO \u001b[0m:      configure_evaluate: no clients selected, skipping evaluation\n",
      "\u001b[92mINFO \u001b[0m:      \n",
      "\u001b[92mINFO \u001b[0m:      [ROUND 9]\n",
      "\u001b[92mINFO \u001b[0m:      configure_fit: strategy sampled 10 clients (out of 10)\n",
      "\u001b[36m(ClientAppActor pid=102816)\u001b[0m WARNING:tensorflow:AutoGraph could not transform <function dict_to_tensor at 0x724c9db72160> and will run it as-is.\u001b[32m [repeated 3x across cluster]\u001b[0m\n",
      "\u001b[36m(ClientAppActor pid=102816)\u001b[0m Please report this to the TensorFlow team. When filing the bug, set the verbosity to 10 (on Linux, `export AUTOGRAPH_VERBOSITY=10`) and attach the full output.\u001b[32m [repeated 3x across cluster]\u001b[0m\n",
      "\u001b[36m(ClientAppActor pid=102816)\u001b[0m Cause: Unknown node type <gast.gast.Import object at 0x724d31483f40>\u001b[32m [repeated 3x across cluster]\u001b[0m\n",
      "\u001b[36m(ClientAppActor pid=102816)\u001b[0m To silence this warning, decorate the function with @tf.autograph.experimental.do_not_convert\u001b[32m [repeated 3x across cluster]\u001b[0m\n",
      "Filter:   0%|          | 0/12598 [00:00<?, ? examples/s]\u001b[32m [repeated 3x across cluster]\u001b[0m\n",
      "Filter:  87%|████████▋ | 11000/12597 [00:02<00:00, 4118.86 examples/s]\u001b[32m [repeated 33x across cluster]\u001b[0m\n",
      "Filter: 100%|██████████| 12597/12597 [00:02<00:00, 4552.94 examples/s]\u001b[32m [repeated 6x across cluster]\u001b[0m\n",
      "Filter: 100%|██████████| 12598/12598 [00:02<00:00, 5399.81 examples/s]\n",
      "\u001b[36m(ClientAppActor pid=102827)\u001b[0m WARNING:tensorflow:AutoGraph could not transform <function dict_to_tensor at 0x78ad2cd6e660> and will run it as-is.\u001b[32m [repeated 7x across cluster]\u001b[0m\n",
      "\u001b[36m(ClientAppActor pid=102827)\u001b[0m Please report this to the TensorFlow team. When filing the bug, set the verbosity to 10 (on Linux, `export AUTOGRAPH_VERBOSITY=10`) and attach the full output.\u001b[32m [repeated 7x across cluster]\u001b[0m\n",
      "\u001b[36m(ClientAppActor pid=102827)\u001b[0m Cause: Unknown node type <gast.gast.Import object at 0x78ad2cded7e0>\u001b[32m [repeated 7x across cluster]\u001b[0m\n",
      "\u001b[36m(ClientAppActor pid=102827)\u001b[0m To silence this warning, decorate the function with @tf.autograph.experimental.do_not_convert\u001b[32m [repeated 7x across cluster]\u001b[0m\n",
      "Filter:   0%|          | 0/12597 [00:00<?, ? examples/s]\u001b[32m [repeated 7x across cluster]\u001b[0m\n",
      "Filter:  87%|████████▋ | 11000/12598 [00:02<00:00, 3251.92 examples/s]\u001b[32m [repeated 77x across cluster]\u001b[0m\n",
      "Filter: 100%|██████████| 12597/12597 [00:03<00:00, 3657.27 examples/s]\u001b[32m [repeated 9x across cluster]\u001b[0m\n",
      "Filter: 100%|██████████| 12598/12598 [00:03<00:00, 3585.74 examples/s]\u001b[32m [repeated 5x across cluster]\u001b[0m\n",
      "\u001b[92mINFO \u001b[0m:      aggregate_fit: received 10 results and 0 failures\n",
      "\u001b[92mINFO \u001b[0m:      fit progress: (9, 1.1119377613067627, {'accuracy': np.float64(0.763041163946061), 'precision': np.float64(0.9797617522736006), 'recall': np.float64(0.596041455622224), 'f1': np.float64(0.7411821705426357), 'miss_rate': np.float64(0.40395854437777606)}, 195.8518617769987)\n",
      "\u001b[92mINFO \u001b[0m:      configure_evaluate: no clients selected, skipping evaluation\n",
      "\u001b[92mINFO \u001b[0m:      \n",
      "\u001b[92mINFO \u001b[0m:      [ROUND 10]\n",
      "\u001b[92mINFO \u001b[0m:      configure_fit: strategy sampled 10 clients (out of 10)\n",
      "\u001b[36m(ClientAppActor pid=102816)\u001b[0m WARNING:tensorflow:AutoGraph could not transform <function dict_to_tensor at 0x724c9dc4fe20> and will run it as-is.\u001b[32m [repeated 3x across cluster]\u001b[0m\n",
      "\u001b[36m(ClientAppActor pid=102816)\u001b[0m Please report this to the TensorFlow team. When filing the bug, set the verbosity to 10 (on Linux, `export AUTOGRAPH_VERBOSITY=10`) and attach the full output.\u001b[32m [repeated 3x across cluster]\u001b[0m\n",
      "\u001b[36m(ClientAppActor pid=102816)\u001b[0m Cause: Unknown node type <gast.gast.Import object at 0x724c9d4d1540>\u001b[32m [repeated 3x across cluster]\u001b[0m\n",
      "\u001b[36m(ClientAppActor pid=102816)\u001b[0m To silence this warning, decorate the function with @tf.autograph.experimental.do_not_convert\u001b[32m [repeated 3x across cluster]\u001b[0m\n",
      "Filter:   0%|          | 0/12597 [00:00<?, ? examples/s]\u001b[32m [repeated 3x across cluster]\u001b[0m\n",
      "Filter:  87%|████████▋ | 11000/12597 [00:03<00:00, 4093.89 examples/s]\u001b[32m [repeated 33x across cluster]\u001b[0m\n",
      "Filter: 100%|██████████| 12597/12597 [00:03<00:00, 3734.02 examples/s]\u001b[32m [repeated 5x across cluster]\u001b[0m\n",
      "Filter: 100%|██████████| 12597/12597 [00:04<00:00, 3012.69 examples/s]\n",
      "Filter: 100%|██████████| 12597/12597 [00:02<00:00, 5237.06 examples/s]\n",
      "\u001b[36m(ClientAppActor pid=102826)\u001b[0m WARNING:tensorflow:AutoGraph could not transform <function dict_to_tensor at 0x7a7db0b45c60> and will run it as-is.\u001b[32m [repeated 7x across cluster]\u001b[0m\n",
      "\u001b[36m(ClientAppActor pid=102826)\u001b[0m Please report this to the TensorFlow team. When filing the bug, set the verbosity to 10 (on Linux, `export AUTOGRAPH_VERBOSITY=10`) and attach the full output.\u001b[32m [repeated 7x across cluster]\u001b[0m\n",
      "\u001b[36m(ClientAppActor pid=102826)\u001b[0m Cause: Unknown node type <gast.gast.Import object at 0x7a7db0beabc0>\u001b[32m [repeated 7x across cluster]\u001b[0m\n",
      "\u001b[36m(ClientAppActor pid=102826)\u001b[0m To silence this warning, decorate the function with @tf.autograph.experimental.do_not_convert\u001b[32m [repeated 7x across cluster]\u001b[0m\n",
      "Filter:   0%|          | 0/12597 [00:00<?, ? examples/s]\u001b[32m [repeated 7x across cluster]\u001b[0m\n",
      "Filter:  87%|████████▋ | 11000/12598 [00:03<00:00, 3289.24 examples/s]\u001b[32m [repeated 77x across cluster]\u001b[0m\n",
      "Filter:  95%|█████████▌| 12000/12598 [00:03<00:00, 3261.14 examples/s]\u001b[32m [repeated 8x across cluster]\u001b[0m\n",
      "Filter: 100%|██████████| 12598/12598 [00:03<00:00, 3446.98 examples/s]\u001b[32m [repeated 5x across cluster]\u001b[0m\n",
      "\u001b[92mINFO \u001b[0m:      aggregate_fit: received 10 results and 0 failures\n",
      "\u001b[92mINFO \u001b[0m:      fit progress: (10, 1.13663911819458, {'accuracy': np.float64(0.7621983676366217), 'precision': np.float64(0.9786062003586984), 'recall': np.float64(0.5952622146029767), 'f1': np.float64(0.7402490430737924), 'miss_rate': np.float64(0.4047377853970233)}, 219.08566241500012)\n",
      "\u001b[92mINFO \u001b[0m:      configure_evaluate: no clients selected, skipping evaluation\n",
      "\u001b[92mINFO \u001b[0m:      \n",
      "\u001b[92mINFO \u001b[0m:      [SUMMARY]\n",
      "\u001b[92mINFO \u001b[0m:      Run finished 10 round(s) in 219.09s\n",
      "\u001b[92mINFO \u001b[0m:      \tHistory (loss, centralized):\n",
      "\u001b[92mINFO \u001b[0m:      \t\tround 0: 0.7292262315750122\n",
      "\u001b[92mINFO \u001b[0m:      \t\tround 1: 0.7050912976264954\n",
      "\u001b[92mINFO \u001b[0m:      \t\tround 2: 0.7175502181053162\n",
      "\u001b[92mINFO \u001b[0m:      \t\tround 3: 0.757935106754303\n",
      "\u001b[92mINFO \u001b[0m:      \t\tround 4: 0.8369436860084534\n",
      "\u001b[92mINFO \u001b[0m:      \t\tround 5: 0.9186528325080872\n",
      "\u001b[92mINFO \u001b[0m:      \t\tround 6: 0.9872873425483704\n",
      "\u001b[92mINFO \u001b[0m:      \t\tround 7: 1.0409108400344849\n",
      "\u001b[92mINFO \u001b[0m:      \t\tround 8: 1.0805432796478271\n",
      "\u001b[92mINFO \u001b[0m:      \t\tround 9: 1.1119377613067627\n",
      "\u001b[92mINFO \u001b[0m:      \t\tround 10: 1.13663911819458\n",
      "\u001b[92mINFO \u001b[0m:      \tHistory (metrics, centralized):\n",
      "\u001b[92mINFO \u001b[0m:      \t{'accuracy': [(0, np.float64(0.6052608232789212)),\n",
      "\u001b[92mINFO \u001b[0m:      \t              (1, np.float64(0.7140259048970902)),\n",
      "\u001b[92mINFO \u001b[0m:      \t              (2, np.float64(0.73305535841022)),\n",
      "\u001b[92mINFO \u001b[0m:      \t              (3, np.float64(0.7460521646557843)),\n",
      "\u001b[92mINFO \u001b[0m:      \t              (4, np.float64(0.7637065294535131)),\n",
      "\u001b[92mINFO \u001b[0m:      \t              (5, np.float64(0.7643718949609652)),\n",
      "\u001b[92mINFO \u001b[0m:      \t              (6, np.float64(0.7633960255500355)),\n",
      "\u001b[92mINFO \u001b[0m:      \t              (7, np.float64(0.7633516678495387)),\n",
      "\u001b[92mINFO \u001b[0m:      \t              (8, np.float64(0.7634847409510291)),\n",
      "\u001b[92mINFO \u001b[0m:      \t              (9, np.float64(0.763041163946061)),\n",
      "\u001b[92mINFO \u001b[0m:      \t              (10, np.float64(0.7621983676366217))],\n",
      "\u001b[92mINFO \u001b[0m:      \t 'f1': [(0, np.float64(0.5330814838134215)),\n",
      "\u001b[92mINFO \u001b[0m:      \t        (1, np.float64(0.6668389230530722)),\n",
      "\u001b[92mINFO \u001b[0m:      \t        (2, np.float64(0.6959991917559103)),\n",
      "\u001b[92mINFO \u001b[0m:      \t        (3, np.float64(0.7159795604504638)),\n",
      "\u001b[92mINFO \u001b[0m:      \t        (4, np.float64(0.7414454205698199)),\n",
      "\u001b[92mINFO \u001b[0m:      \t        (5, np.float64(0.7424609715892563)),\n",
      "\u001b[92mINFO \u001b[0m:      \t        (6, np.float64(0.7412689173457508)),\n",
      "\u001b[92mINFO \u001b[0m:      \t        (7, np.float64(0.7414336257451655)),\n",
      "\u001b[92mINFO \u001b[0m:      \t        (8, np.float64(0.7417167215655881)),\n",
      "\u001b[92mINFO \u001b[0m:      \t        (9, np.float64(0.7411821705426357)),\n",
      "\u001b[92mINFO \u001b[0m:      \t        (10, np.float64(0.7402490430737924))],\n",
      "\u001b[92mINFO \u001b[0m:      \t 'miss_rate': [(0, np.float64(0.6041455622223953)),\n",
      "\u001b[92mINFO \u001b[0m:      \t               (1, np.float64(0.49723369438167225)),\n",
      "\u001b[92mINFO \u001b[0m:      \t               (2, np.float64(0.4631808618405673)),\n",
      "\u001b[92mINFO \u001b[0m:      \t               (3, np.float64(0.43769968051118213)),\n",
      "\u001b[92mINFO \u001b[0m:      \t               (4, np.float64(0.404815709498948)),\n",
      "\u001b[92mINFO \u001b[0m:      \t               (5, np.float64(0.40333515156237826)),\n",
      "\u001b[92mINFO \u001b[0m:      \t               (6, np.float64(0.40458193719317387)),\n",
      "\u001b[92mINFO \u001b[0m:      \t               (7, np.float64(0.40395854437777606)),\n",
      "\u001b[92mINFO \u001b[0m:      \t               (8, np.float64(0.40341307566430296)),\n",
      "\u001b[92mINFO \u001b[0m:      \t               (9, np.float64(0.40395854437777606)),\n",
      "\u001b[92mINFO \u001b[0m:      \t               (10, np.float64(0.4047377853970233))],\n",
      "\u001b[92mINFO \u001b[0m:      \t 'precision': [(0, np.float64(0.8159331834243495)),\n",
      "\u001b[92mINFO \u001b[0m:      \t               (1, np.float64(0.9898741945382019)),\n",
      "\u001b[92mINFO \u001b[0m:      \t               (2, np.float64(0.9893723969553353)),\n",
      "\u001b[92mINFO \u001b[0m:      \t               (3, np.float64(0.9852539595849262)),\n",
      "\u001b[92mINFO \u001b[0m:      \t               (4, np.float64(0.983011583011583)),\n",
      "\u001b[92mINFO \u001b[0m:      \t               (5, np.float64(0.9825484409085077)),\n",
      "\u001b[92mINFO \u001b[0m:      \t               (6, np.float64(0.9817551072851086)),\n",
      "\u001b[92mINFO \u001b[0m:      \t               (7, np.float64(0.9806410256410256)),\n",
      "\u001b[92mINFO \u001b[0m:      \t               (8, np.float64(0.9801561899884778)),\n",
      "\u001b[92mINFO \u001b[0m:      \t               (9, np.float64(0.9797617522736006)),\n",
      "\u001b[92mINFO \u001b[0m:      \t               (10, np.float64(0.9786062003586984))],\n",
      "\u001b[92mINFO \u001b[0m:      \t 'recall': [(0, np.float64(0.3958544377776046)),\n",
      "\u001b[92mINFO \u001b[0m:      \t            (1, np.float64(0.5027663056183278)),\n",
      "\u001b[92mINFO \u001b[0m:      \t            (2, np.float64(0.5368191381594327)),\n",
      "\u001b[92mINFO \u001b[0m:      \t            (3, np.float64(0.5623003194888179)),\n",
      "\u001b[92mINFO \u001b[0m:      \t            (4, np.float64(0.5951842905010519)),\n",
      "\u001b[92mINFO \u001b[0m:      \t            (5, np.float64(0.5966648484376218)),\n",
      "\u001b[92mINFO \u001b[0m:      \t            (6, np.float64(0.5954180628068262)),\n",
      "\u001b[92mINFO \u001b[0m:      \t            (7, np.float64(0.596041455622224)),\n",
      "\u001b[92mINFO \u001b[0m:      \t            (8, np.float64(0.596586924335697)),\n",
      "\u001b[92mINFO \u001b[0m:      \t            (9, np.float64(0.596041455622224)),\n",
      "\u001b[92mINFO \u001b[0m:      \t            (10, np.float64(0.5952622146029767))]}\n",
      "\u001b[92mINFO \u001b[0m:      \n",
      "\u001b[36m(ClientAppActor pid=102827)\u001b[0m WARNING:tensorflow:AutoGraph could not transform <function dict_to_tensor at 0x78ad0c5fdbc0> and will run it as-is.\u001b[32m [repeated 3x across cluster]\u001b[0m\n",
      "\u001b[36m(ClientAppActor pid=102827)\u001b[0m Please report this to the TensorFlow team. When filing the bug, set the verbosity to 10 (on Linux, `export AUTOGRAPH_VERBOSITY=10`) and attach the full output.\u001b[32m [repeated 3x across cluster]\u001b[0m\n",
      "\u001b[36m(ClientAppActor pid=102827)\u001b[0m Cause: Unknown node type <gast.gast.Import object at 0x78ad542bc8b0>\u001b[32m [repeated 3x across cluster]\u001b[0m\n",
      "\u001b[36m(ClientAppActor pid=102827)\u001b[0m To silence this warning, decorate the function with @tf.autograph.experimental.do_not_convert\u001b[32m [repeated 3x across cluster]\u001b[0m\n",
      "Filter:   0%|          | 0/12597 [00:00<?, ? examples/s]\u001b[32m [repeated 2x across cluster]\u001b[0m\n",
      "Filter:  87%|████████▋ | 11000/12597 [00:02<00:00, 4625.22 examples/s]\u001b[32m [repeated 33x across cluster]\u001b[0m\n",
      "Filter:  95%|█████████▌| 12000/12597 [00:03<00:00, 4944.50 examples/s]\u001b[32m [repeated 7x across cluster]\u001b[0m\n",
      "Filter: 100%|██████████| 12597/12597 [00:03<00:00, 3886.65 examples/s]\n"
     ]
    }
   ],
   "source": [
    "import os\n",
    "\n",
    "# Enable GPU growth in the main process\n",
    "os.environ[\"TF_FORCE_GPU_ALLOW_GROWTH\"] = \"1\"\n",
    "\n",
    "# Start simulation\n",
    "fl.simulation.run_simulation(\n",
    "    server_app=server_app,\n",
    "    client_app=client_app,\n",
    "    num_supernodes=NUM_CLIENTS,\n",
    "    backend_config={\n",
    "        \"client_resources\": {\n",
    "            \"num_cpus\": 2,\n",
    "            \"num_gpus\": 0.1 if len(tf.config.list_physical_devices(\"GPU\")) > 0 else 0.0,\n",
    "        }\n",
    "    },\n",
    ")\n"
   ]
  },
  {
   "cell_type": "code",
   "execution_count": 27,
   "metadata": {},
   "outputs": [
    {
     "data": {
      "text/plain": [
       "{'loss': 1.13663911819458,\n",
       " 'accuracy': np.float64(0.7621983676366217),\n",
       " 'precision': np.float64(0.9786062003586984),\n",
       " 'recall': np.float64(0.5952622146029767),\n",
       " 'f1': np.float64(0.7402490430737924),\n",
       " 'miss_rate': np.float64(0.4047377853970233)}"
      ]
     },
     "execution_count": 27,
     "metadata": {},
     "output_type": "execute_result"
    }
   ],
   "source": [
    "fl_weights = np.load(\"fl_weights.npy\", allow_pickle=True)\n",
    "score_fl = eval_model(fl_weights, dds[\"test\"])\n",
    "score_fl"
   ]
  },
  {
   "cell_type": "code",
   "execution_count": 28,
   "metadata": {},
   "outputs": [
    {
     "data": {
      "text/html": [
       "<div>\n",
       "<style scoped>\n",
       "    .dataframe tbody tr th:only-of-type {\n",
       "        vertical-align: middle;\n",
       "    }\n",
       "\n",
       "    .dataframe tbody tr th {\n",
       "        vertical-align: top;\n",
       "    }\n",
       "\n",
       "    .dataframe thead th {\n",
       "        text-align: right;\n",
       "    }\n",
       "</style>\n",
       "<table border=\"1\" class=\"dataframe\">\n",
       "  <thead>\n",
       "    <tr style=\"text-align: right;\">\n",
       "      <th></th>\n",
       "      <th>count</th>\n",
       "      <th>correct</th>\n",
       "      <th>missed</th>\n",
       "      <th>rate</th>\n",
       "    </tr>\n",
       "  </thead>\n",
       "  <tbody>\n",
       "    <tr>\n",
       "      <th>apache2</th>\n",
       "      <td>737.0</td>\n",
       "      <td>108.0</td>\n",
       "      <td>629.0</td>\n",
       "      <td>0.146540</td>\n",
       "    </tr>\n",
       "    <tr>\n",
       "      <th>back</th>\n",
       "      <td>359.0</td>\n",
       "      <td>0.0</td>\n",
       "      <td>359.0</td>\n",
       "      <td>0.000000</td>\n",
       "    </tr>\n",
       "    <tr>\n",
       "      <th>buffer_overflow</th>\n",
       "      <td>20.0</td>\n",
       "      <td>3.0</td>\n",
       "      <td>17.0</td>\n",
       "      <td>0.150000</td>\n",
       "    </tr>\n",
       "    <tr>\n",
       "      <th>ftp_write</th>\n",
       "      <td>3.0</td>\n",
       "      <td>0.0</td>\n",
       "      <td>3.0</td>\n",
       "      <td>0.000000</td>\n",
       "    </tr>\n",
       "    <tr>\n",
       "      <th>guess_passwd</th>\n",
       "      <td>1231.0</td>\n",
       "      <td>22.0</td>\n",
       "      <td>1209.0</td>\n",
       "      <td>0.017872</td>\n",
       "    </tr>\n",
       "    <tr>\n",
       "      <th>httptunnel</th>\n",
       "      <td>133.0</td>\n",
       "      <td>51.0</td>\n",
       "      <td>82.0</td>\n",
       "      <td>0.383459</td>\n",
       "    </tr>\n",
       "    <tr>\n",
       "      <th>imap</th>\n",
       "      <td>1.0</td>\n",
       "      <td>0.0</td>\n",
       "      <td>1.0</td>\n",
       "      <td>0.000000</td>\n",
       "    </tr>\n",
       "    <tr>\n",
       "      <th>ipsweep</th>\n",
       "      <td>141.0</td>\n",
       "      <td>122.0</td>\n",
       "      <td>19.0</td>\n",
       "      <td>0.865248</td>\n",
       "    </tr>\n",
       "    <tr>\n",
       "      <th>land</th>\n",
       "      <td>7.0</td>\n",
       "      <td>7.0</td>\n",
       "      <td>0.0</td>\n",
       "      <td>1.000000</td>\n",
       "    </tr>\n",
       "    <tr>\n",
       "      <th>loadmodule</th>\n",
       "      <td>2.0</td>\n",
       "      <td>0.0</td>\n",
       "      <td>2.0</td>\n",
       "      <td>0.000000</td>\n",
       "    </tr>\n",
       "    <tr>\n",
       "      <th>mailbomb</th>\n",
       "      <td>293.0</td>\n",
       "      <td>0.0</td>\n",
       "      <td>293.0</td>\n",
       "      <td>0.000000</td>\n",
       "    </tr>\n",
       "    <tr>\n",
       "      <th>mscan</th>\n",
       "      <td>996.0</td>\n",
       "      <td>657.0</td>\n",
       "      <td>339.0</td>\n",
       "      <td>0.659639</td>\n",
       "    </tr>\n",
       "    <tr>\n",
       "      <th>multihop</th>\n",
       "      <td>18.0</td>\n",
       "      <td>2.0</td>\n",
       "      <td>16.0</td>\n",
       "      <td>0.111111</td>\n",
       "    </tr>\n",
       "    <tr>\n",
       "      <th>named</th>\n",
       "      <td>17.0</td>\n",
       "      <td>2.0</td>\n",
       "      <td>15.0</td>\n",
       "      <td>0.117647</td>\n",
       "    </tr>\n",
       "    <tr>\n",
       "      <th>neptune</th>\n",
       "      <td>4657.0</td>\n",
       "      <td>4657.0</td>\n",
       "      <td>0.0</td>\n",
       "      <td>1.000000</td>\n",
       "    </tr>\n",
       "    <tr>\n",
       "      <th>nmap</th>\n",
       "      <td>73.0</td>\n",
       "      <td>73.0</td>\n",
       "      <td>0.0</td>\n",
       "      <td>1.000000</td>\n",
       "    </tr>\n",
       "    <tr>\n",
       "      <th>normal</th>\n",
       "      <td>9711.0</td>\n",
       "      <td>9544.0</td>\n",
       "      <td>167.0</td>\n",
       "      <td>0.982803</td>\n",
       "    </tr>\n",
       "    <tr>\n",
       "      <th>perl</th>\n",
       "      <td>2.0</td>\n",
       "      <td>0.0</td>\n",
       "      <td>2.0</td>\n",
       "      <td>0.000000</td>\n",
       "    </tr>\n",
       "    <tr>\n",
       "      <th>phf</th>\n",
       "      <td>2.0</td>\n",
       "      <td>0.0</td>\n",
       "      <td>2.0</td>\n",
       "      <td>0.000000</td>\n",
       "    </tr>\n",
       "    <tr>\n",
       "      <th>pod</th>\n",
       "      <td>41.0</td>\n",
       "      <td>36.0</td>\n",
       "      <td>5.0</td>\n",
       "      <td>0.878049</td>\n",
       "    </tr>\n",
       "    <tr>\n",
       "      <th>portsweep</th>\n",
       "      <td>157.0</td>\n",
       "      <td>157.0</td>\n",
       "      <td>0.0</td>\n",
       "      <td>1.000000</td>\n",
       "    </tr>\n",
       "    <tr>\n",
       "      <th>processtable</th>\n",
       "      <td>685.0</td>\n",
       "      <td>240.0</td>\n",
       "      <td>445.0</td>\n",
       "      <td>0.350365</td>\n",
       "    </tr>\n",
       "    <tr>\n",
       "      <th>ps</th>\n",
       "      <td>15.0</td>\n",
       "      <td>2.0</td>\n",
       "      <td>13.0</td>\n",
       "      <td>0.133333</td>\n",
       "    </tr>\n",
       "    <tr>\n",
       "      <th>rootkit</th>\n",
       "      <td>13.0</td>\n",
       "      <td>1.0</td>\n",
       "      <td>12.0</td>\n",
       "      <td>0.076923</td>\n",
       "    </tr>\n",
       "    <tr>\n",
       "      <th>saint</th>\n",
       "      <td>319.0</td>\n",
       "      <td>297.0</td>\n",
       "      <td>22.0</td>\n",
       "      <td>0.931034</td>\n",
       "    </tr>\n",
       "    <tr>\n",
       "      <th>satan</th>\n",
       "      <td>735.0</td>\n",
       "      <td>489.0</td>\n",
       "      <td>246.0</td>\n",
       "      <td>0.665306</td>\n",
       "    </tr>\n",
       "    <tr>\n",
       "      <th>sendmail</th>\n",
       "      <td>14.0</td>\n",
       "      <td>1.0</td>\n",
       "      <td>13.0</td>\n",
       "      <td>0.071429</td>\n",
       "    </tr>\n",
       "    <tr>\n",
       "      <th>smurf</th>\n",
       "      <td>665.0</td>\n",
       "      <td>563.0</td>\n",
       "      <td>102.0</td>\n",
       "      <td>0.846617</td>\n",
       "    </tr>\n",
       "    <tr>\n",
       "      <th>snmpgetattack</th>\n",
       "      <td>178.0</td>\n",
       "      <td>0.0</td>\n",
       "      <td>178.0</td>\n",
       "      <td>0.000000</td>\n",
       "    </tr>\n",
       "    <tr>\n",
       "      <th>snmpguess</th>\n",
       "      <td>331.0</td>\n",
       "      <td>1.0</td>\n",
       "      <td>330.0</td>\n",
       "      <td>0.003021</td>\n",
       "    </tr>\n",
       "    <tr>\n",
       "      <th>sqlattack</th>\n",
       "      <td>2.0</td>\n",
       "      <td>0.0</td>\n",
       "      <td>2.0</td>\n",
       "      <td>0.000000</td>\n",
       "    </tr>\n",
       "    <tr>\n",
       "      <th>teardrop</th>\n",
       "      <td>12.0</td>\n",
       "      <td>12.0</td>\n",
       "      <td>0.0</td>\n",
       "      <td>1.000000</td>\n",
       "    </tr>\n",
       "    <tr>\n",
       "      <th>udpstorm</th>\n",
       "      <td>2.0</td>\n",
       "      <td>0.0</td>\n",
       "      <td>2.0</td>\n",
       "      <td>0.000000</td>\n",
       "    </tr>\n",
       "    <tr>\n",
       "      <th>warezmaster</th>\n",
       "      <td>944.0</td>\n",
       "      <td>130.0</td>\n",
       "      <td>814.0</td>\n",
       "      <td>0.137712</td>\n",
       "    </tr>\n",
       "    <tr>\n",
       "      <th>worm</th>\n",
       "      <td>2.0</td>\n",
       "      <td>0.0</td>\n",
       "      <td>2.0</td>\n",
       "      <td>0.000000</td>\n",
       "    </tr>\n",
       "    <tr>\n",
       "      <th>xlock</th>\n",
       "      <td>9.0</td>\n",
       "      <td>1.0</td>\n",
       "      <td>8.0</td>\n",
       "      <td>0.111111</td>\n",
       "    </tr>\n",
       "    <tr>\n",
       "      <th>xsnoop</th>\n",
       "      <td>4.0</td>\n",
       "      <td>3.0</td>\n",
       "      <td>1.0</td>\n",
       "      <td>0.750000</td>\n",
       "    </tr>\n",
       "    <tr>\n",
       "      <th>xterm</th>\n",
       "      <td>13.0</td>\n",
       "      <td>2.0</td>\n",
       "      <td>11.0</td>\n",
       "      <td>0.153846</td>\n",
       "    </tr>\n",
       "  </tbody>\n",
       "</table>\n",
       "</div>"
      ],
      "text/plain": [
       "                  count  correct  missed      rate\n",
       "apache2           737.0    108.0   629.0  0.146540\n",
       "back              359.0      0.0   359.0  0.000000\n",
       "buffer_overflow    20.0      3.0    17.0  0.150000\n",
       "ftp_write           3.0      0.0     3.0  0.000000\n",
       "guess_passwd     1231.0     22.0  1209.0  0.017872\n",
       "httptunnel        133.0     51.0    82.0  0.383459\n",
       "imap                1.0      0.0     1.0  0.000000\n",
       "ipsweep           141.0    122.0    19.0  0.865248\n",
       "land                7.0      7.0     0.0  1.000000\n",
       "loadmodule          2.0      0.0     2.0  0.000000\n",
       "mailbomb          293.0      0.0   293.0  0.000000\n",
       "mscan             996.0    657.0   339.0  0.659639\n",
       "multihop           18.0      2.0    16.0  0.111111\n",
       "named              17.0      2.0    15.0  0.117647\n",
       "neptune          4657.0   4657.0     0.0  1.000000\n",
       "nmap               73.0     73.0     0.0  1.000000\n",
       "normal           9711.0   9544.0   167.0  0.982803\n",
       "perl                2.0      0.0     2.0  0.000000\n",
       "phf                 2.0      0.0     2.0  0.000000\n",
       "pod                41.0     36.0     5.0  0.878049\n",
       "portsweep         157.0    157.0     0.0  1.000000\n",
       "processtable      685.0    240.0   445.0  0.350365\n",
       "ps                 15.0      2.0    13.0  0.133333\n",
       "rootkit            13.0      1.0    12.0  0.076923\n",
       "saint             319.0    297.0    22.0  0.931034\n",
       "satan             735.0    489.0   246.0  0.665306\n",
       "sendmail           14.0      1.0    13.0  0.071429\n",
       "smurf             665.0    563.0   102.0  0.846617\n",
       "snmpgetattack     178.0      0.0   178.0  0.000000\n",
       "snmpguess         331.0      1.0   330.0  0.003021\n",
       "sqlattack           2.0      0.0     2.0  0.000000\n",
       "teardrop           12.0     12.0     0.0  1.000000\n",
       "udpstorm            2.0      0.0     2.0  0.000000\n",
       "warezmaster       944.0    130.0   814.0  0.137712\n",
       "worm                2.0      0.0     2.0  0.000000\n",
       "xlock               9.0      1.0     8.0  0.111111\n",
       "xsnoop              4.0      3.0     1.0  0.750000\n",
       "xterm              13.0      2.0    11.0  0.153846"
      ]
     },
     "execution_count": 28,
     "metadata": {},
     "output_type": "execute_result"
    }
   ],
   "source": [
    "eval_classes(fl_weights, dds[\"test\"])"
   ]
  },
  {
   "cell_type": "code",
   "execution_count": 29,
   "metadata": {},
   "outputs": [
    {
     "data": {
      "text/plain": [
       "Text(0.5, 1.0, 'NSL-KDD - Local IID vs. Local NIID vs. Federated \\n 10 clients with 10 clients per round')"
      ]
     },
     "execution_count": 29,
     "metadata": {},
     "output_type": "execute_result"
    },
    {
     "data": {
      "image/png": "[encoded data removed]",
      "text/plain": [
       "<Figure size 640x480 with 1 Axes>"
      ]
     },
     "metadata": {},
     "output_type": "display_data"
    }
   ],
   "source": [
    "round = [data[\"round\"] for data in history]\n",
    "acc = [100.0 * data[\"accuracy\"] for data in history]\n",
    "\n",
    "iid = score_iid[\"accuracy\"] * 100\n",
    "plt.axhline(\n",
    "    y=iid, label=f\"Local IID training: {iid:.4f}\", linestyle=\"--\", color=\"lightcoral\"\n",
    ")\n",
    "niid = score_niid[\"accuracy\"] * 100\n",
    "plt.axhline(\n",
    "    y=niid, label=f\"Local NIID training: {niid:.4f}\", linestyle=\"--\", color=\"darkgreen\"\n",
    ")\n",
    "plt.plot(round, acc, label=f\"Federated training: {max(acc):.4f}\")\n",
    "plt.grid()\n",
    "plt.ylabel(\"Accuracy (%)\")\n",
    "plt.xlabel(\"Round\")\n",
    "plt.legend()\n",
    "plt.title(\n",
    "    \"NSL-KDD - Local IID vs. Local NIID vs. Federated \\n 10 clients with 10 clients per\"\n",
    "    \" round\"\n",
    ")"
   ]
  }
 ],
 "metadata": {
  "kernelspec": {
   "display_name": ".venv",
   "language": "python",
   "name": "python3"
  },
  "language_info": {
   "codemirror_mode": {
    "name": "ipython",
    "version": 3
   },
   "file_extension": ".py",
   "mimetype": "text/x-python",
   "name": "python",
   "nbconvert_exporter": "python",
   "pygments_lexer": "ipython3",
   "version": "3.11.10"
  },
  "orig_nbformat": 4
 },
 "nbformat": 4,
 "nbformat_minor": 2
}
