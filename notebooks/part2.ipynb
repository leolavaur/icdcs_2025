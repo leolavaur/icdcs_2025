{
 "cells": [
  {
   "cell_type": "markdown",
   "metadata": {},
   "source": [
    "# Part II: The Power of Federated Learning for Network Security\n",
    "\n",
    "[![Open In Colab](https://colab.research.google.com/assets/colab-badge.svg)](https://colab.research.google.com/github/leolavaur/icdcs_2025/blob/main/notebooks/part2.ipynb)\n",
    "\n",
    "In this second part, we will look at FL as a solution to the problem of sharing network data to train IDSs. We will use NSL-KDD, a commonly used (and sometimes criticized) dataset for training IDSs, and a simple neural network architecture to train our model. The IDS use case involves NIID data, so we will also see how FL can be used to *share knowledge* between different institutions.\n",
    "\n",
    "## Section 0: Prerequisites\n",
    "\n",
    "### Dependencies\n",
    "\n",
    "> Be advised that Google collab currently does not support the latest versions of Python (limited to 3.11.13).\n",
    "> The present notebook has been designed to work with Python 3.11, and may not work with earlier or later versions.\n",
    "> Please ensure that you have the correct Python version.\n",
    "\n",
    "If you are running this notebook in Google Colab, you can install the required dependencies by running the following cell. Otherwise, you can install them in your local environment using `uv` or `pip`.\n"
   ]
  },
  {
   "cell_type": "code",
   "execution_count": 1,
   "metadata": {},
   "outputs": [],
   "source": [
    "%load_ext autoreload\n",
    "%autoreload 2\n",
    "\n",
    "from IPython.core.getipython import get_ipython\n",
    "\n",
    "if \"google.colab\" in str(get_ipython()):\n",
    "    !git clone https://github.com/leolavaur/icdcs_2025\n",
    "    %pip install -r icdcs_2025/requirements.txt\n",
    "    !cp -r icdcs_2025/notebooks/utils/ ."
   ]
  },
  {
   "cell_type": "markdown",
   "metadata": {},
   "source": [
    "Once you have a working environment, check that everything works, notably your GPU for the TensorFlow backend.\n",
    "You can do so by running the following cell:"
   ]
  },
  {
   "cell_type": "code",
   "execution_count": 2,
   "metadata": {},
   "outputs": [
    {
     "name": "stderr",
     "output_type": "stream",
     "text": [
      "2025-07-20 08:44:31.868630: I tensorflow/core/util/port.cc:153] oneDNN custom operations are on. You may see slightly different numerical results due to floating-point round-off errors from different computation orders. To turn them off, set the environment variable `TF_ENABLE_ONEDNN_OPTS=0`.\n",
      "2025-07-20 08:44:31.907542: E external/local_xla/xla/stream_executor/cuda/cuda_fft.cc:467] Unable to register cuFFT factory: Attempting to register factory for plugin cuFFT when one has already been registered\n",
      "WARNING: All log messages before absl::InitializeLog() is called are written to STDERR\n",
      "E0000 00:00:1752993871.928268  169012 cuda_dnn.cc:8579] Unable to register cuDNN factory: Attempting to register factory for plugin cuDNN when one has already been registered\n",
      "E0000 00:00:1752993871.935492  169012 cuda_blas.cc:1407] Unable to register cuBLAS factory: Attempting to register factory for plugin cuBLAS when one has already been registered\n",
      "W0000 00:00:1752993871.969222  169012 computation_placer.cc:177] computation placer already registered. Please check linkage and avoid linking the same target more than once.\n",
      "W0000 00:00:1752993871.969248  169012 computation_placer.cc:177] computation placer already registered. Please check linkage and avoid linking the same target more than once.\n",
      "W0000 00:00:1752993871.969249  169012 computation_placer.cc:177] computation placer already registered. Please check linkage and avoid linking the same target more than once.\n",
      "W0000 00:00:1752993871.969251  169012 computation_placer.cc:177] computation placer already registered. Please check linkage and avoid linking the same target more than once.\n",
      "2025-07-20 08:44:31.977136: I tensorflow/core/platform/cpu_feature_guard.cc:210] This TensorFlow binary is optimized to use available CPU instructions in performance-critical operations.\n",
      "To enable the following instructions: AVX2 AVX_VNNI FMA, in other operations, rebuild TensorFlow with the appropriate compiler flags.\n"
     ]
    },
    {
     "name": "stdout",
     "output_type": "stream",
     "text": [
      "TensorFlow version: 2.19.0\n",
      "Num GPUs Available: 0\n"
     ]
    },
    {
     "name": "stderr",
     "output_type": "stream",
     "text": [
      "2025-07-20 08:44:35.196441: E external/local_xla/xla/stream_executor/cuda/cuda_platform.cc:51] failed call to cuInit: INTERNAL: CUDA error: Failed call to cuInit: UNKNOWN ERROR (303)\n"
     ]
    }
   ],
   "source": [
    "import tensorflow as tf\n",
    "from IPython.utils import io\n",
    "\n",
    "with io.capture_output(stdout=False) as _:\n",
    "    print(\"TensorFlow version:\", tf.__version__)\n",
    "    print(f\"Num GPUs Available: {len(tf.config.list_physical_devices('GPU'))}\")"
   ]
  },
  {
   "cell_type": "markdown",
   "metadata": {},
   "source": [
    "To allow others to reproduce your results with some degree of certitude, set a seed for all the pseudo-random number generators (PRNG) that you use.\n",
    "You can also run your threads deterministically, in case your ML backend optimize training.\n",
    "This will have a negative impact on the performance.\n"
   ]
  },
  {
   "cell_type": "code",
   "execution_count": 3,
   "metadata": {},
   "outputs": [],
   "source": [
    "import keras\n",
    "\n",
    "keras.utils.set_random_seed(1138)"
   ]
  },
  {
   "cell_type": "markdown",
   "metadata": {},
   "source": [
    "### Section 1: Data exploration "
   ]
  },
  {
   "cell_type": "markdown",
   "metadata": {},
   "source": [
    "In this section, we will explore the NSL-KDD dataset and partition it into train and test sets. We will also create a function to generate IID and NIID data partitions.\n",
    "\n",
    "NSL-KDD is a set of network flows that have been labeled as either \"normal\" or one of the 22 attack clasees. The dataset is actually a modified version of the original KDD Cup 1999 dataset, which has been criticized for containing duplicate records and for not being representative of modern network traffic. NSL-KDD is a newer version of the dataset that addresses these issues. It is commonly used for training IDSs, but is still made of outdated data. For FL experiment however, it is interesting because of the amount of resources on this dataset in the literature."
   ]
  },
  {
   "cell_type": "code",
   "execution_count": 4,
   "metadata": {},
   "outputs": [
    {
     "name": "stdout",
     "output_type": "stream",
     "text": [
      "Dataset zip already exists.\n",
      "Dataset already extracted.\n"
     ]
    },
    {
     "data": {
      "text/plain": [
       "DatasetDict({\n",
       "    train: Dataset({\n",
       "        features: ['duration', 'protocol_type', 'service', 'flag', 'src_bytes', 'dst_bytes', 'land', 'wrong_fragment', 'urgent', 'hot', 'num_failed_logins', 'logged_in', 'num_compromised', 'root_shell', 'su_attempted', 'num_root', 'num_file_creations', 'num_shells', 'num_access_files', 'num_outbound_cmds', 'is_host_login', 'is_guest_login', 'count', 'srv_count', 'serror_rate', 'srv_serror_rate', 'rerror_rate', 'srv_rerror_rate', 'same_srv_rate', 'diff_srv_rate', 'srv_diff_host_rate', 'dst_host_count', 'dst_host_srv_count', 'dst_host_same_srv_rate', 'dst_host_diff_srv_rate', 'dst_host_same_src_port_rate', 'dst_host_srv_diff_host_rate', 'dst_host_serror_rate', 'dst_host_srv_serror_rate', 'dst_host_rerror_rate', 'dst_host_srv_rerror_rate', 'label', 'binary_label'],\n",
       "        num_rows: 125973\n",
       "    })\n",
       "    test: Dataset({\n",
       "        features: ['duration', 'protocol_type', 'service', 'flag', 'src_bytes', 'dst_bytes', 'land', 'wrong_fragment', 'urgent', 'hot', 'num_failed_logins', 'logged_in', 'num_compromised', 'root_shell', 'su_attempted', 'num_root', 'num_file_creations', 'num_shells', 'num_access_files', 'num_outbound_cmds', 'is_host_login', 'is_guest_login', 'count', 'srv_count', 'serror_rate', 'srv_serror_rate', 'rerror_rate', 'srv_rerror_rate', 'same_srv_rate', 'diff_srv_rate', 'srv_diff_host_rate', 'dst_host_count', 'dst_host_srv_count', 'dst_host_same_srv_rate', 'dst_host_diff_srv_rate', 'dst_host_same_src_port_rate', 'dst_host_srv_diff_host_rate', 'dst_host_serror_rate', 'dst_host_srv_serror_rate', 'dst_host_rerror_rate', 'dst_host_srv_rerror_rate', 'label', 'binary_label'],\n",
       "        num_rows: 22544\n",
       "    })\n",
       "})"
      ]
     },
     "execution_count": 4,
     "metadata": {},
     "output_type": "execute_result"
    }
   ],
   "source": [
    "from utils.nslkdd import load_nslkdd\n",
    "\n",
    "dds = load_nslkdd()\n",
    "dds"
   ]
  },
  {
   "cell_type": "code",
   "execution_count": 5,
   "metadata": {},
   "outputs": [
    {
     "name": "stdout",
     "output_type": "stream",
     "text": [
      "Number of features: 41\n",
      "Length of training set: 125973\n",
      "Length of test set: 22544\n",
      "Label distribution in training set: 16    67343\n",
      "14    41214\n",
      "25     3633\n",
      "7      3599\n",
      "20     2931\n",
      "27     2646\n",
      "15     1493\n",
      "1       956\n",
      "32      892\n",
      "34      890\n",
      "19      201\n",
      "4        53\n",
      "2        30\n",
      "35       20\n",
      "8        18\n",
      "6        11\n",
      "23       10\n",
      "9         9\n",
      "3         8\n",
      "12        7\n",
      "18        4\n",
      "17        3\n",
      "30        2\n",
      "Name: count, dtype: int64\n"
     ]
    }
   ],
   "source": [
    "import pandas as pd\n",
    "\n",
    "print(\n",
    "    \"Number of features:\",\n",
    "    len([feat for feat in dds[\"train\"].features if \"label\" not in feat]),\n",
    ")\n",
    "print(\"Length of training set:\", len(dds[\"train\"]))\n",
    "print(\"Length of test set:\", len(dds[\"test\"]))\n",
    "print(\n",
    "    f\"Label distribution in training set: {pd.Series(dds['train']['label']).value_counts()}\"\n",
    ")"
   ]
  },
  {
   "cell_type": "markdown",
   "metadata": {},
   "source": [
    "To encode categorical features or labels, Hugging Face Datasets provides a `ClassLabel` feature type that replaces the string labels with integer indices."
   ]
  },
  {
   "cell_type": "code",
   "execution_count": 6,
   "metadata": {},
   "outputs": [
    {
     "name": "stdout",
     "output_type": "stream",
     "text": [
      "Attack labels: ['apache2', 'back', 'buffer_overflow', 'ftp_write', 'guess_passwd', 'httptunnel', 'imap', 'ipsweep', 'land', 'loadmodule', 'mailbomb', 'mscan', 'multihop', 'named', 'neptune', 'nmap', 'normal', 'perl', 'phf', 'pod', 'portsweep', 'processtable', 'ps', 'rootkit', 'saint', 'satan', 'sendmail', 'smurf', 'snmpgetattack', 'snmpguess', 'spy', 'sqlattack', 'teardrop', 'udpstorm', 'warezclient', 'warezmaster', 'worm', 'xlock', 'xsnoop', 'xterm']\n",
      "Features: ['duration', 'protocol_type', 'service', 'flag', 'src_bytes', 'dst_bytes', 'land', 'wrong_fragment', 'urgent', 'hot', 'num_failed_logins', 'logged_in', 'num_compromised', 'root_shell', 'su_attempted', 'num_root', 'num_file_creations', 'num_shells', 'num_access_files', 'num_outbound_cmds', 'is_host_login', 'is_guest_login', 'count', 'srv_count', 'serror_rate', 'srv_serror_rate', 'rerror_rate', 'srv_rerror_rate', 'same_srv_rate', 'diff_srv_rate', 'srv_diff_host_rate', 'dst_host_count', 'dst_host_srv_count', 'dst_host_same_srv_rate', 'dst_host_diff_srv_rate', 'dst_host_same_src_port_rate', 'dst_host_srv_diff_host_rate', 'dst_host_serror_rate', 'dst_host_srv_serror_rate', 'dst_host_rerror_rate', 'dst_host_srv_rerror_rate']\n"
     ]
    }
   ],
   "source": [
    "ATTACK_LABELS = dds[\"train\"].features[\"label\"].names\n",
    "print(\"Attack labels:\", ATTACK_LABELS)\n",
    "FEATURES = [feat for feat in dds[\"train\"].features if \"label\" not in feat]\n",
    "print(\"Features:\", FEATURES)"
   ]
  },
  {
   "cell_type": "code",
   "execution_count": 7,
   "metadata": {},
   "outputs": [
    {
     "name": "stdout",
     "output_type": "stream",
     "text": [
      "Benign       67343\n",
      "Malicious    58630\n",
      "Name: count, dtype: int64\n",
      "% of malicious samples in training set: 46.54171925730117\n"
     ]
    }
   ],
   "source": [
    "count = (\n",
    "    pd.Series(dds[\"train\"][\"binary_label\"])\n",
    "    .value_counts()\n",
    "    .set_axis([\"Benign\", \"Malicious\"])\n",
    ")\n",
    "print(count)\n",
    "print(\"% of malicious samples in training set:\", count[\"Malicious\"] / count.sum() * 100)"
   ]
  },
  {
   "cell_type": "code",
   "execution_count": 8,
   "metadata": {},
   "outputs": [
    {
     "data": {
      "application/vnd.jupyter.widget-view+json": {
       "model_id": "b12d1f772d6a43a4a5833a243944e89e",
       "version_major": 2,
       "version_minor": 0
      },
      "text/plain": [
       "Filter:   0%|          | 0/12598 [00:00<?, ? examples/s]"
      ]
     },
     "metadata": {},
     "output_type": "display_data"
    },
    {
     "data": {
      "application/vnd.jupyter.widget-view+json": {
       "model_id": "696a18b00456430bbcb3c2fa0da22765",
       "version_major": 2,
       "version_minor": 0
      },
      "text/plain": [
       "Filter:   0%|          | 0/12598 [00:00<?, ? examples/s]"
      ]
     },
     "metadata": {},
     "output_type": "display_data"
    },
    {
     "data": {
      "application/vnd.jupyter.widget-view+json": {
       "model_id": "6c4d88a18d4248dd870744594e4b6f85",
       "version_major": 2,
       "version_minor": 0
      },
      "text/plain": [
       "Filter:   0%|          | 0/12598 [00:00<?, ? examples/s]"
      ]
     },
     "metadata": {},
     "output_type": "display_data"
    },
    {
     "data": {
      "application/vnd.jupyter.widget-view+json": {
       "model_id": "b1e46a265f924685804c6cbb53598dc0",
       "version_major": 2,
       "version_minor": 0
      },
      "text/plain": [
       "Filter:   0%|          | 0/12598 [00:00<?, ? examples/s]"
      ]
     },
     "metadata": {},
     "output_type": "display_data"
    },
    {
     "data": {
      "application/vnd.jupyter.widget-view+json": {
       "model_id": "b947270e7086441ea169b0d2111c737c",
       "version_major": 2,
       "version_minor": 0
      },
      "text/plain": [
       "Filter:   0%|          | 0/12597 [00:00<?, ? examples/s]"
      ]
     },
     "metadata": {},
     "output_type": "display_data"
    },
    {
     "data": {
      "application/vnd.jupyter.widget-view+json": {
       "model_id": "fa1632d08bd84f808ca774f2f15cb691",
       "version_major": 2,
       "version_minor": 0
      },
      "text/plain": [
       "Filter:   0%|          | 0/12597 [00:00<?, ? examples/s]"
      ]
     },
     "metadata": {},
     "output_type": "display_data"
    },
    {
     "data": {
      "application/vnd.jupyter.widget-view+json": {
       "model_id": "ef1bf991fe4940cfa087c82518c6f106",
       "version_major": 2,
       "version_minor": 0
      },
      "text/plain": [
       "Filter:   0%|          | 0/12597 [00:00<?, ? examples/s]"
      ]
     },
     "metadata": {},
     "output_type": "display_data"
    },
    {
     "data": {
      "application/vnd.jupyter.widget-view+json": {
       "model_id": "19399fac325d4817a501f5c66730866d",
       "version_major": 2,
       "version_minor": 0
      },
      "text/plain": [
       "Filter:   0%|          | 0/12597 [00:00<?, ? examples/s]"
      ]
     },
     "metadata": {},
     "output_type": "display_data"
    },
    {
     "data": {
      "application/vnd.jupyter.widget-view+json": {
       "model_id": "b0d029b20a124bee9aec0a0d7d588c55",
       "version_major": 2,
       "version_minor": 0
      },
      "text/plain": [
       "Filter:   0%|          | 0/12597 [00:00<?, ? examples/s]"
      ]
     },
     "metadata": {},
     "output_type": "display_data"
    },
    {
     "data": {
      "application/vnd.jupyter.widget-view+json": {
       "model_id": "b04457d1a10c4f529b0b40124af0eeea",
       "version_major": 2,
       "version_minor": 0
      },
      "text/plain": [
       "Filter:   0%|          | 0/12597 [00:00<?, ? examples/s]"
      ]
     },
     "metadata": {},
     "output_type": "display_data"
    },
    {
     "data": {
      "application/vnd.jupyter.widget-view+json": {
       "model_id": "afed5b6819254a75bde67efbdeeb1441",
       "version_major": 2,
       "version_minor": 0
      },
      "text/plain": [
       "Filter:   0%|          | 0/12597 [00:00<?, ? examples/s]"
      ]
     },
     "metadata": {},
     "output_type": "display_data"
    },
    {
     "data": {
      "text/plain": [
       "<matplotlib.legend.Legend at 0x7658bfcca310>"
      ]
     },
     "execution_count": 8,
     "metadata": {},
     "output_type": "execute_result"
    },
    {
     "data": {
      "image/png": "[encoded data removed]",
      "text/plain": [
       "<Figure size 800x300 with 3 Axes>"
      ]
     },
     "metadata": {},
     "output_type": "display_data"
    }
   ],
   "source": [
    "import matplotlib.pyplot as plt\n",
    "from flwr_datasets.partitioner import IidPartitioner, DirichletPartitioner\n",
    "from flwr_datasets.visualization import plot_label_distributions\n",
    "\n",
    "from utils.partition import ClassDropPartitioner\n",
    "\n",
    "NUM_CLIENTS = 10\n",
    "\n",
    "fig = plt.figure(figsize=(8, 3), constrained_layout=True)\n",
    "axs = fig.subplots(1, 3)\n",
    "\n",
    "iid_splitter = IidPartitioner(num_partitions=NUM_CLIENTS)\n",
    "iid_splitter.dataset = dds[\"train\"]\n",
    "_ = plot_label_distributions(\n",
    "    iid_splitter, label_name=\"label\", axis=axs[0], title=\"IidPartitioner\"\n",
    ")\n",
    "\n",
    "dirichlet_splitter = DirichletPartitioner(\n",
    "    num_partitions=NUM_CLIENTS, partition_by=\"label\", alpha=0.8\n",
    ")\n",
    "dirichlet_splitter.dataset = dds[\"train\"]\n",
    "_ = plot_label_distributions(\n",
    "    dirichlet_splitter, label_name=\"label\", axis=axs[2], title=\"DirichletPartitioner\"\n",
    ")\n",
    "\n",
    "drop_splitter = ClassDropPartitioner(\n",
    "    num_partitions=NUM_CLIENTS, partition_by=\"label\", n_drop=4\n",
    ")\n",
    "drop_splitter.dataset = dds[\"train\"]\n",
    "_ = plot_label_distributions(\n",
    "    drop_splitter, label_name=\"label\", axis=axs[1], title=\"ClassDropPartitioner\"\n",
    ")\n",
    "\n",
    "# Move the legend below the plot, make it more compact and readable\n",
    "handles, labels = axs[0].get_legend_handles_labels()\n",
    "fig.legend(\n",
    "    handles,\n",
    "    labels,\n",
    "    loc=\"lower center\",\n",
    "    ncol=4,  # Increase columns for compactness\n",
    "    bbox_to_anchor=(0.5, -0.65),\n",
    "    fontsize=\"small\",\n",
    "    frameon=False,\n",
    ")\n"
   ]
  },
  {
   "cell_type": "markdown",
   "metadata": {},
   "source": [
    "## Section 2: Training on centralized data"
   ]
  },
  {
   "cell_type": "code",
   "execution_count": 9,
   "metadata": {},
   "outputs": [],
   "source": [
    "BATCH_SIZE = 256\n",
    "NUM_EPOCHS = 5"
   ]
  },
  {
   "cell_type": "markdown",
   "metadata": {},
   "source": [
    "Let us prepare the data for training, namely by creating the TensorFlow dataset objects for the training and test sets, as seen in part I. "
   ]
  },
  {
   "cell_type": "code",
   "execution_count": 10,
   "metadata": {},
   "outputs": [],
   "source": [
    "from datasets import Dataset\n",
    "import tensorflow as tf\n",
    "\n",
    "\n",
    "@tf.autograph.experimental.do_not_convert\n",
    "def dict_to_tensor(features, label):\n",
    "    \"\"\"Convert a dictionary of features to a tensor.\"\"\"\n",
    "    # Stack all features as float32\n",
    "    x = tf.stack([tf.cast(features[col], tf.float32) for col in features], axis=-1)\n",
    "    return x, label\n",
    "\n",
    "\n",
    "def dataset_to_tf(dataset: Dataset, batch_size: int, shuffle: bool) -> tf.data.Dataset:\n",
    "    \"\"\"Convert a Dataset to a tf.data.Dataset.\"\"\"\n",
    "    return dataset.to_tf_dataset(\n",
    "        columns=[col for col in dataset.features if \"label\" not in col],\n",
    "        label_cols=\"binary_label\",\n",
    "        shuffle=shuffle,\n",
    "        batch_size=batch_size,\n",
    "    ).map(dict_to_tensor)\n"
   ]
  },
  {
   "cell_type": "markdown",
   "metadata": {},
   "source": [
    "Here we use a DNN architecture with 2 hidden layers of 64 neurons each. We use the Adam optimizer with an adaptive learning rate, and the binary cross-entropy loss function. The \"dropout\" layers are used to prevent overfitting by randomly dropping some neurons during training.\n",
    "\n",
    "This is a typical architecture for this use case that you can use for netflow classification tasks."
   ]
  },
  {
   "cell_type": "code",
   "execution_count": 11,
   "metadata": {},
   "outputs": [
    {
     "name": "stdout",
     "output_type": "stream",
     "text": [
      "41\n"
     ]
    },
    {
     "data": {
      "text/html": [
       "<pre style=\"white-space:pre;overflow-x:auto;line-height:normal;font-family:Menlo,'DejaVu Sans Mono',consolas,'Courier New',monospace\"><span style=\"font-weight: bold\">Model: \"sequential\"</span>\n",
       "</pre>\n"
      ],
      "text/plain": [
       "\u001b[1mModel: \"sequential\"\u001b[0m\n"
      ]
     },
     "metadata": {},
     "output_type": "display_data"
    },
    {
     "data": {
      "text/html": [
       "<pre style=\"white-space:pre;overflow-x:auto;line-height:normal;font-family:Menlo,'DejaVu Sans Mono',consolas,'Courier New',monospace\">┏━━━━━━━━━━━━━━━━━━━━━━━━━━━━━━━━━┳━━━━━━━━━━━━━━━━━━━━━━━━┳━━━━━━━━━━━━━━━┓\n",
       "┃<span style=\"font-weight: bold\"> Layer (type)                    </span>┃<span style=\"font-weight: bold\"> Output Shape           </span>┃<span style=\"font-weight: bold\">       Param # </span>┃\n",
       "┡━━━━━━━━━━━━━━━━━━━━━━━━━━━━━━━━━╇━━━━━━━━━━━━━━━━━━━━━━━━╇━━━━━━━━━━━━━━━┩\n",
       "│ normalization (<span style=\"color: #0087ff; text-decoration-color: #0087ff\">Normalization</span>)   │ (<span style=\"color: #00d7ff; text-decoration-color: #00d7ff\">None</span>, <span style=\"color: #00af00; text-decoration-color: #00af00\">41</span>)             │             <span style=\"color: #00af00; text-decoration-color: #00af00\">0</span> │\n",
       "├─────────────────────────────────┼────────────────────────┼───────────────┤\n",
       "│ dense (<span style=\"color: #0087ff; text-decoration-color: #0087ff\">Dense</span>)                   │ (<span style=\"color: #00d7ff; text-decoration-color: #00d7ff\">None</span>, <span style=\"color: #00af00; text-decoration-color: #00af00\">64</span>)             │         <span style=\"color: #00af00; text-decoration-color: #00af00\">2,688</span> │\n",
       "├─────────────────────────────────┼────────────────────────┼───────────────┤\n",
       "│ dropout (<span style=\"color: #0087ff; text-decoration-color: #0087ff\">Dropout</span>)               │ (<span style=\"color: #00d7ff; text-decoration-color: #00d7ff\">None</span>, <span style=\"color: #00af00; text-decoration-color: #00af00\">64</span>)             │             <span style=\"color: #00af00; text-decoration-color: #00af00\">0</span> │\n",
       "├─────────────────────────────────┼────────────────────────┼───────────────┤\n",
       "│ dense_1 (<span style=\"color: #0087ff; text-decoration-color: #0087ff\">Dense</span>)                 │ (<span style=\"color: #00d7ff; text-decoration-color: #00d7ff\">None</span>, <span style=\"color: #00af00; text-decoration-color: #00af00\">32</span>)             │         <span style=\"color: #00af00; text-decoration-color: #00af00\">2,080</span> │\n",
       "├─────────────────────────────────┼────────────────────────┼───────────────┤\n",
       "│ dropout_1 (<span style=\"color: #0087ff; text-decoration-color: #0087ff\">Dropout</span>)             │ (<span style=\"color: #00d7ff; text-decoration-color: #00d7ff\">None</span>, <span style=\"color: #00af00; text-decoration-color: #00af00\">32</span>)             │             <span style=\"color: #00af00; text-decoration-color: #00af00\">0</span> │\n",
       "├─────────────────────────────────┼────────────────────────┼───────────────┤\n",
       "│ dense_2 (<span style=\"color: #0087ff; text-decoration-color: #0087ff\">Dense</span>)                 │ (<span style=\"color: #00d7ff; text-decoration-color: #00d7ff\">None</span>, <span style=\"color: #00af00; text-decoration-color: #00af00\">1</span>)              │            <span style=\"color: #00af00; text-decoration-color: #00af00\">33</span> │\n",
       "└─────────────────────────────────┴────────────────────────┴───────────────┘\n",
       "</pre>\n"
      ],
      "text/plain": [
       "┏━━━━━━━━━━━━━━━━━━━━━━━━━━━━━━━━━┳━━━━━━━━━━━━━━━━━━━━━━━━┳━━━━━━━━━━━━━━━┓\n",
       "┃\u001b[1m \u001b[0m\u001b[1mLayer (type)                   \u001b[0m\u001b[1m \u001b[0m┃\u001b[1m \u001b[0m\u001b[1mOutput Shape          \u001b[0m\u001b[1m \u001b[0m┃\u001b[1m \u001b[0m\u001b[1m      Param #\u001b[0m\u001b[1m \u001b[0m┃\n",
       "┡━━━━━━━━━━━━━━━━━━━━━━━━━━━━━━━━━╇━━━━━━━━━━━━━━━━━━━━━━━━╇━━━━━━━━━━━━━━━┩\n",
       "│ normalization (\u001b[38;5;33mNormalization\u001b[0m)   │ (\u001b[38;5;45mNone\u001b[0m, \u001b[38;5;34m41\u001b[0m)             │             \u001b[38;5;34m0\u001b[0m │\n",
       "├─────────────────────────────────┼────────────────────────┼───────────────┤\n",
       "│ dense (\u001b[38;5;33mDense\u001b[0m)                   │ (\u001b[38;5;45mNone\u001b[0m, \u001b[38;5;34m64\u001b[0m)             │         \u001b[38;5;34m2,688\u001b[0m │\n",
       "├─────────────────────────────────┼────────────────────────┼───────────────┤\n",
       "│ dropout (\u001b[38;5;33mDropout\u001b[0m)               │ (\u001b[38;5;45mNone\u001b[0m, \u001b[38;5;34m64\u001b[0m)             │             \u001b[38;5;34m0\u001b[0m │\n",
       "├─────────────────────────────────┼────────────────────────┼───────────────┤\n",
       "│ dense_1 (\u001b[38;5;33mDense\u001b[0m)                 │ (\u001b[38;5;45mNone\u001b[0m, \u001b[38;5;34m32\u001b[0m)             │         \u001b[38;5;34m2,080\u001b[0m │\n",
       "├─────────────────────────────────┼────────────────────────┼───────────────┤\n",
       "│ dropout_1 (\u001b[38;5;33mDropout\u001b[0m)             │ (\u001b[38;5;45mNone\u001b[0m, \u001b[38;5;34m32\u001b[0m)             │             \u001b[38;5;34m0\u001b[0m │\n",
       "├─────────────────────────────────┼────────────────────────┼───────────────┤\n",
       "│ dense_2 (\u001b[38;5;33mDense\u001b[0m)                 │ (\u001b[38;5;45mNone\u001b[0m, \u001b[38;5;34m1\u001b[0m)              │            \u001b[38;5;34m33\u001b[0m │\n",
       "└─────────────────────────────────┴────────────────────────┴───────────────┘\n"
      ]
     },
     "metadata": {},
     "output_type": "display_data"
    },
    {
     "data": {
      "text/html": [
       "<pre style=\"white-space:pre;overflow-x:auto;line-height:normal;font-family:Menlo,'DejaVu Sans Mono',consolas,'Courier New',monospace\"><span style=\"font-weight: bold\"> Total params: </span><span style=\"color: #00af00; text-decoration-color: #00af00\">4,801</span> (18.75 KB)\n",
       "</pre>\n"
      ],
      "text/plain": [
       "\u001b[1m Total params: \u001b[0m\u001b[38;5;34m4,801\u001b[0m (18.75 KB)\n"
      ]
     },
     "metadata": {},
     "output_type": "display_data"
    },
    {
     "data": {
      "text/html": [
       "<pre style=\"white-space:pre;overflow-x:auto;line-height:normal;font-family:Menlo,'DejaVu Sans Mono',consolas,'Courier New',monospace\"><span style=\"font-weight: bold\"> Trainable params: </span><span style=\"color: #00af00; text-decoration-color: #00af00\">4,801</span> (18.75 KB)\n",
       "</pre>\n"
      ],
      "text/plain": [
       "\u001b[1m Trainable params: \u001b[0m\u001b[38;5;34m4,801\u001b[0m (18.75 KB)\n"
      ]
     },
     "metadata": {},
     "output_type": "display_data"
    },
    {
     "data": {
      "text/html": [
       "<pre style=\"white-space:pre;overflow-x:auto;line-height:normal;font-family:Menlo,'DejaVu Sans Mono',consolas,'Courier New',monospace\"><span style=\"font-weight: bold\"> Non-trainable params: </span><span style=\"color: #00af00; text-decoration-color: #00af00\">0</span> (0.00 B)\n",
       "</pre>\n"
      ],
      "text/plain": [
       "\u001b[1m Non-trainable params: \u001b[0m\u001b[38;5;34m0\u001b[0m (0.00 B)\n"
      ]
     },
     "metadata": {},
     "output_type": "display_data"
    }
   ],
   "source": [
    "import keras\n",
    "from keras.optimizers import Adam\n",
    "\n",
    "n_features = len([feat for feat in dds[\"train\"].features if \"label\" not in feat])\n",
    "print(n_features)\n",
    "\n",
    "# Compute mean and std for numerical features\n",
    "train_numpy = dds[\"train\"].to_pandas()\n",
    "means = train_numpy[FEATURES].mean().values\n",
    "stds = train_numpy[FEATURES].std().values\n",
    "\n",
    "\n",
    "def mk_model() -> keras.Model:\n",
    "    model = keras.models.Sequential(\n",
    "        [\n",
    "            keras.layers.Input(shape=(n_features,)),\n",
    "            keras.layers.Normalization(mean=means, variance=stds**2),\n",
    "            keras.layers.Dense(64, activation=\"relu\"),\n",
    "            keras.layers.Dropout(0.5),\n",
    "            keras.layers.Dense(32, activation=\"relu\"),\n",
    "            keras.layers.Dropout(0.5),\n",
    "            keras.layers.Dense(1, activation=\"sigmoid\"),\n",
    "        ]\n",
    "    )\n",
    "\n",
    "    model.compile(\n",
    "        loss=\"binary_crossentropy\",\n",
    "        optimizer=\"adam\",\n",
    "        metrics=[\"accuracy\"],\n",
    "    )\n",
    "    return model\n",
    "\n",
    "\n",
    "mk_model().summary()"
   ]
  },
  {
   "cell_type": "markdown",
   "metadata": {},
   "source": [
    "This new model is barely more complex than the previous one, but it is a good starting point for our FL experiments.\n",
    "We will also need new evaluation functions that deal with binary classification tasks while also providing per attack class metrics."
   ]
  },
  {
   "cell_type": "code",
   "execution_count": 12,
   "metadata": {},
   "outputs": [],
   "source": [
    "from typing import cast\n",
    "from datasets import Dataset\n",
    "import flwr\n",
    "import numpy as np\n",
    "from sklearn.metrics import confusion_matrix\n",
    "\n",
    "NUM_ROUNDS = 10\n",
    "\n",
    "\n",
    "def get_evaluate_fn(testset: Dataset):\n",
    "    \"\"\"Return an evaluation function for server-side (i.e. centralized) evaluation.\"\"\"\n",
    "    history: list[dict[str, float]] = []\n",
    "\n",
    "    test_tf = dataset_to_tf(testset, batch_size=BATCH_SIZE, shuffle=False)\n",
    "\n",
    "    # The `evaluate` function will be called after every round by the strategy\n",
    "    def evaluate_fn(\n",
    "        server_round: int,\n",
    "        parameters: flwr.common.NDArrays,\n",
    "        config: dict[str, flwr.common.Scalar],\n",
    "    ):\n",
    "        if server_round == NUM_ROUNDS:\n",
    "            # Save final model\n",
    "            np.save(\"fl_weights\", np.array(parameters, dtype=object))\n",
    "\n",
    "        model = mk_model()  # Construct the model\n",
    "        model.set_weights(parameters)  # Update model with the latest parameters\n",
    "        loss, _ = model.evaluate(test_tf, verbose=cast(str, 0))\n",
    "\n",
    "        inferences = model.predict(test_tf, verbose=cast(str, 0))\n",
    "        y_pred = np.round(inferences)\n",
    "        y_true = np.array(testset[\"binary_label\"])\n",
    "\n",
    "        cm = confusion_matrix(y_true, y_pred)\n",
    "        tn, fp, fn, tp = cm.ravel()\n",
    "\n",
    "        metrics = {\n",
    "            \"accuracy\": (tn + tp) / (tn + fp + fn + tp),\n",
    "            \"precision\": tp / (tp + fp),\n",
    "            \"recall\": tp / (tp + fn),\n",
    "            \"f1\": 2 * tp / (2 * tp + fp + fn),\n",
    "            \"miss_rate\": fn / (fn + tp),\n",
    "        }\n",
    "\n",
    "        history.append(metrics | {\"round\": server_round, \"loss\": loss})\n",
    "\n",
    "        return (loss, metrics)\n",
    "\n",
    "    return evaluate_fn, history\n",
    "\n",
    "\n",
    "def eval_model(parameters, testset: Dataset):\n",
    "    \"\"\"Evaluate the model with the given parameters on the test dataset.\"\"\"\n",
    "    fn, _ = get_evaluate_fn(testset)\n",
    "    loss, metrics = fn(0, parameters, {})\n",
    "    return {\"loss\": loss} | metrics\n",
    "\n",
    "\n",
    "def eval_classes(parameters, testset):\n",
    "    \"\"\"Evaluate the model with the given parameters on the test dataset, per class.\"\"\"\n",
    "    model = mk_model()\n",
    "    model.set_weights(parameters)\n",
    "\n",
    "    class_array = np.array(testset[\"label\"])\n",
    "    test_tf = dataset_to_tf(testset, batch_size=BATCH_SIZE, shuffle=False)\n",
    "\n",
    "    inferences = model.predict(test_tf, verbose=cast(str, 0))\n",
    "    y_pred = np.round(inferences).reshape(-1)\n",
    "    y_true = np.array(testset[\"binary_label\"])\n",
    "\n",
    "    classes_stats = {}\n",
    "    for cls in set(class_array):\n",
    "        class_filter = class_array == cls\n",
    "        count = sum(class_filter)\n",
    "        if not (count > 0):\n",
    "            continue\n",
    "        correct = sum(class_filter & (y_true == y_pred))\n",
    "        missed = sum(class_filter & (y_true != y_pred))\n",
    "\n",
    "        classes_stats[cls] = {\n",
    "            \"count\": count,\n",
    "            \"correct\": correct,\n",
    "            \"missed\": missed,\n",
    "            \"rate\": correct / count,\n",
    "        }\n",
    "    ret = pd.DataFrame(classes_stats).T\n",
    "    ret.index = [testset.features[\"label\"].int2str(i) for i in ret.index]\n",
    "    return ret\n"
   ]
  },
  {
   "cell_type": "markdown",
   "metadata": {},
   "source": [
    "Let's test!"
   ]
  },
  {
   "cell_type": "code",
   "execution_count": 13,
   "metadata": {},
   "outputs": [
    {
     "name": "stdout",
     "output_type": "stream",
     "text": [
      "Epoch 1/5\n",
      "\u001b[1m493/493\u001b[0m \u001b[32m━━━━━━━━━━━━━━━━━━━━\u001b[0m\u001b[37m\u001b[0m \u001b[1m22s\u001b[0m 42ms/step - accuracy: 0.9042 - loss: 0.2491\n",
      "Epoch 2/5\n",
      "\u001b[1m493/493\u001b[0m \u001b[32m━━━━━━━━━━━━━━━━━━━━\u001b[0m\u001b[37m\u001b[0m \u001b[1m20s\u001b[0m 41ms/step - accuracy: 0.9694 - loss: 0.0838\n",
      "Epoch 3/5\n",
      "\u001b[1m493/493\u001b[0m \u001b[32m━━━━━━━━━━━━━━━━━━━━\u001b[0m\u001b[37m\u001b[0m \u001b[1m20s\u001b[0m 41ms/step - accuracy: 0.9774 - loss: 0.0618\n",
      "Epoch 4/5\n",
      "\u001b[1m493/493\u001b[0m \u001b[32m━━━━━━━━━━━━━━━━━━━━\u001b[0m\u001b[37m\u001b[0m \u001b[1m20s\u001b[0m 41ms/step - accuracy: 0.9839 - loss: 0.0484\n",
      "Epoch 5/5\n",
      "\u001b[1m493/493\u001b[0m \u001b[32m━━━━━━━━━━━━━━━━━━━━\u001b[0m\u001b[37m\u001b[0m \u001b[1m22s\u001b[0m 44ms/step - accuracy: 0.9871 - loss: 0.0428\n"
     ]
    },
    {
     "data": {
      "text/plain": [
       "<keras.src.callbacks.history.History at 0x76589c322410>"
      ]
     },
     "execution_count": 13,
     "metadata": {},
     "output_type": "execute_result"
    }
   ],
   "source": [
    "train_tf = dataset_to_tf(dds[\"train\"], batch_size=BATCH_SIZE, shuffle=True)\n",
    "\n",
    "model = mk_model()\n",
    "\n",
    "model.fit(train_tf, epochs=NUM_EPOCHS, verbose=1)\n"
   ]
  },
  {
   "cell_type": "code",
   "execution_count": 14,
   "metadata": {},
   "outputs": [
    {
     "data": {
      "text/plain": [
       "{'loss': 1.2970764636993408,\n",
       " 'accuracy': np.float64(0.7813165365507452),\n",
       " 'precision': np.float64(0.9741989679587183),\n",
       " 'recall': np.float64(0.6325878594249201),\n",
       " 'f1': np.float64(0.7670792780874989),\n",
       " 'miss_rate': np.float64(0.36741214057507987)}"
      ]
     },
     "execution_count": 14,
     "metadata": {},
     "output_type": "execute_result"
    }
   ],
   "source": [
    "scores_centralized = eval_model(model.get_weights(), dds[\"test\"])\n",
    "scores_centralized"
   ]
  },
  {
   "cell_type": "code",
   "execution_count": 15,
   "metadata": {},
   "outputs": [
    {
     "data": {
      "text/html": [
       "<div>\n",
       "<style scoped>\n",
       "    .dataframe tbody tr th:only-of-type {\n",
       "        vertical-align: middle;\n",
       "    }\n",
       "\n",
       "    .dataframe tbody tr th {\n",
       "        vertical-align: top;\n",
       "    }\n",
       "\n",
       "    .dataframe thead th {\n",
       "        text-align: right;\n",
       "    }\n",
       "</style>\n",
       "<table border=\"1\" class=\"dataframe\">\n",
       "  <thead>\n",
       "    <tr style=\"text-align: right;\">\n",
       "      <th></th>\n",
       "      <th>count</th>\n",
       "      <th>correct</th>\n",
       "      <th>missed</th>\n",
       "      <th>rate</th>\n",
       "    </tr>\n",
       "  </thead>\n",
       "  <tbody>\n",
       "    <tr>\n",
       "      <th>apache2</th>\n",
       "      <td>737.0</td>\n",
       "      <td>109.0</td>\n",
       "      <td>628.0</td>\n",
       "      <td>0.147897</td>\n",
       "    </tr>\n",
       "    <tr>\n",
       "      <th>back</th>\n",
       "      <td>359.0</td>\n",
       "      <td>321.0</td>\n",
       "      <td>38.0</td>\n",
       "      <td>0.894150</td>\n",
       "    </tr>\n",
       "    <tr>\n",
       "      <th>buffer_overflow</th>\n",
       "      <td>20.0</td>\n",
       "      <td>11.0</td>\n",
       "      <td>9.0</td>\n",
       "      <td>0.550000</td>\n",
       "    </tr>\n",
       "    <tr>\n",
       "      <th>ftp_write</th>\n",
       "      <td>3.0</td>\n",
       "      <td>0.0</td>\n",
       "      <td>3.0</td>\n",
       "      <td>0.000000</td>\n",
       "    </tr>\n",
       "    <tr>\n",
       "      <th>guess_passwd</th>\n",
       "      <td>1231.0</td>\n",
       "      <td>17.0</td>\n",
       "      <td>1214.0</td>\n",
       "      <td>0.013810</td>\n",
       "    </tr>\n",
       "    <tr>\n",
       "      <th>httptunnel</th>\n",
       "      <td>133.0</td>\n",
       "      <td>87.0</td>\n",
       "      <td>46.0</td>\n",
       "      <td>0.654135</td>\n",
       "    </tr>\n",
       "    <tr>\n",
       "      <th>imap</th>\n",
       "      <td>1.0</td>\n",
       "      <td>1.0</td>\n",
       "      <td>0.0</td>\n",
       "      <td>1.000000</td>\n",
       "    </tr>\n",
       "    <tr>\n",
       "      <th>ipsweep</th>\n",
       "      <td>141.0</td>\n",
       "      <td>138.0</td>\n",
       "      <td>3.0</td>\n",
       "      <td>0.978723</td>\n",
       "    </tr>\n",
       "    <tr>\n",
       "      <th>land</th>\n",
       "      <td>7.0</td>\n",
       "      <td>7.0</td>\n",
       "      <td>0.0</td>\n",
       "      <td>1.000000</td>\n",
       "    </tr>\n",
       "    <tr>\n",
       "      <th>loadmodule</th>\n",
       "      <td>2.0</td>\n",
       "      <td>0.0</td>\n",
       "      <td>2.0</td>\n",
       "      <td>0.000000</td>\n",
       "    </tr>\n",
       "    <tr>\n",
       "      <th>mailbomb</th>\n",
       "      <td>293.0</td>\n",
       "      <td>0.0</td>\n",
       "      <td>293.0</td>\n",
       "      <td>0.000000</td>\n",
       "    </tr>\n",
       "    <tr>\n",
       "      <th>mscan</th>\n",
       "      <td>996.0</td>\n",
       "      <td>580.0</td>\n",
       "      <td>416.0</td>\n",
       "      <td>0.582329</td>\n",
       "    </tr>\n",
       "    <tr>\n",
       "      <th>multihop</th>\n",
       "      <td>18.0</td>\n",
       "      <td>1.0</td>\n",
       "      <td>17.0</td>\n",
       "      <td>0.055556</td>\n",
       "    </tr>\n",
       "    <tr>\n",
       "      <th>named</th>\n",
       "      <td>17.0</td>\n",
       "      <td>0.0</td>\n",
       "      <td>17.0</td>\n",
       "      <td>0.000000</td>\n",
       "    </tr>\n",
       "    <tr>\n",
       "      <th>neptune</th>\n",
       "      <td>4657.0</td>\n",
       "      <td>4656.0</td>\n",
       "      <td>1.0</td>\n",
       "      <td>0.999785</td>\n",
       "    </tr>\n",
       "    <tr>\n",
       "      <th>nmap</th>\n",
       "      <td>73.0</td>\n",
       "      <td>73.0</td>\n",
       "      <td>0.0</td>\n",
       "      <td>1.000000</td>\n",
       "    </tr>\n",
       "    <tr>\n",
       "      <th>normal</th>\n",
       "      <td>9711.0</td>\n",
       "      <td>9496.0</td>\n",
       "      <td>215.0</td>\n",
       "      <td>0.977860</td>\n",
       "    </tr>\n",
       "    <tr>\n",
       "      <th>perl</th>\n",
       "      <td>2.0</td>\n",
       "      <td>0.0</td>\n",
       "      <td>2.0</td>\n",
       "      <td>0.000000</td>\n",
       "    </tr>\n",
       "    <tr>\n",
       "      <th>phf</th>\n",
       "      <td>2.0</td>\n",
       "      <td>1.0</td>\n",
       "      <td>1.0</td>\n",
       "      <td>0.500000</td>\n",
       "    </tr>\n",
       "    <tr>\n",
       "      <th>pod</th>\n",
       "      <td>41.0</td>\n",
       "      <td>36.0</td>\n",
       "      <td>5.0</td>\n",
       "      <td>0.878049</td>\n",
       "    </tr>\n",
       "    <tr>\n",
       "      <th>portsweep</th>\n",
       "      <td>157.0</td>\n",
       "      <td>156.0</td>\n",
       "      <td>1.0</td>\n",
       "      <td>0.993631</td>\n",
       "    </tr>\n",
       "    <tr>\n",
       "      <th>processtable</th>\n",
       "      <td>685.0</td>\n",
       "      <td>252.0</td>\n",
       "      <td>433.0</td>\n",
       "      <td>0.367883</td>\n",
       "    </tr>\n",
       "    <tr>\n",
       "      <th>ps</th>\n",
       "      <td>15.0</td>\n",
       "      <td>2.0</td>\n",
       "      <td>13.0</td>\n",
       "      <td>0.133333</td>\n",
       "    </tr>\n",
       "    <tr>\n",
       "      <th>rootkit</th>\n",
       "      <td>13.0</td>\n",
       "      <td>0.0</td>\n",
       "      <td>13.0</td>\n",
       "      <td>0.000000</td>\n",
       "    </tr>\n",
       "    <tr>\n",
       "      <th>saint</th>\n",
       "      <td>319.0</td>\n",
       "      <td>305.0</td>\n",
       "      <td>14.0</td>\n",
       "      <td>0.956113</td>\n",
       "    </tr>\n",
       "    <tr>\n",
       "      <th>satan</th>\n",
       "      <td>735.0</td>\n",
       "      <td>475.0</td>\n",
       "      <td>260.0</td>\n",
       "      <td>0.646259</td>\n",
       "    </tr>\n",
       "    <tr>\n",
       "      <th>sendmail</th>\n",
       "      <td>14.0</td>\n",
       "      <td>0.0</td>\n",
       "      <td>14.0</td>\n",
       "      <td>0.000000</td>\n",
       "    </tr>\n",
       "    <tr>\n",
       "      <th>smurf</th>\n",
       "      <td>665.0</td>\n",
       "      <td>643.0</td>\n",
       "      <td>22.0</td>\n",
       "      <td>0.966917</td>\n",
       "    </tr>\n",
       "    <tr>\n",
       "      <th>snmpgetattack</th>\n",
       "      <td>178.0</td>\n",
       "      <td>4.0</td>\n",
       "      <td>174.0</td>\n",
       "      <td>0.022472</td>\n",
       "    </tr>\n",
       "    <tr>\n",
       "      <th>snmpguess</th>\n",
       "      <td>331.0</td>\n",
       "      <td>1.0</td>\n",
       "      <td>330.0</td>\n",
       "      <td>0.003021</td>\n",
       "    </tr>\n",
       "    <tr>\n",
       "      <th>sqlattack</th>\n",
       "      <td>2.0</td>\n",
       "      <td>1.0</td>\n",
       "      <td>1.0</td>\n",
       "      <td>0.500000</td>\n",
       "    </tr>\n",
       "    <tr>\n",
       "      <th>teardrop</th>\n",
       "      <td>12.0</td>\n",
       "      <td>12.0</td>\n",
       "      <td>0.0</td>\n",
       "      <td>1.000000</td>\n",
       "    </tr>\n",
       "    <tr>\n",
       "      <th>udpstorm</th>\n",
       "      <td>2.0</td>\n",
       "      <td>0.0</td>\n",
       "      <td>2.0</td>\n",
       "      <td>0.000000</td>\n",
       "    </tr>\n",
       "    <tr>\n",
       "      <th>warezmaster</th>\n",
       "      <td>944.0</td>\n",
       "      <td>227.0</td>\n",
       "      <td>717.0</td>\n",
       "      <td>0.240466</td>\n",
       "    </tr>\n",
       "    <tr>\n",
       "      <th>worm</th>\n",
       "      <td>2.0</td>\n",
       "      <td>0.0</td>\n",
       "      <td>2.0</td>\n",
       "      <td>0.000000</td>\n",
       "    </tr>\n",
       "    <tr>\n",
       "      <th>xlock</th>\n",
       "      <td>9.0</td>\n",
       "      <td>0.0</td>\n",
       "      <td>9.0</td>\n",
       "      <td>0.000000</td>\n",
       "    </tr>\n",
       "    <tr>\n",
       "      <th>xsnoop</th>\n",
       "      <td>4.0</td>\n",
       "      <td>1.0</td>\n",
       "      <td>3.0</td>\n",
       "      <td>0.250000</td>\n",
       "    </tr>\n",
       "    <tr>\n",
       "      <th>xterm</th>\n",
       "      <td>13.0</td>\n",
       "      <td>1.0</td>\n",
       "      <td>12.0</td>\n",
       "      <td>0.076923</td>\n",
       "    </tr>\n",
       "  </tbody>\n",
       "</table>\n",
       "</div>"
      ],
      "text/plain": [
       "                  count  correct  missed      rate\n",
       "apache2           737.0    109.0   628.0  0.147897\n",
       "back              359.0    321.0    38.0  0.894150\n",
       "buffer_overflow    20.0     11.0     9.0  0.550000\n",
       "ftp_write           3.0      0.0     3.0  0.000000\n",
       "guess_passwd     1231.0     17.0  1214.0  0.013810\n",
       "httptunnel        133.0     87.0    46.0  0.654135\n",
       "imap                1.0      1.0     0.0  1.000000\n",
       "ipsweep           141.0    138.0     3.0  0.978723\n",
       "land                7.0      7.0     0.0  1.000000\n",
       "loadmodule          2.0      0.0     2.0  0.000000\n",
       "mailbomb          293.0      0.0   293.0  0.000000\n",
       "mscan             996.0    580.0   416.0  0.582329\n",
       "multihop           18.0      1.0    17.0  0.055556\n",
       "named              17.0      0.0    17.0  0.000000\n",
       "neptune          4657.0   4656.0     1.0  0.999785\n",
       "nmap               73.0     73.0     0.0  1.000000\n",
       "normal           9711.0   9496.0   215.0  0.977860\n",
       "perl                2.0      0.0     2.0  0.000000\n",
       "phf                 2.0      1.0     1.0  0.500000\n",
       "pod                41.0     36.0     5.0  0.878049\n",
       "portsweep         157.0    156.0     1.0  0.993631\n",
       "processtable      685.0    252.0   433.0  0.367883\n",
       "ps                 15.0      2.0    13.0  0.133333\n",
       "rootkit            13.0      0.0    13.0  0.000000\n",
       "saint             319.0    305.0    14.0  0.956113\n",
       "satan             735.0    475.0   260.0  0.646259\n",
       "sendmail           14.0      0.0    14.0  0.000000\n",
       "smurf             665.0    643.0    22.0  0.966917\n",
       "snmpgetattack     178.0      4.0   174.0  0.022472\n",
       "snmpguess         331.0      1.0   330.0  0.003021\n",
       "sqlattack           2.0      1.0     1.0  0.500000\n",
       "teardrop           12.0     12.0     0.0  1.000000\n",
       "udpstorm            2.0      0.0     2.0  0.000000\n",
       "warezmaster       944.0    227.0   717.0  0.240466\n",
       "worm                2.0      0.0     2.0  0.000000\n",
       "xlock               9.0      0.0     9.0  0.000000\n",
       "xsnoop              4.0      1.0     3.0  0.250000\n",
       "xterm              13.0      1.0    12.0  0.076923"
      ]
     },
     "execution_count": 15,
     "metadata": {},
     "output_type": "execute_result"
    }
   ],
   "source": [
    "per_class_centralized = eval_classes(model.get_weights(), dds[\"test\"])\n",
    "per_class_centralized"
   ]
  },
  {
   "cell_type": "markdown",
   "metadata": {},
   "source": [
    "## Section 3: Training on local data"
   ]
  },
  {
   "cell_type": "markdown",
   "metadata": {},
   "source": [
    "First, lets create one client with one partition of the data to simulate what one single organization might have access to. We start with IID distribution."
   ]
  },
  {
   "cell_type": "code",
   "execution_count": 16,
   "metadata": {},
   "outputs": [
    {
     "data": {
      "text/plain": [
       "Dataset({\n",
       "    features: ['duration', 'protocol_type', 'service', 'flag', 'src_bytes', 'dst_bytes', 'land', 'wrong_fragment', 'urgent', 'hot', 'num_failed_logins', 'logged_in', 'num_compromised', 'root_shell', 'su_attempted', 'num_root', 'num_file_creations', 'num_shells', 'num_access_files', 'num_outbound_cmds', 'is_host_login', 'is_guest_login', 'count', 'srv_count', 'serror_rate', 'srv_serror_rate', 'rerror_rate', 'srv_rerror_rate', 'same_srv_rate', 'diff_srv_rate', 'srv_diff_host_rate', 'dst_host_count', 'dst_host_srv_count', 'dst_host_same_srv_rate', 'dst_host_diff_srv_rate', 'dst_host_same_src_port_rate', 'dst_host_srv_diff_host_rate', 'dst_host_serror_rate', 'dst_host_srv_serror_rate', 'dst_host_rerror_rate', 'dst_host_srv_rerror_rate', 'label', 'binary_label'],\n",
       "    num_rows: 12598\n",
       "})"
      ]
     },
     "execution_count": 16,
     "metadata": {},
     "output_type": "execute_result"
    }
   ],
   "source": [
    "from flwr_datasets.partitioner import IidPartitioner\n",
    "\n",
    "partitioner = IidPartitioner(num_partitions=NUM_CLIENTS)\n",
    "partitioner.dataset = dds[\"train\"]\n",
    "\n",
    "shard = partitioner.load_partition(0)\n",
    "shard"
   ]
  },
  {
   "cell_type": "code",
   "execution_count": 17,
   "metadata": {},
   "outputs": [
    {
     "name": "stdout",
     "output_type": "stream",
     "text": [
      "Epoch 1/5\n",
      "\u001b[1m50/50\u001b[0m \u001b[32m━━━━━━━━━━━━━━━━━━━━\u001b[0m\u001b[37m\u001b[0m \u001b[1m4s\u001b[0m 52ms/step - accuracy: 0.6744 - loss: 0.6119\n",
      "Epoch 2/5\n",
      "\u001b[1m50/50\u001b[0m \u001b[32m━━━━━━━━━━━━━━━━━━━━\u001b[0m\u001b[37m\u001b[0m \u001b[1m2s\u001b[0m 47ms/step - accuracy: 0.9249 - loss: 0.2418\n",
      "Epoch 3/5\n",
      "\u001b[1m50/50\u001b[0m \u001b[32m━━━━━━━━━━━━━━━━━━━━\u001b[0m\u001b[37m\u001b[0m \u001b[1m2s\u001b[0m 48ms/step - accuracy: 0.9431 - loss: 0.1744\n",
      "Epoch 4/5\n",
      "\u001b[1m50/50\u001b[0m \u001b[32m━━━━━━━━━━━━━━━━━━━━\u001b[0m\u001b[37m\u001b[0m \u001b[1m3s\u001b[0m 57ms/step - accuracy: 0.9533 - loss: 0.1469\n",
      "Epoch 5/5\n",
      "\u001b[1m50/50\u001b[0m \u001b[32m━━━━━━━━━━━━━━━━━━━━\u001b[0m\u001b[37m\u001b[0m \u001b[1m3s\u001b[0m 51ms/step - accuracy: 0.9539 - loss: 0.1423\n"
     ]
    },
    {
     "data": {
      "text/plain": [
       "{'loss': 0.8242337107658386,\n",
       " 'accuracy': np.float64(0.7541696238466998),\n",
       " 'precision': np.float64(0.9294380963599953),\n",
       " 'recall': np.float64(0.6148211641860828),\n",
       " 'f1': np.float64(0.7400806678547979),\n",
       " 'miss_rate': np.float64(0.38517883581391726)}"
      ]
     },
     "execution_count": 17,
     "metadata": {},
     "output_type": "execute_result"
    }
   ],
   "source": [
    "model = mk_model()\n",
    "shard_tf = dataset_to_tf(shard, batch_size=BATCH_SIZE, shuffle=True)\n",
    "model.fit(shard_tf, epochs=NUM_EPOCHS, verbose=1)\n",
    "\n",
    "score_iid = eval_model(model.get_weights(), dds[\"test\"])\n",
    "score_iid"
   ]
  },
  {
   "cell_type": "markdown",
   "metadata": {},
   "source": [
    "You will notice that performance is not much lower than the centralized model. While we do have less samples, all classes are represented in this new training set. "
   ]
  },
  {
   "cell_type": "markdown",
   "metadata": {},
   "source": [
    "Now, let's train the same model architecture on a more realistic use case, where a local organization might not have access to all data. To ensure heterogeneity, we will specify droppable classes based on their ability to be detected by the model. This will allow us to simulate a more realistic scenario where some classes are more difficult to detect than others."
   ]
  },
  {
   "cell_type": "code",
   "execution_count": 18,
   "metadata": {},
   "outputs": [
    {
     "data": {
      "text/plain": [
       "Index(['back', 'httptunnel', 'ipsweep', 'neptune', 'portsweep', 'saint',\n",
       "       'satan', 'smurf'],\n",
       "      dtype='object')"
      ]
     },
     "execution_count": 18,
     "metadata": {},
     "output_type": "execute_result"
    }
   ],
   "source": [
    "good_classes = per_class_centralized[\n",
    "    (per_class_centralized[\"count\"] > 100)  # anough samples to be relevant\n",
    "    & (per_class_centralized[\"rate\"] > 0.6)  # only classes with high enough accuracy\n",
    "    & (per_class_centralized.index != \"normal\")  # all clients have \"normal\" traffic\n",
    "]\n",
    "good_classes.index"
   ]
  },
  {
   "cell_type": "code",
   "execution_count": 19,
   "metadata": {},
   "outputs": [
    {
     "data": {
      "application/vnd.jupyter.widget-view+json": {
       "model_id": "27caf2c2333642fcbb9a9b8db097be59",
       "version_major": 2,
       "version_minor": 0
      },
      "text/plain": [
       "Filter:   0%|          | 0/12598 [00:00<?, ? examples/s]"
      ]
     },
     "metadata": {},
     "output_type": "display_data"
    },
    {
     "data": {
      "application/vnd.jupyter.widget-view+json": {
       "model_id": "1673b45caeb143a888acc0769384fd4b",
       "version_major": 2,
       "version_minor": 0
      },
      "text/plain": [
       "Filter:   0%|          | 0/12598 [00:00<?, ? examples/s]"
      ]
     },
     "metadata": {},
     "output_type": "display_data"
    },
    {
     "data": {
      "application/vnd.jupyter.widget-view+json": {
       "model_id": "9614806341754e36a7dd2b3273da467a",
       "version_major": 2,
       "version_minor": 0
      },
      "text/plain": [
       "Filter:   0%|          | 0/12598 [00:00<?, ? examples/s]"
      ]
     },
     "metadata": {},
     "output_type": "display_data"
    },
    {
     "data": {
      "application/vnd.jupyter.widget-view+json": {
       "model_id": "f9720d4acb3b4e1cbbd539b6b1681bc8",
       "version_major": 2,
       "version_minor": 0
      },
      "text/plain": [
       "Filter:   0%|          | 0/12598 [00:00<?, ? examples/s]"
      ]
     },
     "metadata": {},
     "output_type": "display_data"
    },
    {
     "data": {
      "application/vnd.jupyter.widget-view+json": {
       "model_id": "fba2cc57bc8043a2a37a6097e297dbbe",
       "version_major": 2,
       "version_minor": 0
      },
      "text/plain": [
       "Filter:   0%|          | 0/12597 [00:00<?, ? examples/s]"
      ]
     },
     "metadata": {},
     "output_type": "display_data"
    },
    {
     "data": {
      "application/vnd.jupyter.widget-view+json": {
       "model_id": "8c8db6f39dc8477f84bbafc9a3869bce",
       "version_major": 2,
       "version_minor": 0
      },
      "text/plain": [
       "Filter:   0%|          | 0/12597 [00:00<?, ? examples/s]"
      ]
     },
     "metadata": {},
     "output_type": "display_data"
    },
    {
     "data": {
      "application/vnd.jupyter.widget-view+json": {
       "model_id": "63b2ecbd7f09475386d99179dd3d7ece",
       "version_major": 2,
       "version_minor": 0
      },
      "text/plain": [
       "Filter:   0%|          | 0/12597 [00:00<?, ? examples/s]"
      ]
     },
     "metadata": {},
     "output_type": "display_data"
    },
    {
     "data": {
      "application/vnd.jupyter.widget-view+json": {
       "model_id": "f8078b7abb7b4e438a77fa6de6e271a7",
       "version_major": 2,
       "version_minor": 0
      },
      "text/plain": [
       "Filter:   0%|          | 0/12597 [00:00<?, ? examples/s]"
      ]
     },
     "metadata": {},
     "output_type": "display_data"
    },
    {
     "data": {
      "application/vnd.jupyter.widget-view+json": {
       "model_id": "b4f82766824340bd8be448f39d42c941",
       "version_major": 2,
       "version_minor": 0
      },
      "text/plain": [
       "Filter:   0%|          | 0/12597 [00:00<?, ? examples/s]"
      ]
     },
     "metadata": {},
     "output_type": "display_data"
    },
    {
     "data": {
      "application/vnd.jupyter.widget-view+json": {
       "model_id": "e661c8005db94be6a86b1f8e8bf2229f",
       "version_major": 2,
       "version_minor": 0
      },
      "text/plain": [
       "Filter:   0%|          | 0/12597 [00:00<?, ? examples/s]"
      ]
     },
     "metadata": {},
     "output_type": "display_data"
    },
    {
     "data": {
      "application/vnd.jupyter.widget-view+json": {
       "model_id": "3d72a143436a46b3be2ae30710440375",
       "version_major": 2,
       "version_minor": 0
      },
      "text/plain": [
       "Filter:   0%|          | 0/12597 [00:00<?, ? examples/s]"
      ]
     },
     "metadata": {},
     "output_type": "display_data"
    },
    {
     "data": {
      "image/png": "[encoded data removed]",
      "text/plain": [
       "<Figure size 640x480 with 1 Axes>"
      ]
     },
     "metadata": {},
     "output_type": "display_data"
    }
   ],
   "source": [
    "from utils.partition import ClassDropPartitioner\n",
    "\n",
    "partitioner = ClassDropPartitioner(\n",
    "    num_partitions=NUM_CLIENTS,\n",
    "    partition_by=\"label\",\n",
    "    n_drop=4,\n",
    "    droppable=list(good_classes.index),\n",
    ")\n",
    "partitioner.dataset = dds[\"train\"]\n",
    "\n",
    "_ = plot_label_distributions(\n",
    "    partitioner, label_name=\"label\", title=\"ClassDropPartitioner\"\n",
    ")"
   ]
  },
  {
   "cell_type": "code",
   "execution_count": 20,
   "metadata": {},
   "outputs": [
    {
     "data": {
      "application/vnd.jupyter.widget-view+json": {
       "model_id": "d8e289e3af74438a8806ab5852c89de3",
       "version_major": 2,
       "version_minor": 0
      },
      "text/plain": [
       "Filter:   0%|          | 0/12598 [00:00<?, ? examples/s]"
      ]
     },
     "metadata": {},
     "output_type": "display_data"
    },
    {
     "name": "stdout",
     "output_type": "stream",
     "text": [
      "Epoch 1/5\n",
      "\u001b[1m31/31\u001b[0m \u001b[32m━━━━━━━━━━━━━━━━━━━━\u001b[0m\u001b[37m\u001b[0m \u001b[1m3s\u001b[0m 54ms/step - accuracy: 0.7899 - loss: 0.5823\n",
      "Epoch 2/5\n",
      "\u001b[1m31/31\u001b[0m \u001b[32m━━━━━━━━━━━━━━━━━━━━\u001b[0m\u001b[37m\u001b[0m \u001b[1m2s\u001b[0m 55ms/step - accuracy: 0.8972 - loss: 0.3087\n",
      "Epoch 3/5\n",
      "\u001b[1m31/31\u001b[0m \u001b[32m━━━━━━━━━━━━━━━━━━━━\u001b[0m\u001b[37m\u001b[0m \u001b[1m2s\u001b[0m 55ms/step - accuracy: 0.9140 - loss: 0.2263\n",
      "Epoch 4/5\n",
      "\u001b[1m31/31\u001b[0m \u001b[32m━━━━━━━━━━━━━━━━━━━━\u001b[0m\u001b[37m\u001b[0m \u001b[1m2s\u001b[0m 53ms/step - accuracy: 0.9330 - loss: 0.1827\n",
      "Epoch 5/5\n",
      "\u001b[1m31/31\u001b[0m \u001b[32m━━━━━━━━━━━━━━━━━━━━\u001b[0m\u001b[37m\u001b[0m \u001b[1m2s\u001b[0m 51ms/step - accuracy: 0.9404 - loss: 0.1568\n"
     ]
    },
    {
     "data": {
      "text/plain": [
       "<keras.src.callbacks.history.History at 0x76586821e0d0>"
      ]
     },
     "execution_count": 20,
     "metadata": {},
     "output_type": "execute_result"
    }
   ],
   "source": [
    "shard = partitioner.load_partition(0)\n",
    "shard_tf = dataset_to_tf(shard, batch_size=BATCH_SIZE, shuffle=True)\n",
    "model = mk_model()\n",
    "model.fit(shard_tf, epochs=NUM_EPOCHS, verbose=1)\n"
   ]
  },
  {
   "cell_type": "code",
   "execution_count": 21,
   "metadata": {},
   "outputs": [
    {
     "data": {
      "text/plain": [
       "{'loss': 0.9968951940536499,\n",
       " 'accuracy': np.float64(0.7159776437189496),\n",
       " 'precision': np.float64(0.9690691566968194),\n",
       " 'recall': np.float64(0.5175718849840255),\n",
       " 'f1': np.float64(0.6747599939046071),\n",
       " 'miss_rate': np.float64(0.48242811501597443)}"
      ]
     },
     "execution_count": 21,
     "metadata": {},
     "output_type": "execute_result"
    }
   ],
   "source": [
    "score_niid = eval_model(model.get_weights(), dds[\"test\"])\n",
    "score_niid"
   ]
  },
  {
   "cell_type": "code",
   "execution_count": 22,
   "metadata": {},
   "outputs": [
    {
     "data": {
      "text/html": [
       "<div>\n",
       "<style scoped>\n",
       "    .dataframe tbody tr th:only-of-type {\n",
       "        vertical-align: middle;\n",
       "    }\n",
       "\n",
       "    .dataframe tbody tr th {\n",
       "        vertical-align: top;\n",
       "    }\n",
       "\n",
       "    .dataframe thead th {\n",
       "        text-align: right;\n",
       "    }\n",
       "</style>\n",
       "<table border=\"1\" class=\"dataframe\">\n",
       "  <thead>\n",
       "    <tr style=\"text-align: right;\">\n",
       "      <th></th>\n",
       "      <th>count</th>\n",
       "      <th>correct</th>\n",
       "      <th>missed</th>\n",
       "      <th>rate</th>\n",
       "    </tr>\n",
       "  </thead>\n",
       "  <tbody>\n",
       "    <tr>\n",
       "      <th>apache2</th>\n",
       "      <td>737.0</td>\n",
       "      <td>0.0</td>\n",
       "      <td>737.0</td>\n",
       "      <td>0.0</td>\n",
       "    </tr>\n",
       "    <tr>\n",
       "      <th>back</th>\n",
       "      <td>359.0</td>\n",
       "      <td>0.0</td>\n",
       "      <td>359.0</td>\n",
       "      <td>0.0</td>\n",
       "    </tr>\n",
       "    <tr>\n",
       "      <th>land</th>\n",
       "      <td>7.0</td>\n",
       "      <td>0.0</td>\n",
       "      <td>7.0</td>\n",
       "      <td>0.0</td>\n",
       "    </tr>\n",
       "    <tr>\n",
       "      <th>loadmodule</th>\n",
       "      <td>2.0</td>\n",
       "      <td>0.0</td>\n",
       "      <td>2.0</td>\n",
       "      <td>0.0</td>\n",
       "    </tr>\n",
       "    <tr>\n",
       "      <th>mailbomb</th>\n",
       "      <td>293.0</td>\n",
       "      <td>0.0</td>\n",
       "      <td>293.0</td>\n",
       "      <td>0.0</td>\n",
       "    </tr>\n",
       "    <tr>\n",
       "      <th>named</th>\n",
       "      <td>17.0</td>\n",
       "      <td>0.0</td>\n",
       "      <td>17.0</td>\n",
       "      <td>0.0</td>\n",
       "    </tr>\n",
       "    <tr>\n",
       "      <th>phf</th>\n",
       "      <td>2.0</td>\n",
       "      <td>0.0</td>\n",
       "      <td>2.0</td>\n",
       "      <td>0.0</td>\n",
       "    </tr>\n",
       "    <tr>\n",
       "      <th>sendmail</th>\n",
       "      <td>14.0</td>\n",
       "      <td>0.0</td>\n",
       "      <td>14.0</td>\n",
       "      <td>0.0</td>\n",
       "    </tr>\n",
       "    <tr>\n",
       "      <th>snmpgetattack</th>\n",
       "      <td>178.0</td>\n",
       "      <td>0.0</td>\n",
       "      <td>178.0</td>\n",
       "      <td>0.0</td>\n",
       "    </tr>\n",
       "    <tr>\n",
       "      <th>snmpguess</th>\n",
       "      <td>331.0</td>\n",
       "      <td>0.0</td>\n",
       "      <td>331.0</td>\n",
       "      <td>0.0</td>\n",
       "    </tr>\n",
       "    <tr>\n",
       "      <th>udpstorm</th>\n",
       "      <td>2.0</td>\n",
       "      <td>0.0</td>\n",
       "      <td>2.0</td>\n",
       "      <td>0.0</td>\n",
       "    </tr>\n",
       "    <tr>\n",
       "      <th>worm</th>\n",
       "      <td>2.0</td>\n",
       "      <td>0.0</td>\n",
       "      <td>2.0</td>\n",
       "      <td>0.0</td>\n",
       "    </tr>\n",
       "    <tr>\n",
       "      <th>xlock</th>\n",
       "      <td>9.0</td>\n",
       "      <td>0.0</td>\n",
       "      <td>9.0</td>\n",
       "      <td>0.0</td>\n",
       "    </tr>\n",
       "  </tbody>\n",
       "</table>\n",
       "</div>"
      ],
      "text/plain": [
       "               count  correct  missed  rate\n",
       "apache2        737.0      0.0   737.0   0.0\n",
       "back           359.0      0.0   359.0   0.0\n",
       "land             7.0      0.0     7.0   0.0\n",
       "loadmodule       2.0      0.0     2.0   0.0\n",
       "mailbomb       293.0      0.0   293.0   0.0\n",
       "named           17.0      0.0    17.0   0.0\n",
       "phf              2.0      0.0     2.0   0.0\n",
       "sendmail        14.0      0.0    14.0   0.0\n",
       "snmpgetattack  178.0      0.0   178.0   0.0\n",
       "snmpguess      331.0      0.0   331.0   0.0\n",
       "udpstorm         2.0      0.0     2.0   0.0\n",
       "worm             2.0      0.0     2.0   0.0\n",
       "xlock            9.0      0.0     9.0   0.0"
      ]
     },
     "execution_count": 22,
     "metadata": {},
     "output_type": "execute_result"
    }
   ],
   "source": [
    "per_class_niid = eval_classes(model.get_weights(), dds[\"test\"])\n",
    "per_class_niid[per_class_niid[\"rate\"] == 0]"
   ]
  },
  {
   "cell_type": "markdown",
   "metadata": {},
   "source": [
    "## Section 3: Collaborative learning using FL"
   ]
  },
  {
   "cell_type": "markdown",
   "metadata": {},
   "source": [
    "As in part I, we start with our client. This time, we will create 10 clients, each with a different partition of the data. We are closer to the cross-silo use case, where each organization is a client, with more data, more computing power, and are typically always available."
   ]
  },
  {
   "cell_type": "code",
   "execution_count": 23,
   "metadata": {},
   "outputs": [],
   "source": [
    "import flwr as fl\n",
    "import tensorflow as tf\n",
    "\n",
    "\n",
    "class FlowerClient(fl.client.NumPyClient):\n",
    "    def __init__(self, trainset: tf.data.Dataset):\n",
    "        keras.utils.set_random_seed(1138)  # In client thread\n",
    "        self.model = mk_model()\n",
    "        self.trainset = trainset\n",
    "\n",
    "    def get_parameters(self, config):\n",
    "        return self.model.get_weights()\n",
    "\n",
    "    def fit(self, parameters, config):\n",
    "        self.model.set_weights(parameters)\n",
    "        self.model.fit(self.trainset, epochs=1, verbose=0)\n",
    "        return self.model.get_weights(), len(self.trainset), {}"
   ]
  },
  {
   "cell_type": "code",
   "execution_count": 24,
   "metadata": {},
   "outputs": [],
   "source": [
    "from typing import Callable\n",
    "\n",
    "from flwr.client import Client, ClientApp\n",
    "from flwr.common import Context\n",
    "from flwr_datasets.partitioner import Partitioner\n",
    "\n",
    "\n",
    "def mk_client_fn(\n",
    "    partitioner: Partitioner,\n",
    ") -> Callable[[str], Client]:\n",
    "    \"\"\"Return a function which creates a new Client for a given partition.\"\"\"\n",
    "\n",
    "    def client_fn(context: Context) -> Client:\n",
    "        \"\"\"Create a new Client for partition i.\"\"\"\n",
    "        partition_id = int(context.node_config[\"partition-id\"])\n",
    "        client_dataset = partitioner.load_partition(partition_id)\n",
    "        client_tf = dataset_to_tf(client_dataset, batch_size=BATCH_SIZE, shuffle=True)\n",
    "        return FlowerClient(trainset=client_tf).to_client()\n",
    "\n",
    "    return client_fn\n",
    "\n",
    "\n",
    "client_fn = mk_client_fn(partitioner)\n",
    "client_app = ClientApp(client_fn=client_fn)\n"
   ]
  },
  {
   "cell_type": "markdown",
   "metadata": {},
   "source": [
    "Finally, let's try federated learning!"
   ]
  },
  {
   "cell_type": "code",
   "execution_count": 25,
   "metadata": {},
   "outputs": [],
   "source": [
    "from flwr.common import ndarrays_to_parameters\n",
    "from flwr.server import ServerApp, ServerAppComponents, ServerConfig\n",
    "from flwr.server.strategy import FedAvg, Strategy\n",
    "\n",
    "\n",
    "def mk_server_fn(\n",
    "    strategy: Strategy,\n",
    "    num_rounds: int = 10,\n",
    ") -> Callable[[Context], ServerAppComponents]:\n",
    "    def server_fn(context: Context) -> ServerAppComponents:\n",
    "        config = ServerConfig(num_rounds=num_rounds)\n",
    "        return ServerAppComponents(\n",
    "            strategy=strategy,\n",
    "            config=config,\n",
    "        )\n",
    "\n",
    "    return server_fn\n",
    "\n",
    "\n",
    "evaluate_fn, history = get_evaluate_fn(dds[\"test\"])\n",
    "\n",
    "strategy = FedAvg(\n",
    "    fraction_fit=1.0,  # Sample 100% of available clients for training\n",
    "    fraction_evaluate=0.0,  # Disable the federated evaluation\n",
    "    min_fit_clients=NUM_CLIENTS,  # Always sample all clients\n",
    "    min_available_clients=NUM_CLIENTS,\n",
    "    evaluate_fn=evaluate_fn,\n",
    "    initial_parameters=ndarrays_to_parameters(mk_model().get_weights()),\n",
    ")\n",
    "\n",
    "server_app = ServerApp(server_fn=mk_server_fn(strategy, num_rounds=NUM_ROUNDS))"
   ]
  },
  {
   "cell_type": "code",
   "execution_count": 26,
   "metadata": {},
   "outputs": [
    {
     "name": "stderr",
     "output_type": "stream",
     "text": [
      "\u001b[92mINFO \u001b[0m:      Starting Flower ServerApp, config: num_rounds=10, no round_timeout\n",
      "\u001b[92mINFO \u001b[0m:      \n",
      "\u001b[92mINFO \u001b[0m:      [INIT]\n",
      "\u001b[92mINFO \u001b[0m:      Using initial global parameters provided by strategy\n",
      "\u001b[92mINFO \u001b[0m:      Starting evaluation of initial global parameters\n",
      "\u001b[92mINFO \u001b[0m:      initial parameters (loss, other metrics): 0.7292262315750122, {'accuracy': np.float64(0.6052608232789212), 'precision': np.float64(0.8159331834243495), 'recall': np.float64(0.3958544377776046), 'f1': np.float64(0.5330814838134215), 'miss_rate': np.float64(0.6041455622223953)}\n",
      "\u001b[92mINFO \u001b[0m:      \n",
      "\u001b[92mINFO \u001b[0m:      [ROUND 1]\n",
      "\u001b[92mINFO \u001b[0m:      configure_fit: strategy sampled 10 clients (out of 10)\n",
      "\u001b[36m(pid=253166)\u001b[0m 2025-07-20 08:47:39.094474: I tensorflow/core/util/port.cc:153] oneDNN custom operations are on. You may see slightly different numerical results due to floating-point round-off errors from different computation orders. To turn them off, set the environment variable `TF_ENABLE_ONEDNN_OPTS=0`.\n",
      "\u001b[36m(pid=253164)\u001b[0m 2025-07-20 08:47:39.138309: E external/local_xla/xla/stream_executor/cuda/cuda_fft.cc:467] Unable to register cuFFT factory: Attempting to register factory for plugin cuFFT when one has already been registered\n",
      "\u001b[36m(pid=253164)\u001b[0m WARNING: All log messages before absl::InitializeLog() is called are written to STDERR\n",
      "\u001b[36m(pid=253164)\u001b[0m E0000 00:00:1752994059.173217  253164 cuda_dnn.cc:8579] Unable to register cuDNN factory: Attempting to register factory for plugin cuDNN when one has already been registered\n",
      "\u001b[36m(pid=253164)\u001b[0m E0000 00:00:1752994059.183643  253164 cuda_blas.cc:1407] Unable to register cuBLAS factory: Attempting to register factory for plugin cuBLAS when one has already been registered\n",
      "\u001b[36m(pid=253164)\u001b[0m W0000 00:00:1752994059.211921  253164 computation_placer.cc:177] computation placer already registered. Please check linkage and avoid linking the same target more than once.\n",
      "\u001b[36m(pid=253164)\u001b[0m W0000 00:00:1752994059.211994  253164 computation_placer.cc:177] computation placer already registered. Please check linkage and avoid linking the same target more than once.\n",
      "\u001b[36m(pid=253164)\u001b[0m W0000 00:00:1752994059.212001  253164 computation_placer.cc:177] computation placer already registered. Please check linkage and avoid linking the same target more than once.\n",
      "\u001b[36m(pid=253164)\u001b[0m W0000 00:00:1752994059.212006  253164 computation_placer.cc:177] computation placer already registered. Please check linkage and avoid linking the same target more than once.\n",
      "\u001b[36m(pid=253166)\u001b[0m 2025-07-20 08:47:39.178422: I tensorflow/core/platform/cpu_feature_guard.cc:210] This TensorFlow binary is optimized to use available CPU instructions in performance-critical operations.\n",
      "\u001b[36m(pid=253166)\u001b[0m To enable the following instructions: AVX2 AVX_VNNI FMA, in other operations, rebuild TensorFlow with the appropriate compiler flags.\n",
      "Filter:   0%|          | 0/12597 [00:00<?, ? examples/s]\n",
      "\u001b[36m(pid=253159)\u001b[0m 2025-07-20 08:47:39.476528: I tensorflow/core/util/port.cc:153] oneDNN custom operations are on. You may see slightly different numerical results due to floating-point round-off errors from different computation orders. To turn them off, set the environment variable `TF_ENABLE_ONEDNN_OPTS=0`.\u001b[32m [repeated 6x across cluster] (Ray deduplicates logs by default. Set RAY_DEDUP_LOGS=0 to disable log deduplication, or see https://docs.ray.io/en/master/ray-observability/user-guides/configure-logging.html#log-deduplication for more options.)\u001b[0m\n",
      "\u001b[36m(pid=253159)\u001b[0m 2025-07-20 08:47:39.507792: E external/local_xla/xla/stream_executor/cuda/cuda_fft.cc:467] Unable to register cuFFT factory: Attempting to register factory for plugin cuFFT when one has already been registered\u001b[32m [repeated 6x across cluster]\u001b[0m\n",
      "\u001b[36m(pid=253159)\u001b[0m WARNING: All log messages before absl::InitializeLog() is called are written to STDERR\u001b[32m [repeated 6x across cluster]\u001b[0m\n",
      "\u001b[36m(pid=253159)\u001b[0m E0000 00:00:1752994059.544617  253159 cuda_dnn.cc:8579] Unable to register cuDNN factory: Attempting to register factory for plugin cuDNN when one has already been registered\u001b[32m [repeated 6x across cluster]\u001b[0m\n",
      "\u001b[36m(pid=253159)\u001b[0m E0000 00:00:1752994059.555584  253159 cuda_blas.cc:1407] Unable to register cuBLAS factory: Attempting to register factory for plugin cuBLAS when one has already been registered\u001b[32m [repeated 6x across cluster]\u001b[0m\n",
      "\u001b[36m(pid=253159)\u001b[0m W0000 00:00:1752994059.583890  253159 computation_placer.cc:177] computation placer already registered. Please check linkage and avoid linking the same target more than once.\u001b[32m [repeated 24x across cluster]\u001b[0m\n",
      "\u001b[36m(pid=253159)\u001b[0m 2025-07-20 08:47:39.592208: I tensorflow/core/platform/cpu_feature_guard.cc:210] This TensorFlow binary is optimized to use available CPU instructions in performance-critical operations.\u001b[32m [repeated 6x across cluster]\u001b[0m\n",
      "\u001b[36m(pid=253159)\u001b[0m To enable the following instructions: AVX2 AVX_VNNI FMA, in other operations, rebuild TensorFlow with the appropriate compiler flags.\u001b[32m [repeated 6x across cluster]\u001b[0m\n",
      "Filter:   8%|▊         | 1000/12597 [00:00<00:02, 3892.06 examples/s]\n",
      "Filter:  16%|█▌        | 2000/12597 [00:00<00:02, 3975.33 examples/s]\n",
      "Filter:  95%|█████████▌| 12000/12597 [00:02<00:00, 5550.08 examples/s]\n",
      "Filter: 100%|██████████| 12597/12597 [00:02<00:00, 5768.03 examples/s]\n",
      "\u001b[36m(ClientAppActor pid=253166)\u001b[0m 2025-07-20 08:47:48.215186: E external/local_xla/xla/stream_executor/cuda/cuda_platform.cc:51] failed call to cuInit: INTERNAL: CUDA error: Failed call to cuInit: UNKNOWN ERROR (303)\n",
      "Filter: 100%|██████████| 12597/12597 [00:03<00:00, 3550.98 examples/s]\n",
      "Filter:   0%|          | 0/12598 [00:00<?, ? examples/s]\u001b[32m [repeated 6x across cluster]\u001b[0m\n",
      "Filter:  87%|████████▋ | 11000/12597 [00:03<00:00, 3325.75 examples/s]\u001b[32m [repeated 75x across cluster]\u001b[0m\n",
      "Filter:  95%|█████████▌| 12000/12597 [00:03<00:00, 3270.96 examples/s]\u001b[32m [repeated 9x across cluster]\u001b[0m\n",
      "\u001b[36m(ClientAppActor pid=253164)\u001b[0m 2025-07-20 08:47:50.534151: E external/local_xla/xla/stream_executor/cuda/cuda_platform.cc:51] failed call to cuInit: INTERNAL: CUDA error: Failed call to cuInit: UNKNOWN ERROR (303)\u001b[32m [repeated 6x across cluster]\u001b[0m\n",
      "Filter: 100%|██████████| 12597/12597 [00:03<00:00, 3436.92 examples/s]\u001b[32m [repeated 3x across cluster]\u001b[0m\n",
      "Filter:   0%|          | 0/12597 [00:00<?, ? examples/s]\n",
      "Filter:   0%|          | 0/12597 [00:00<?, ? examples/s]\n",
      "\u001b[92mINFO \u001b[0m:      aggregate_fit: received 10 results and 0 failures\n",
      "\u001b[93mWARNING \u001b[0m:   No fit_metrics_aggregation_fn provided\n",
      "\u001b[92mINFO \u001b[0m:      fit progress: (1, 0.7026512622833252, {'accuracy': np.float64(0.7141589779985805), 'precision': np.float64(0.9898788529366661), 'recall': np.float64(0.503000077924102), 'f1': np.float64(0.6670455719747855), 'miss_rate': np.float64(0.49699992207589805)}, 32.37050757899851)\n",
      "\u001b[92mINFO \u001b[0m:      configure_evaluate: no clients selected, skipping evaluation\n",
      "\u001b[92mINFO \u001b[0m:      \n",
      "\u001b[92mINFO \u001b[0m:      [ROUND 2]\n",
      "\u001b[92mINFO \u001b[0m:      configure_fit: strategy sampled 10 clients (out of 10)\n",
      "Filter:  87%|████████▋ | 11000/12597 [00:02<00:00, 4754.06 examples/s]\u001b[32m [repeated 33x across cluster]\u001b[0m\n",
      "Filter:  95%|█████████▌| 12000/12597 [00:02<00:00, 4801.24 examples/s]\u001b[32m [repeated 5x across cluster]\u001b[0m\n",
      "Filter: 100%|██████████| 12597/12597 [00:02<00:00, 4316.88 examples/s]\n",
      "Filter:   0%|          | 0/12597 [00:00<?, ? examples/s]\u001b[32m [repeated 2x across cluster]\u001b[0m\n",
      "Filter: 100%|██████████| 12598/12598 [00:02<00:00, 4775.08 examples/s]\n",
      "Filter:  87%|████████▋ | 11000/12598 [00:02<00:00, 3401.91 examples/s]\u001b[32m [repeated 77x across cluster]\u001b[0m\n",
      "Filter: 100%|██████████| 12598/12598 [00:03<00:00, 3607.45 examples/s]\u001b[32m [repeated 14x across cluster]\u001b[0m\n",
      "Filter:   0%|          | 0/12597 [00:00<?, ? examples/s]\u001b[32m [repeated 7x across cluster]\u001b[0m\n",
      "Filter: 100%|██████████| 12597/12597 [00:03<00:00, 3748.66 examples/s]\u001b[32m [repeated 2x across cluster]\u001b[0m\n",
      "\u001b[92mINFO \u001b[0m:      aggregate_fit: received 10 results and 0 failures\n",
      "\u001b[92mINFO \u001b[0m:      fit progress: (2, 0.7193718552589417, {'accuracy': np.float64(0.7331440738112136), 'precision': np.float64(0.9893754486719311), 'recall': np.float64(0.5369749863632821), 'f1': np.float64(0.6961309223153854), 'miss_rate': np.float64(0.46302501363671783)}, 53.06955619699875)\n",
      "\u001b[92mINFO \u001b[0m:      configure_evaluate: no clients selected, skipping evaluation\n",
      "\u001b[92mINFO \u001b[0m:      \n",
      "\u001b[92mINFO \u001b[0m:      [ROUND 3]\n",
      "\u001b[92mINFO \u001b[0m:      configure_fit: strategy sampled 10 clients (out of 10)\n",
      "Filter:  87%|████████▋ | 11000/12597 [00:02<00:00, 4099.84 examples/s]\u001b[32m [repeated 33x across cluster]\u001b[0m\n",
      "Filter:  95%|█████████▌| 12000/12597 [00:03<00:00, 4205.00 examples/s]\u001b[32m [repeated 5x across cluster]\u001b[0m\n",
      "Filter:   0%|          | 0/12597 [00:00<?, ? examples/s]\u001b[32m [repeated 3x across cluster]\u001b[0m\n",
      "Filter: 100%|██████████| 12597/12597 [00:03<00:00, 3818.07 examples/s]\n",
      "Filter: 100%|██████████| 12598/12598 [00:03<00:00, 3959.25 examples/s]\n",
      "Filter:  87%|████████▋ | 11000/12598 [00:02<00:00, 3707.73 examples/s]\u001b[32m [repeated 77x across cluster]\u001b[0m\n",
      "Filter: 100%|██████████| 12597/12597 [00:03<00:00, 4109.98 examples/s]\u001b[32m [repeated 13x across cluster]\u001b[0m\n",
      "Filter:   0%|          | 0/12597 [00:00<?, ? examples/s]\u001b[32m [repeated 7x across cluster]\u001b[0m\n",
      "Filter: 100%|██████████| 12598/12598 [00:03<00:00, 3984.19 examples/s]\n",
      "Filter: 100%|██████████| 12597/12597 [00:02<00:00, 4339.67 examples/s]\n",
      "\u001b[92mINFO \u001b[0m:      aggregate_fit: received 10 results and 0 failures\n",
      "\u001b[92mINFO \u001b[0m:      fit progress: (3, 0.7604384422302246, {'accuracy': np.float64(0.7457416607523066), 'precision': np.float64(0.9856380796060731), 'recall': np.float64(0.5615210784695707), 'f1': np.float64(0.715448768864178), 'miss_rate': np.float64(0.4384789215304294)}, 72.96825118099514)\n",
      "\u001b[92mINFO \u001b[0m:      configure_evaluate: no clients selected, skipping evaluation\n",
      "\u001b[92mINFO \u001b[0m:      \n",
      "\u001b[92mINFO \u001b[0m:      [ROUND 4]\n",
      "\u001b[92mINFO \u001b[0m:      configure_fit: strategy sampled 10 clients (out of 10)\n",
      "Filter:  87%|████████▋ | 11000/12597 [00:02<00:00, 4718.93 examples/s]\u001b[32m [repeated 33x across cluster]\u001b[0m\n",
      "Filter: 100%|██████████| 12597/12597 [00:02<00:00, 4411.17 examples/s]\u001b[32m [repeated 6x across cluster]\u001b[0m\n",
      "Filter:   0%|          | 0/12597 [00:00<?, ? examples/s]\u001b[32m [repeated 3x across cluster]\u001b[0m\n",
      "Filter: 100%|██████████| 12598/12598 [00:03<00:00, 4153.32 examples/s]\n",
      "Filter:  87%|████████▋ | 11000/12597 [00:02<00:00, 3494.82 examples/s]\u001b[32m [repeated 77x across cluster]\u001b[0m\n",
      "Filter: 100%|██████████| 12597/12597 [00:03<00:00, 3991.72 examples/s]\u001b[32m [repeated 11x across cluster]\u001b[0m\n",
      "Filter:   0%|          | 0/12597 [00:00<?, ? examples/s]\u001b[32m [repeated 7x across cluster]\u001b[0m\n",
      "Filter: 100%|██████████| 12597/12597 [00:03<00:00, 3863.36 examples/s]\u001b[32m [repeated 2x across cluster]\u001b[0m\n",
      "\u001b[92mINFO \u001b[0m:      aggregate_fit: received 10 results and 0 failures\n",
      "\u001b[92mINFO \u001b[0m:      fit progress: (4, 0.8391996026039124, {'accuracy': np.float64(0.7619765791341376), 'precision': np.float64(0.9829258828094684), 'recall': np.float64(0.5921452505259877), 'f1': np.float64(0.7390585489204435), 'miss_rate': np.float64(0.4078547494740123)}, 93.44637086500006)\n",
      "\u001b[92mINFO \u001b[0m:      configure_evaluate: no clients selected, skipping evaluation\n",
      "\u001b[92mINFO \u001b[0m:      \n",
      "\u001b[92mINFO \u001b[0m:      [ROUND 5]\n",
      "\u001b[92mINFO \u001b[0m:      configure_fit: strategy sampled 10 clients (out of 10)\n",
      "Filter:  87%|████████▋ | 11000/12597 [00:01<00:00, 7636.66 examples/s]\u001b[32m [repeated 33x across cluster]\u001b[0m\n",
      "Filter: 100%|██████████| 12597/12597 [00:02<00:00, 5943.92 examples/s]\u001b[32m [repeated 4x across cluster]\u001b[0m\n",
      "Filter:   0%|          | 0/12597 [00:00<?, ? examples/s]\u001b[32m [repeated 3x across cluster]\u001b[0m\n",
      "Filter: 100%|██████████| 12597/12597 [00:03<00:00, 4178.37 examples/s]\n",
      "Filter: 100%|██████████| 12598/12598 [00:02<00:00, 4868.13 examples/s]\n",
      "Filter:  87%|████████▋ | 11000/12597 [00:02<00:00, 3654.00 examples/s]\u001b[32m [repeated 77x across cluster]\u001b[0m\n",
      "Filter:  95%|█████████▌| 12000/12597 [00:03<00:00, 3567.76 examples/s]\u001b[32m [repeated 9x across cluster]\u001b[0m\n",
      "Filter:   0%|          | 0/12597 [00:00<?, ? examples/s]\u001b[32m [repeated 7x across cluster]\u001b[0m\n",
      "Filter: 100%|██████████| 12597/12597 [00:03<00:00, 3903.56 examples/s]\u001b[32m [repeated 4x across cluster]\u001b[0m\n",
      "\u001b[92mINFO \u001b[0m:      aggregate_fit: received 10 results and 0 failures\n",
      "\u001b[92mINFO \u001b[0m:      fit progress: (5, 0.9214568138122559, {'accuracy': np.float64(0.7629080908445706), 'precision': np.float64(0.9824742268041237), 'recall': np.float64(0.5940933530741058), 'f1': np.float64(0.7404457825474676), 'miss_rate': np.float64(0.4059066469258942)}, 113.06010779899952)\n",
      "\u001b[92mINFO \u001b[0m:      configure_evaluate: no clients selected, skipping evaluation\n",
      "\u001b[92mINFO \u001b[0m:      \n",
      "\u001b[92mINFO \u001b[0m:      [ROUND 6]\n",
      "\u001b[92mINFO \u001b[0m:      configure_fit: strategy sampled 10 clients (out of 10)\n",
      "Filter:  87%|████████▋ | 11000/12597 [00:02<00:00, 6194.49 examples/s]\u001b[32m [repeated 33x across cluster]\u001b[0m\n",
      "Filter: 100%|██████████| 12597/12597 [00:02<00:00, 5562.88 examples/s]\u001b[32m [repeated 7x across cluster]\u001b[0m\n",
      "Filter:   0%|          | 0/12597 [00:00<?, ? examples/s]\u001b[32m [repeated 3x across cluster]\u001b[0m\n",
      "Filter: 100%|██████████| 12598/12598 [00:01<00:00, 6558.14 examples/s]\n",
      "Filter:  87%|████████▋ | 11000/12597 [00:02<00:00, 3525.76 examples/s]\u001b[32m [repeated 76x across cluster]\u001b[0m\n",
      "Filter: 100%|██████████| 12597/12597 [00:03<00:00, 3747.36 examples/s]\u001b[32m [repeated 11x across cluster]\u001b[0m\n",
      "Filter:   0%|          | 0/12597 [00:00<?, ? examples/s]\u001b[32m [repeated 7x across cluster]\u001b[0m\n",
      "Filter: 100%|██████████| 12598/12598 [00:03<00:00, 3955.93 examples/s]\u001b[32m [repeated 3x across cluster]\u001b[0m\n",
      "\u001b[92mINFO \u001b[0m:      aggregate_fit: received 10 results and 0 failures\n",
      "\u001b[92mINFO \u001b[0m:      fit progress: (6, 0.9896488189697266, {'accuracy': np.float64(0.7622870830376153), 'precision': np.float64(0.9816963134828564), 'recall': np.float64(0.593469960258708), 'f1': np.float64(0.7397406633966296), 'miss_rate': np.float64(0.406530039741292)}, 134.28915743299876)\n",
      "\u001b[92mINFO \u001b[0m:      configure_evaluate: no clients selected, skipping evaluation\n",
      "\u001b[92mINFO \u001b[0m:      \n",
      "\u001b[92mINFO \u001b[0m:      [ROUND 7]\n",
      "\u001b[92mINFO \u001b[0m:      configure_fit: strategy sampled 10 clients (out of 10)\n",
      "Filter:  87%|████████▋ | 11000/12597 [00:02<00:00, 4134.01 examples/s]\u001b[32m [repeated 33x across cluster]\u001b[0m\n",
      "Filter:  95%|█████████▌| 12000/12597 [00:03<00:00, 4293.01 examples/s]\u001b[32m [repeated 5x across cluster]\u001b[0m\n",
      "Filter:   0%|          | 0/12598 [00:00<?, ? examples/s]\u001b[32m [repeated 3x across cluster]\u001b[0m\n",
      "Filter: 100%|██████████| 12597/12597 [00:03<00:00, 3934.68 examples/s]\n",
      "Filter: 100%|██████████| 12597/12597 [00:02<00:00, 5277.56 examples/s]\n",
      "Filter:  87%|████████▋ | 11000/12598 [00:03<00:00, 3141.72 examples/s]\u001b[32m [repeated 77x across cluster]\u001b[0m\n",
      "Filter:  95%|█████████▌| 12000/12598 [00:03<00:00, 3116.67 examples/s]\u001b[32m [repeated 7x across cluster]\u001b[0m\n",
      "Filter:   0%|          | 0/12597 [00:00<?, ? examples/s]\u001b[32m [repeated 7x across cluster]\u001b[0m\n",
      "Filter: 100%|██████████| 12598/12598 [00:03<00:00, 3171.67 examples/s]\u001b[32m [repeated 6x across cluster]\u001b[0m\n",
      "\u001b[92mINFO \u001b[0m:      aggregate_fit: received 10 results and 0 failures\n",
      "\u001b[92mINFO \u001b[0m:      fit progress: (7, 1.0416237115859985, {'accuracy': np.float64(0.7626419446415897), 'precision': np.float64(0.980601233299075), 'recall': np.float64(0.5947946699914284), 'f1': np.float64(0.7404569044962894), 'miss_rate': np.float64(0.4052053300085717)}, 157.36808493799617)\n",
      "\u001b[92mINFO \u001b[0m:      configure_evaluate: no clients selected, skipping evaluation\n",
      "\u001b[92mINFO \u001b[0m:      \n",
      "\u001b[92mINFO \u001b[0m:      [ROUND 8]\n",
      "\u001b[92mINFO \u001b[0m:      configure_fit: strategy sampled 10 clients (out of 10)\n",
      "Filter:  87%|████████▋ | 11000/12597 [00:03<00:00, 3727.91 examples/s]\u001b[32m [repeated 33x across cluster]\u001b[0m\n",
      "Filter:  95%|█████████▌| 12000/12597 [00:03<00:00, 3793.91 examples/s]\u001b[32m [repeated 4x across cluster]\u001b[0m\n",
      "Filter:   0%|          | 0/12597 [00:00<?, ? examples/s]\u001b[32m [repeated 3x across cluster]\u001b[0m\n",
      "Filter: 100%|██████████| 12597/12597 [00:03<00:00, 3571.64 examples/s]\u001b[32m [repeated 2x across cluster]\u001b[0m\n",
      "Filter:  87%|████████▋ | 11000/12597 [00:02<00:00, 3565.84 examples/s]\u001b[32m [repeated 76x across cluster]\u001b[0m\n",
      "Filter: 100%|██████████| 12598/12598 [00:03<00:00, 3743.60 examples/s]\u001b[32m [repeated 10x across cluster]\u001b[0m\n",
      "Filter:   0%|          | 0/12597 [00:00<?, ? examples/s]\u001b[32m [repeated 7x across cluster]\u001b[0m\n",
      "Filter: 100%|██████████| 12597/12597 [00:03<00:00, 3738.50 examples/s]\u001b[32m [repeated 4x across cluster]\u001b[0m\n",
      "\u001b[92mINFO \u001b[0m:      aggregate_fit: received 10 results and 0 failures\n",
      "\u001b[92mINFO \u001b[0m:      fit progress: (8, 1.082484483718872, {'accuracy': np.float64(0.763041163946061), 'precision': np.float64(0.9802538787023978), 'recall': np.float64(0.5957297592145251), 'f1': np.float64(0.7410818146568438), 'miss_rate': np.float64(0.40427024078547497)}, 178.33708174899948)\n",
      "\u001b[92mINFO \u001b[0m:      configure_evaluate: no clients selected, skipping evaluation\n",
      "\u001b[92mINFO \u001b[0m:      \n",
      "\u001b[92mINFO \u001b[0m:      [ROUND 9]\n",
      "\u001b[92mINFO \u001b[0m:      configure_fit: strategy sampled 10 clients (out of 10)\n",
      "Filter:  87%|████████▋ | 11000/12597 [00:02<00:00, 7011.24 examples/s]\u001b[32m [repeated 33x across cluster]\u001b[0m\n",
      "Filter: 100%|██████████| 12597/12597 [00:02<00:00, 5065.30 examples/s]\u001b[32m [repeated 6x across cluster]\u001b[0m\n",
      "Filter:   0%|          | 0/12598 [00:00<?, ? examples/s]\u001b[32m [repeated 3x across cluster]\u001b[0m\n",
      "Filter: 100%|██████████| 12597/12597 [00:02<00:00, 4960.09 examples/s]\n",
      "Filter:  87%|████████▋ | 11000/12597 [00:02<00:00, 3377.89 examples/s]\u001b[32m [repeated 77x across cluster]\u001b[0m\n",
      "Filter:  95%|█████████▌| 12000/12597 [00:03<00:00, 3841.75 examples/s]\u001b[32m [repeated 10x across cluster]\u001b[0m\n",
      "Filter:   0%|          | 0/12597 [00:00<?, ? examples/s]\u001b[32m [repeated 7x across cluster]\u001b[0m\n",
      "Filter: 100%|██████████| 12597/12597 [00:03<00:00, 3780.01 examples/s]\u001b[32m [repeated 4x across cluster]\u001b[0m\n",
      "\u001b[92mINFO \u001b[0m:      aggregate_fit: received 10 results and 0 failures\n",
      "\u001b[92mINFO \u001b[0m:      fit progress: (9, 1.1126364469528198, {'accuracy': np.float64(0.7629080908445706), 'precision': np.float64(0.9796310530361261), 'recall': np.float64(0.5958856074183745), 'f1': np.float64(0.7410242744319008), 'miss_rate': np.float64(0.4041143925816255)}, 199.3942178590005)\n",
      "\u001b[92mINFO \u001b[0m:      configure_evaluate: no clients selected, skipping evaluation\n",
      "\u001b[92mINFO \u001b[0m:      \n",
      "\u001b[92mINFO \u001b[0m:      [ROUND 10]\n",
      "\u001b[92mINFO \u001b[0m:      configure_fit: strategy sampled 10 clients (out of 10)\n",
      "Filter:  87%|████████▋ | 11000/12597 [00:02<00:00, 4225.03 examples/s]\u001b[32m [repeated 33x across cluster]\u001b[0m\n",
      "Filter:  95%|█████████▌| 12000/12597 [00:03<00:00, 4333.72 examples/s]\u001b[32m [repeated 5x across cluster]\u001b[0m\n",
      "Filter:   0%|          | 0/12597 [00:00<?, ? examples/s]\u001b[32m [repeated 3x across cluster]\u001b[0m\n",
      "Filter: 100%|██████████| 12597/12597 [00:03<00:00, 3788.81 examples/s]\n",
      "Filter: 100%|██████████| 12597/12597 [00:02<00:00, 4683.12 examples/s]\n",
      "Filter:  87%|████████▋ | 11000/12597 [00:02<00:00, 3340.65 examples/s]\u001b[32m [repeated 77x across cluster]\u001b[0m\n",
      "Filter:  95%|█████████▌| 12000/12597 [00:03<00:00, 3283.78 examples/s]\u001b[32m [repeated 11x across cluster]\u001b[0m\n",
      "Filter:   0%|          | 0/12597 [00:00<?, ? examples/s]\u001b[32m [repeated 7x across cluster]\u001b[0m\n",
      "Filter: 100%|██████████| 12597/12597 [00:03<00:00, 3749.79 examples/s]\u001b[32m [repeated 3x across cluster]\u001b[0m\n",
      "\u001b[92mINFO \u001b[0m:      aggregate_fit: received 10 results and 0 failures\n",
      "\u001b[92mINFO \u001b[0m:      fit progress: (10, 1.137582540512085, {'accuracy': np.float64(0.7625088715400994), 'precision': np.float64(0.9783804528591531), 'recall': np.float64(0.5959635315202992), 'f1': np.float64(0.740726392251816), 'miss_rate': np.float64(0.40403646847970076)}, 217.49849442399864)\n",
      "\u001b[92mINFO \u001b[0m:      configure_evaluate: no clients selected, skipping evaluation\n",
      "\u001b[92mINFO \u001b[0m:      \n",
      "\u001b[92mINFO \u001b[0m:      [SUMMARY]\n",
      "\u001b[92mINFO \u001b[0m:      Run finished 10 round(s) in 217.50s\n",
      "\u001b[92mINFO \u001b[0m:      \tHistory (loss, centralized):\n",
      "\u001b[92mINFO \u001b[0m:      \t\tround 0: 0.7292262315750122\n",
      "\u001b[92mINFO \u001b[0m:      \t\tround 1: 0.7026512622833252\n",
      "\u001b[92mINFO \u001b[0m:      \t\tround 2: 0.7193718552589417\n",
      "\u001b[92mINFO \u001b[0m:      \t\tround 3: 0.7604384422302246\n",
      "\u001b[92mINFO \u001b[0m:      \t\tround 4: 0.8391996026039124\n",
      "\u001b[92mINFO \u001b[0m:      \t\tround 5: 0.9214568138122559\n",
      "\u001b[92mINFO \u001b[0m:      \t\tround 6: 0.9896488189697266\n",
      "\u001b[92mINFO \u001b[0m:      \t\tround 7: 1.0416237115859985\n",
      "\u001b[92mINFO \u001b[0m:      \t\tround 8: 1.082484483718872\n",
      "\u001b[92mINFO \u001b[0m:      \t\tround 9: 1.1126364469528198\n",
      "\u001b[92mINFO \u001b[0m:      \t\tround 10: 1.137582540512085\n",
      "\u001b[92mINFO \u001b[0m:      \tHistory (metrics, centralized):\n",
      "\u001b[92mINFO \u001b[0m:      \t{'accuracy': [(0, np.float64(0.6052608232789212)),\n",
      "\u001b[92mINFO \u001b[0m:      \t              (1, np.float64(0.7141589779985805)),\n",
      "\u001b[92mINFO \u001b[0m:      \t              (2, np.float64(0.7331440738112136)),\n",
      "\u001b[92mINFO \u001b[0m:      \t              (3, np.float64(0.7457416607523066)),\n",
      "\u001b[92mINFO \u001b[0m:      \t              (4, np.float64(0.7619765791341376)),\n",
      "\u001b[92mINFO \u001b[0m:      \t              (5, np.float64(0.7629080908445706)),\n",
      "\u001b[92mINFO \u001b[0m:      \t              (6, np.float64(0.7622870830376153)),\n",
      "\u001b[92mINFO \u001b[0m:      \t              (7, np.float64(0.7626419446415897)),\n",
      "\u001b[92mINFO \u001b[0m:      \t              (8, np.float64(0.763041163946061)),\n",
      "\u001b[92mINFO \u001b[0m:      \t              (9, np.float64(0.7629080908445706)),\n",
      "\u001b[92mINFO \u001b[0m:      \t              (10, np.float64(0.7625088715400994))],\n",
      "\u001b[92mINFO \u001b[0m:      \t 'f1': [(0, np.float64(0.5330814838134215)),\n",
      "\u001b[92mINFO \u001b[0m:      \t        (1, np.float64(0.6670455719747855)),\n",
      "\u001b[92mINFO \u001b[0m:      \t        (2, np.float64(0.6961309223153854)),\n",
      "\u001b[92mINFO \u001b[0m:      \t        (3, np.float64(0.715448768864178)),\n",
      "\u001b[92mINFO \u001b[0m:      \t        (4, np.float64(0.7390585489204435)),\n",
      "\u001b[92mINFO \u001b[0m:      \t        (5, np.float64(0.7404457825474676)),\n",
      "\u001b[92mINFO \u001b[0m:      \t        (6, np.float64(0.7397406633966296)),\n",
      "\u001b[92mINFO \u001b[0m:      \t        (7, np.float64(0.7404569044962894)),\n",
      "\u001b[92mINFO \u001b[0m:      \t        (8, np.float64(0.7410818146568438)),\n",
      "\u001b[92mINFO \u001b[0m:      \t        (9, np.float64(0.7410242744319008)),\n",
      "\u001b[92mINFO \u001b[0m:      \t        (10, np.float64(0.740726392251816))],\n",
      "\u001b[92mINFO \u001b[0m:      \t 'miss_rate': [(0, np.float64(0.6041455622223953)),\n",
      "\u001b[92mINFO \u001b[0m:      \t               (1, np.float64(0.49699992207589805)),\n",
      "\u001b[92mINFO \u001b[0m:      \t               (2, np.float64(0.46302501363671783)),\n",
      "\u001b[92mINFO \u001b[0m:      \t               (3, np.float64(0.4384789215304294)),\n",
      "\u001b[92mINFO \u001b[0m:      \t               (4, np.float64(0.4078547494740123)),\n",
      "\u001b[92mINFO \u001b[0m:      \t               (5, np.float64(0.4059066469258942)),\n",
      "\u001b[92mINFO \u001b[0m:      \t               (6, np.float64(0.406530039741292)),\n",
      "\u001b[92mINFO \u001b[0m:      \t               (7, np.float64(0.4052053300085717)),\n",
      "\u001b[92mINFO \u001b[0m:      \t               (8, np.float64(0.40427024078547497)),\n",
      "\u001b[92mINFO \u001b[0m:      \t               (9, np.float64(0.4041143925816255)),\n",
      "\u001b[92mINFO \u001b[0m:      \t               (10, np.float64(0.40403646847970076))],\n",
      "\u001b[92mINFO \u001b[0m:      \t 'precision': [(0, np.float64(0.8159331834243495)),\n",
      "\u001b[92mINFO \u001b[0m:      \t               (1, np.float64(0.9898788529366661)),\n",
      "\u001b[92mINFO \u001b[0m:      \t               (2, np.float64(0.9893754486719311)),\n",
      "\u001b[92mINFO \u001b[0m:      \t               (3, np.float64(0.9856380796060731)),\n",
      "\u001b[92mINFO \u001b[0m:      \t               (4, np.float64(0.9829258828094684)),\n",
      "\u001b[92mINFO \u001b[0m:      \t               (5, np.float64(0.9824742268041237)),\n",
      "\u001b[92mINFO \u001b[0m:      \t               (6, np.float64(0.9816963134828564)),\n",
      "\u001b[92mINFO \u001b[0m:      \t               (7, np.float64(0.980601233299075)),\n",
      "\u001b[92mINFO \u001b[0m:      \t               (8, np.float64(0.9802538787023978)),\n",
      "\u001b[92mINFO \u001b[0m:      \t               (9, np.float64(0.9796310530361261)),\n",
      "\u001b[92mINFO \u001b[0m:      \t               (10, np.float64(0.9783804528591531))],\n",
      "\u001b[92mINFO \u001b[0m:      \t 'recall': [(0, np.float64(0.3958544377776046)),\n",
      "\u001b[92mINFO \u001b[0m:      \t            (1, np.float64(0.503000077924102)),\n",
      "\u001b[92mINFO \u001b[0m:      \t            (2, np.float64(0.5369749863632821)),\n",
      "\u001b[92mINFO \u001b[0m:      \t            (3, np.float64(0.5615210784695707)),\n",
      "\u001b[92mINFO \u001b[0m:      \t            (4, np.float64(0.5921452505259877)),\n",
      "\u001b[92mINFO \u001b[0m:      \t            (5, np.float64(0.5940933530741058)),\n",
      "\u001b[92mINFO \u001b[0m:      \t            (6, np.float64(0.593469960258708)),\n",
      "\u001b[92mINFO \u001b[0m:      \t            (7, np.float64(0.5947946699914284)),\n",
      "\u001b[92mINFO \u001b[0m:      \t            (8, np.float64(0.5957297592145251)),\n",
      "\u001b[92mINFO \u001b[0m:      \t            (9, np.float64(0.5958856074183745)),\n",
      "\u001b[92mINFO \u001b[0m:      \t            (10, np.float64(0.5959635315202992))]}\n",
      "\u001b[92mINFO \u001b[0m:      \n",
      "Filter:  87%|████████▋ | 11000/12597 [00:01<00:00, 7429.65 examples/s]\u001b[32m [repeated 33x across cluster]\u001b[0m\n",
      "Filter: 100%|██████████| 12597/12597 [00:01<00:00, 6684.82 examples/s]\u001b[32m [repeated 4x across cluster]\u001b[0m\n",
      "Filter:   0%|          | 0/12597 [00:00<?, ? examples/s]\u001b[32m [repeated 2x across cluster]\u001b[0m\n",
      "Filter: 100%|██████████| 12597/12597 [00:02<00:00, 5049.50 examples/s]\n"
     ]
    }
   ],
   "source": [
    "import os\n",
    "\n",
    "# Enable GPU growth in the main process\n",
    "os.environ[\"TF_FORCE_GPU_ALLOW_GROWTH\"] = \"1\"\n",
    "\n",
    "# Start simulation\n",
    "fl.simulation.run_simulation(\n",
    "    server_app=server_app,\n",
    "    client_app=client_app,\n",
    "    num_supernodes=NUM_CLIENTS,\n",
    "    backend_config={\n",
    "        \"client_resources\": {\n",
    "            \"num_cpus\": 2,\n",
    "            \"num_gpus\": 0.1 if len(tf.config.list_physical_devices(\"GPU\")) > 0 else 0.0,\n",
    "        }\n",
    "    },\n",
    ")\n"
   ]
  },
  {
   "cell_type": "code",
   "execution_count": 27,
   "metadata": {},
   "outputs": [
    {
     "data": {
      "text/plain": [
       "{'loss': 1.137582540512085,\n",
       " 'accuracy': np.float64(0.7625088715400994),\n",
       " 'precision': np.float64(0.9783804528591531),\n",
       " 'recall': np.float64(0.5959635315202992),\n",
       " 'f1': np.float64(0.740726392251816),\n",
       " 'miss_rate': np.float64(0.40403646847970076)}"
      ]
     },
     "execution_count": 27,
     "metadata": {},
     "output_type": "execute_result"
    }
   ],
   "source": [
    "fl_weights = np.load(\"fl_weights.npy\", allow_pickle=True)\n",
    "score_fl = eval_model(fl_weights, dds[\"test\"])\n",
    "score_fl"
   ]
  },
  {
   "cell_type": "code",
   "execution_count": 28,
   "metadata": {},
   "outputs": [
    {
     "data": {
      "text/html": [
       "<div>\n",
       "<style scoped>\n",
       "    .dataframe tbody tr th:only-of-type {\n",
       "        vertical-align: middle;\n",
       "    }\n",
       "\n",
       "    .dataframe tbody tr th {\n",
       "        vertical-align: top;\n",
       "    }\n",
       "\n",
       "    .dataframe thead th {\n",
       "        text-align: right;\n",
       "    }\n",
       "</style>\n",
       "<table border=\"1\" class=\"dataframe\">\n",
       "  <thead>\n",
       "    <tr style=\"text-align: right;\">\n",
       "      <th></th>\n",
       "      <th>count</th>\n",
       "      <th>correct</th>\n",
       "      <th>missed</th>\n",
       "      <th>rate</th>\n",
       "    </tr>\n",
       "  </thead>\n",
       "  <tbody>\n",
       "    <tr>\n",
       "      <th>apache2</th>\n",
       "      <td>737.0</td>\n",
       "      <td>108.0</td>\n",
       "      <td>629.0</td>\n",
       "      <td>0.146540</td>\n",
       "    </tr>\n",
       "    <tr>\n",
       "      <th>back</th>\n",
       "      <td>359.0</td>\n",
       "      <td>0.0</td>\n",
       "      <td>359.0</td>\n",
       "      <td>0.000000</td>\n",
       "    </tr>\n",
       "    <tr>\n",
       "      <th>buffer_overflow</th>\n",
       "      <td>20.0</td>\n",
       "      <td>3.0</td>\n",
       "      <td>17.0</td>\n",
       "      <td>0.150000</td>\n",
       "    </tr>\n",
       "    <tr>\n",
       "      <th>ftp_write</th>\n",
       "      <td>3.0</td>\n",
       "      <td>0.0</td>\n",
       "      <td>3.0</td>\n",
       "      <td>0.000000</td>\n",
       "    </tr>\n",
       "    <tr>\n",
       "      <th>guess_passwd</th>\n",
       "      <td>1231.0</td>\n",
       "      <td>21.0</td>\n",
       "      <td>1210.0</td>\n",
       "      <td>0.017059</td>\n",
       "    </tr>\n",
       "    <tr>\n",
       "      <th>httptunnel</th>\n",
       "      <td>133.0</td>\n",
       "      <td>52.0</td>\n",
       "      <td>81.0</td>\n",
       "      <td>0.390977</td>\n",
       "    </tr>\n",
       "    <tr>\n",
       "      <th>imap</th>\n",
       "      <td>1.0</td>\n",
       "      <td>0.0</td>\n",
       "      <td>1.0</td>\n",
       "      <td>0.000000</td>\n",
       "    </tr>\n",
       "    <tr>\n",
       "      <th>ipsweep</th>\n",
       "      <td>141.0</td>\n",
       "      <td>123.0</td>\n",
       "      <td>18.0</td>\n",
       "      <td>0.872340</td>\n",
       "    </tr>\n",
       "    <tr>\n",
       "      <th>land</th>\n",
       "      <td>7.0</td>\n",
       "      <td>7.0</td>\n",
       "      <td>0.0</td>\n",
       "      <td>1.000000</td>\n",
       "    </tr>\n",
       "    <tr>\n",
       "      <th>loadmodule</th>\n",
       "      <td>2.0</td>\n",
       "      <td>0.0</td>\n",
       "      <td>2.0</td>\n",
       "      <td>0.000000</td>\n",
       "    </tr>\n",
       "    <tr>\n",
       "      <th>mailbomb</th>\n",
       "      <td>293.0</td>\n",
       "      <td>0.0</td>\n",
       "      <td>293.0</td>\n",
       "      <td>0.000000</td>\n",
       "    </tr>\n",
       "    <tr>\n",
       "      <th>mscan</th>\n",
       "      <td>996.0</td>\n",
       "      <td>654.0</td>\n",
       "      <td>342.0</td>\n",
       "      <td>0.656627</td>\n",
       "    </tr>\n",
       "    <tr>\n",
       "      <th>multihop</th>\n",
       "      <td>18.0</td>\n",
       "      <td>2.0</td>\n",
       "      <td>16.0</td>\n",
       "      <td>0.111111</td>\n",
       "    </tr>\n",
       "    <tr>\n",
       "      <th>named</th>\n",
       "      <td>17.0</td>\n",
       "      <td>2.0</td>\n",
       "      <td>15.0</td>\n",
       "      <td>0.117647</td>\n",
       "    </tr>\n",
       "    <tr>\n",
       "      <th>neptune</th>\n",
       "      <td>4657.0</td>\n",
       "      <td>4657.0</td>\n",
       "      <td>0.0</td>\n",
       "      <td>1.000000</td>\n",
       "    </tr>\n",
       "    <tr>\n",
       "      <th>nmap</th>\n",
       "      <td>73.0</td>\n",
       "      <td>73.0</td>\n",
       "      <td>0.0</td>\n",
       "      <td>1.000000</td>\n",
       "    </tr>\n",
       "    <tr>\n",
       "      <th>normal</th>\n",
       "      <td>9711.0</td>\n",
       "      <td>9542.0</td>\n",
       "      <td>169.0</td>\n",
       "      <td>0.982597</td>\n",
       "    </tr>\n",
       "    <tr>\n",
       "      <th>perl</th>\n",
       "      <td>2.0</td>\n",
       "      <td>0.0</td>\n",
       "      <td>2.0</td>\n",
       "      <td>0.000000</td>\n",
       "    </tr>\n",
       "    <tr>\n",
       "      <th>phf</th>\n",
       "      <td>2.0</td>\n",
       "      <td>0.0</td>\n",
       "      <td>2.0</td>\n",
       "      <td>0.000000</td>\n",
       "    </tr>\n",
       "    <tr>\n",
       "      <th>pod</th>\n",
       "      <td>41.0</td>\n",
       "      <td>36.0</td>\n",
       "      <td>5.0</td>\n",
       "      <td>0.878049</td>\n",
       "    </tr>\n",
       "    <tr>\n",
       "      <th>portsweep</th>\n",
       "      <td>157.0</td>\n",
       "      <td>157.0</td>\n",
       "      <td>0.0</td>\n",
       "      <td>1.000000</td>\n",
       "    </tr>\n",
       "    <tr>\n",
       "      <th>processtable</th>\n",
       "      <td>685.0</td>\n",
       "      <td>240.0</td>\n",
       "      <td>445.0</td>\n",
       "      <td>0.350365</td>\n",
       "    </tr>\n",
       "    <tr>\n",
       "      <th>ps</th>\n",
       "      <td>15.0</td>\n",
       "      <td>2.0</td>\n",
       "      <td>13.0</td>\n",
       "      <td>0.133333</td>\n",
       "    </tr>\n",
       "    <tr>\n",
       "      <th>rootkit</th>\n",
       "      <td>13.0</td>\n",
       "      <td>1.0</td>\n",
       "      <td>12.0</td>\n",
       "      <td>0.076923</td>\n",
       "    </tr>\n",
       "    <tr>\n",
       "      <th>saint</th>\n",
       "      <td>319.0</td>\n",
       "      <td>296.0</td>\n",
       "      <td>23.0</td>\n",
       "      <td>0.927900</td>\n",
       "    </tr>\n",
       "    <tr>\n",
       "      <th>satan</th>\n",
       "      <td>735.0</td>\n",
       "      <td>489.0</td>\n",
       "      <td>246.0</td>\n",
       "      <td>0.665306</td>\n",
       "    </tr>\n",
       "    <tr>\n",
       "      <th>sendmail</th>\n",
       "      <td>14.0</td>\n",
       "      <td>1.0</td>\n",
       "      <td>13.0</td>\n",
       "      <td>0.071429</td>\n",
       "    </tr>\n",
       "    <tr>\n",
       "      <th>smurf</th>\n",
       "      <td>665.0</td>\n",
       "      <td>563.0</td>\n",
       "      <td>102.0</td>\n",
       "      <td>0.846617</td>\n",
       "    </tr>\n",
       "    <tr>\n",
       "      <th>snmpgetattack</th>\n",
       "      <td>178.0</td>\n",
       "      <td>0.0</td>\n",
       "      <td>178.0</td>\n",
       "      <td>0.000000</td>\n",
       "    </tr>\n",
       "    <tr>\n",
       "      <th>snmpguess</th>\n",
       "      <td>331.0</td>\n",
       "      <td>1.0</td>\n",
       "      <td>330.0</td>\n",
       "      <td>0.003021</td>\n",
       "    </tr>\n",
       "    <tr>\n",
       "      <th>sqlattack</th>\n",
       "      <td>2.0</td>\n",
       "      <td>0.0</td>\n",
       "      <td>2.0</td>\n",
       "      <td>0.000000</td>\n",
       "    </tr>\n",
       "    <tr>\n",
       "      <th>teardrop</th>\n",
       "      <td>12.0</td>\n",
       "      <td>12.0</td>\n",
       "      <td>0.0</td>\n",
       "      <td>1.000000</td>\n",
       "    </tr>\n",
       "    <tr>\n",
       "      <th>udpstorm</th>\n",
       "      <td>2.0</td>\n",
       "      <td>0.0</td>\n",
       "      <td>2.0</td>\n",
       "      <td>0.000000</td>\n",
       "    </tr>\n",
       "    <tr>\n",
       "      <th>warezmaster</th>\n",
       "      <td>944.0</td>\n",
       "      <td>143.0</td>\n",
       "      <td>801.0</td>\n",
       "      <td>0.151483</td>\n",
       "    </tr>\n",
       "    <tr>\n",
       "      <th>worm</th>\n",
       "      <td>2.0</td>\n",
       "      <td>0.0</td>\n",
       "      <td>2.0</td>\n",
       "      <td>0.000000</td>\n",
       "    </tr>\n",
       "    <tr>\n",
       "      <th>xlock</th>\n",
       "      <td>9.0</td>\n",
       "      <td>0.0</td>\n",
       "      <td>9.0</td>\n",
       "      <td>0.000000</td>\n",
       "    </tr>\n",
       "    <tr>\n",
       "      <th>xsnoop</th>\n",
       "      <td>4.0</td>\n",
       "      <td>3.0</td>\n",
       "      <td>1.0</td>\n",
       "      <td>0.750000</td>\n",
       "    </tr>\n",
       "    <tr>\n",
       "      <th>xterm</th>\n",
       "      <td>13.0</td>\n",
       "      <td>2.0</td>\n",
       "      <td>11.0</td>\n",
       "      <td>0.153846</td>\n",
       "    </tr>\n",
       "  </tbody>\n",
       "</table>\n",
       "</div>"
      ],
      "text/plain": [
       "                  count  correct  missed      rate\n",
       "apache2           737.0    108.0   629.0  0.146540\n",
       "back              359.0      0.0   359.0  0.000000\n",
       "buffer_overflow    20.0      3.0    17.0  0.150000\n",
       "ftp_write           3.0      0.0     3.0  0.000000\n",
       "guess_passwd     1231.0     21.0  1210.0  0.017059\n",
       "httptunnel        133.0     52.0    81.0  0.390977\n",
       "imap                1.0      0.0     1.0  0.000000\n",
       "ipsweep           141.0    123.0    18.0  0.872340\n",
       "land                7.0      7.0     0.0  1.000000\n",
       "loadmodule          2.0      0.0     2.0  0.000000\n",
       "mailbomb          293.0      0.0   293.0  0.000000\n",
       "mscan             996.0    654.0   342.0  0.656627\n",
       "multihop           18.0      2.0    16.0  0.111111\n",
       "named              17.0      2.0    15.0  0.117647\n",
       "neptune          4657.0   4657.0     0.0  1.000000\n",
       "nmap               73.0     73.0     0.0  1.000000\n",
       "normal           9711.0   9542.0   169.0  0.982597\n",
       "perl                2.0      0.0     2.0  0.000000\n",
       "phf                 2.0      0.0     2.0  0.000000\n",
       "pod                41.0     36.0     5.0  0.878049\n",
       "portsweep         157.0    157.0     0.0  1.000000\n",
       "processtable      685.0    240.0   445.0  0.350365\n",
       "ps                 15.0      2.0    13.0  0.133333\n",
       "rootkit            13.0      1.0    12.0  0.076923\n",
       "saint             319.0    296.0    23.0  0.927900\n",
       "satan             735.0    489.0   246.0  0.665306\n",
       "sendmail           14.0      1.0    13.0  0.071429\n",
       "smurf             665.0    563.0   102.0  0.846617\n",
       "snmpgetattack     178.0      0.0   178.0  0.000000\n",
       "snmpguess         331.0      1.0   330.0  0.003021\n",
       "sqlattack           2.0      0.0     2.0  0.000000\n",
       "teardrop           12.0     12.0     0.0  1.000000\n",
       "udpstorm            2.0      0.0     2.0  0.000000\n",
       "warezmaster       944.0    143.0   801.0  0.151483\n",
       "worm                2.0      0.0     2.0  0.000000\n",
       "xlock               9.0      0.0     9.0  0.000000\n",
       "xsnoop              4.0      3.0     1.0  0.750000\n",
       "xterm              13.0      2.0    11.0  0.153846"
      ]
     },
     "execution_count": 28,
     "metadata": {},
     "output_type": "execute_result"
    }
   ],
   "source": [
    "eval_classes(fl_weights, dds[\"test\"])"
   ]
  },
  {
   "cell_type": "code",
   "execution_count": 29,
   "metadata": {},
   "outputs": [
    {
     "data": {
      "text/plain": [
       "Text(0.5, 1.0, 'NSL-KDD - Local IID vs. Local NIID vs. Federated \\n 10 clients with 10 clients per round')"
      ]
     },
     "execution_count": 29,
     "metadata": {},
     "output_type": "execute_result"
    },
    {
     "data": {
      "image/png": "[encoded data removed]",
      "text/plain": [
       "<Figure size 640x480 with 1 Axes>"
      ]
     },
     "metadata": {},
     "output_type": "display_data"
    }
   ],
   "source": [
    "round = [data[\"round\"] for data in history]\n",
    "acc = [100.0 * data[\"accuracy\"] for data in history]\n",
    "\n",
    "iid = score_iid[\"accuracy\"] * 100\n",
    "plt.axhline(\n",
    "    y=iid, label=f\"Local IID training: {iid:.4f}\", linestyle=\"--\", color=\"lightcoral\"\n",
    ")\n",
    "niid = score_niid[\"accuracy\"] * 100\n",
    "plt.axhline(\n",
    "    y=niid, label=f\"Local NIID training: {niid:.4f}\", linestyle=\"--\", color=\"darkgreen\"\n",
    ")\n",
    "plt.plot(round, acc, label=f\"Federated training: {max(acc):.4f}\")\n",
    "plt.grid()\n",
    "plt.ylabel(\"Accuracy (%)\")\n",
    "plt.xlabel(\"Round\")\n",
    "plt.legend()\n",
    "plt.title(\n",
    "    \"NSL-KDD - Local IID vs. Local NIID vs. Federated \\n 10 clients with 10 clients per\"\n",
    "    \" round\"\n",
    ")"
   ]
  }
 ],
 "metadata": {
  "kernelspec": {
   "display_name": ".venv",
   "language": "python",
   "name": "python3"
  },
  "language_info": {
   "codemirror_mode": {
    "name": "ipython",
    "version": 3
   },
   "file_extension": ".py",
   "mimetype": "text/x-python",
   "name": "python",
   "nbconvert_exporter": "python",
   "pygments_lexer": "ipython3",
   "version": "3.11.10"
  },
  "orig_nbformat": 4
 },
 "nbformat": 4,
 "nbformat_minor": 2
}
